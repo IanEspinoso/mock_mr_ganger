{
  "nbformat": 4,
  "nbformat_minor": 0,
  "metadata": {
    "accelerator": "GPU",
    "colab": {
      "name": "CNN_Model_Age_Gender_Ethnicity.ipynb",
      "provenance": [],
      "collapsed_sections": [],
      "include_colab_link": true
    },
    "kernelspec": {
      "display_name": "Python 3",
      "name": "python3"
    },
    "language_info": {
      "name": "python"
    }
  },
  "cells": [
    {
      "cell_type": "markdown",
      "metadata": {
        "id": "view-in-github",
        "colab_type": "text"
      },
      "source": [
        "<a href=\"https://colab.research.google.com/github/hargurjeet/DeepLearning/blob/main/CNN_Model_Age_Gender_Ethnicity.ipynb\" target=\"_parent\"><img src=\"https://colab.research.google.com/assets/colab-badge.svg\" alt=\"Open In Colab\"/></a>"
      ]
    },
    {
      "cell_type": "markdown",
      "metadata": {
        "id": "eYJT0u4XBaUr"
      },
      "source": [
        "# **Ethnicity Predicition Using TensorFlow- Kaggle Age, Gender and Ethnicity Dataset**"
      ]
    },
    {
      "cell_type": "markdown",
      "metadata": {
        "id": "w169jScgC-y-"
      },
      "source": [
        "It is an open source artificial intelligence library, using data flow graphs to build models. It allows developers to create large-scale neural networks with many layers. TensorFlow is mainly used for: Classification, Perception, Understanding, Discovering, Prediction and Creation.\n",
        "\n",
        "Today I build a classifer using TensorFlow that predicts the ethinicy of a given image."
      ]
    },
    {
      "cell_type": "markdown",
      "metadata": {
        "id": "32VbKWesC-qV"
      },
      "source": [
        "# **Table Of Contents**<a name=\"top\"></a>\n",
        "\n",
        "\n",
        "---\n",
        "\n",
        "\n",
        "\n",
        "---\n",
        "\n",
        "\n",
        "  1. [About the Dataset](#1)\n",
        "  2. [Loading the dataset Preprocessing](#2)\n",
        "  3. [Building Neural network using Tensorflow](#3)\n",
        "  4. [Analysing Results](#4)\n",
        "  5. [Hyper Parameterization](#5)\n",
        "  6. [Making Predicition on the best parameters](#6)\n",
        "  7. [Summary](#7)\n",
        "  8. [Future Work](#8)\n",
        "  9. [References](#9)"
      ]
    },
    {
      "cell_type": "markdown",
      "metadata": {
        "id": "SZN6uxzkFSXd"
      },
      "source": [
        "# <font color=\"white\" size=+2.0><b>1: AboutDataset</b></font> <a name=\"1\"></a>\n",
        "\n",
        "\n",
        "---\n",
        "<a href=\"#top\" class=\"btn btn-primary btn-sm\" role=\"button\" aria-pressed=\"true\" style=\"color:white\" data-toggle=\"popover\">Go to TOC</a> "
      ]
    },
    {
      "cell_type": "markdown",
      "metadata": {
        "id": "j-w47jWoFjFR"
      },
      "source": [
        "# <font color=\"white\" size=+2.0><b>2: Loading and Preprocessing the datasets</b></font> <a name=\"2\"></a>\n",
        "\n",
        "\n",
        "---\n",
        "<a href=\"#top\" class=\"btn btn-primary btn-sm\" role=\"button\" aria-pressed=\"true\" style=\"color:white\" data-toggle=\"popover\">Go to TOC</a> "
      ]
    },
    {
      "cell_type": "code",
      "metadata": {
        "colab": {
          "base_uri": "https://localhost:8080/"
        },
        "id": "fzy4VOnHDqNP",
        "outputId": "046d6a9d-dc66-4f94-b065-405368a05eef"
      },
      "source": [
        "import tensorflow as tf\n",
        "print(tf.__version__)\n",
        "from tensorflow import keras\n",
        "from tensorflow.keras import datasets, layers, models\n",
        "import matplotlib.pyplot as plt\n",
        "%matplotlib inline\n",
        "import numpy as np\n",
        "import pandas as pd"
      ],
      "execution_count": null,
      "outputs": [
        {
          "output_type": "stream",
          "text": [
            "2.4.1\n"
          ],
          "name": "stdout"
        }
      ]
    },
    {
      "cell_type": "code",
      "metadata": {
        "colab": {
          "resources": {
            "http://localhost:8080/nbextensions/google.colab/files.js": {
              "data": "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",
              "headers": [
                [
                  "content-type",
                  "application/javascript"
                ]
              ],
              "ok": true,
              "status": 200,
              "status_text": ""
            }
          },
          "base_uri": "https://localhost:8080/",
          "height": 89
        },
        "id": "V6_v-TGWD7zL",
        "outputId": "97771839-1b95-439b-b92d-b8c17ca6be5d"
      },
      "source": [
        "from google.colab import files\n",
        "files.upload()"
      ],
      "execution_count": null,
      "outputs": [
        {
          "output_type": "display_data",
          "data": {
            "text/html": [
              "\n",
              "     <input type=\"file\" id=\"files-f8962794-81f8-4d95-8bf8-9cb8db4e6e4e\" name=\"files[]\" multiple disabled\n",
              "        style=\"border:none\" />\n",
              "     <output id=\"result-f8962794-81f8-4d95-8bf8-9cb8db4e6e4e\">\n",
              "      Upload widget is only available when the cell has been executed in the\n",
              "      current browser session. Please rerun this cell to enable.\n",
              "      </output>\n",
              "      <script src=\"/nbextensions/google.colab/files.js\"></script> "
            ],
            "text/plain": [
              "<IPython.core.display.HTML object>"
            ]
          },
          "metadata": {
            "tags": []
          }
        },
        {
          "output_type": "stream",
          "text": [
            "Saving kaggle.json to kaggle.json\n"
          ],
          "name": "stdout"
        },
        {
          "output_type": "execute_result",
          "data": {
            "text/plain": [
              "{'kaggle.json': b'{\"username\":\"hargurjeet\",\"key\":\"c3882bdbb49388021171402c7018655e\"}'}"
            ]
          },
          "metadata": {
            "tags": []
          },
          "execution_count": 3
        }
      ]
    },
    {
      "cell_type": "code",
      "metadata": {
        "colab": {
          "base_uri": "https://localhost:8080/"
        },
        "id": "dx67i5XgEovQ",
        "outputId": "7c6b3059-c0f7-45ac-be70-82e9c03c321c"
      },
      "source": [
        "! pip install opendatasets --upgrade\n",
        "import opendatasets as od\n",
        "\n",
        "dataset_url = 'https://www.kaggle.com/nipunarora8/age-gender-and-ethnicity-face-data-csv'\n",
        "od.download('https://www.kaggle.com/nipunarora8/age-gender-and-ethnicity-face-data-csv')"
      ],
      "execution_count": null,
      "outputs": [
        {
          "output_type": "stream",
          "text": [
            "Collecting opendatasets\n",
            "  Downloading https://files.pythonhosted.org/packages/18/99/aaa3ebec81dc347302e730e0daff61735ed2f3e736129553fb3f9bf67ed3/opendatasets-0.1.10-py3-none-any.whl\n",
            "Requirement already satisfied, skipping upgrade: kaggle in /usr/local/lib/python3.7/dist-packages (from opendatasets) (1.5.12)\n",
            "Requirement already satisfied, skipping upgrade: tqdm in /usr/local/lib/python3.7/dist-packages (from opendatasets) (4.41.1)\n",
            "Requirement already satisfied, skipping upgrade: click in /usr/local/lib/python3.7/dist-packages (from opendatasets) (7.1.2)\n",
            "Requirement already satisfied, skipping upgrade: certifi in /usr/local/lib/python3.7/dist-packages (from kaggle->opendatasets) (2020.12.5)\n",
            "Requirement already satisfied, skipping upgrade: six>=1.10 in /usr/local/lib/python3.7/dist-packages (from kaggle->opendatasets) (1.15.0)\n",
            "Requirement already satisfied, skipping upgrade: python-dateutil in /usr/local/lib/python3.7/dist-packages (from kaggle->opendatasets) (2.8.1)\n",
            "Requirement already satisfied, skipping upgrade: python-slugify in /usr/local/lib/python3.7/dist-packages (from kaggle->opendatasets) (4.0.1)\n",
            "Requirement already satisfied, skipping upgrade: requests in /usr/local/lib/python3.7/dist-packages (from kaggle->opendatasets) (2.23.0)\n",
            "Requirement already satisfied, skipping upgrade: urllib3 in /usr/local/lib/python3.7/dist-packages (from kaggle->opendatasets) (1.24.3)\n",
            "Requirement already satisfied, skipping upgrade: text-unidecode>=1.3 in /usr/local/lib/python3.7/dist-packages (from python-slugify->kaggle->opendatasets) (1.3)\n",
            "Requirement already satisfied, skipping upgrade: idna<3,>=2.5 in /usr/local/lib/python3.7/dist-packages (from requests->kaggle->opendatasets) (2.10)\n",
            "Requirement already satisfied, skipping upgrade: chardet<4,>=3.0.2 in /usr/local/lib/python3.7/dist-packages (from requests->kaggle->opendatasets) (3.0.4)\n",
            "Installing collected packages: opendatasets\n",
            "Successfully installed opendatasets-0.1.10\n"
          ],
          "name": "stdout"
        },
        {
          "output_type": "stream",
          "text": [
            "  8%|▊         | 5.00M/63.2M [00:00<00:02, 27.2MB/s]"
          ],
          "name": "stderr"
        },
        {
          "output_type": "stream",
          "text": [
            "Downloading age-gender-and-ethnicity-face-data-csv.zip to ./age-gender-and-ethnicity-face-data-csv\n"
          ],
          "name": "stdout"
        },
        {
          "output_type": "stream",
          "text": [
            "100%|██████████| 63.2M/63.2M [00:00<00:00, 77.6MB/s]\n"
          ],
          "name": "stderr"
        },
        {
          "output_type": "stream",
          "text": [
            "\n"
          ],
          "name": "stdout"
        }
      ]
    },
    {
      "cell_type": "code",
      "metadata": {
        "colab": {
          "base_uri": "https://localhost:8080/",
          "height": 359
        },
        "id": "zeA9RJuvEzh8",
        "outputId": "06f2d98a-62cb-48a3-f260-0ffad22ac20b"
      },
      "source": [
        "df = pd.read_csv('/content/age-gender-and-ethnicity-face-data-csv/age_gender.csv')\n",
        "\n",
        "df.head(10)"
      ],
      "execution_count": null,
      "outputs": [
        {
          "output_type": "execute_result",
          "data": {
            "text/html": [
              "<div>\n",
              "<style scoped>\n",
              "    .dataframe tbody tr th:only-of-type {\n",
              "        vertical-align: middle;\n",
              "    }\n",
              "\n",
              "    .dataframe tbody tr th {\n",
              "        vertical-align: top;\n",
              "    }\n",
              "\n",
              "    .dataframe thead th {\n",
              "        text-align: right;\n",
              "    }\n",
              "</style>\n",
              "<table border=\"1\" class=\"dataframe\">\n",
              "  <thead>\n",
              "    <tr style=\"text-align: right;\">\n",
              "      <th></th>\n",
              "      <th>age</th>\n",
              "      <th>ethnicity</th>\n",
              "      <th>gender</th>\n",
              "      <th>img_name</th>\n",
              "      <th>pixels</th>\n",
              "    </tr>\n",
              "  </thead>\n",
              "  <tbody>\n",
              "    <tr>\n",
              "      <th>0</th>\n",
              "      <td>1</td>\n",
              "      <td>2</td>\n",
              "      <td>0</td>\n",
              "      <td>20161219203650636.jpg.chip.jpg</td>\n",
              "      <td>129 128 128 126 127 130 133 135 139 142 145 14...</td>\n",
              "    </tr>\n",
              "    <tr>\n",
              "      <th>1</th>\n",
              "      <td>1</td>\n",
              "      <td>2</td>\n",
              "      <td>0</td>\n",
              "      <td>20161219222752047.jpg.chip.jpg</td>\n",
              "      <td>164 74 111 168 169 171 175 182 184 188 193 199...</td>\n",
              "    </tr>\n",
              "    <tr>\n",
              "      <th>2</th>\n",
              "      <td>1</td>\n",
              "      <td>2</td>\n",
              "      <td>0</td>\n",
              "      <td>20161219222832191.jpg.chip.jpg</td>\n",
              "      <td>67 70 71 70 69 67 70 79 90 103 116 132 145 155...</td>\n",
              "    </tr>\n",
              "    <tr>\n",
              "      <th>3</th>\n",
              "      <td>1</td>\n",
              "      <td>2</td>\n",
              "      <td>0</td>\n",
              "      <td>20161220144911423.jpg.chip.jpg</td>\n",
              "      <td>193 197 198 200 199 200 202 203 204 205 208 21...</td>\n",
              "    </tr>\n",
              "    <tr>\n",
              "      <th>4</th>\n",
              "      <td>1</td>\n",
              "      <td>2</td>\n",
              "      <td>0</td>\n",
              "      <td>20161220144914327.jpg.chip.jpg</td>\n",
              "      <td>202 205 209 210 209 209 210 211 212 214 218 21...</td>\n",
              "    </tr>\n",
              "    <tr>\n",
              "      <th>5</th>\n",
              "      <td>1</td>\n",
              "      <td>2</td>\n",
              "      <td>0</td>\n",
              "      <td>20161220144957407.jpg.chip.jpg</td>\n",
              "      <td>195 198 200 200 198 198 199 199 198 197 197 19...</td>\n",
              "    </tr>\n",
              "    <tr>\n",
              "      <th>6</th>\n",
              "      <td>1</td>\n",
              "      <td>2</td>\n",
              "      <td>0</td>\n",
              "      <td>20161220145040127.jpg.chip.jpg</td>\n",
              "      <td>208 216 217 219 222 223 222 221 220 220 221 22...</td>\n",
              "    </tr>\n",
              "    <tr>\n",
              "      <th>7</th>\n",
              "      <td>1</td>\n",
              "      <td>2</td>\n",
              "      <td>0</td>\n",
              "      <td>20170109191125532.jpg.chip.jpg</td>\n",
              "      <td>99 142 169 177 179 181 183 186 187 186 191 190...</td>\n",
              "    </tr>\n",
              "    <tr>\n",
              "      <th>8</th>\n",
              "      <td>1</td>\n",
              "      <td>2</td>\n",
              "      <td>0</td>\n",
              "      <td>20161219222749039.jpg.chip.jpg</td>\n",
              "      <td>127 127 133 140 143 148 152 157 160 165 172 17...</td>\n",
              "    </tr>\n",
              "    <tr>\n",
              "      <th>9</th>\n",
              "      <td>1</td>\n",
              "      <td>2</td>\n",
              "      <td>0</td>\n",
              "      <td>20170109191209991.jpg.chip.jpg</td>\n",
              "      <td>199 211 211 214 216 216 219 221 222 224 219 21...</td>\n",
              "    </tr>\n",
              "  </tbody>\n",
              "</table>\n",
              "</div>"
            ],
            "text/plain": [
              "   age  ...                                             pixels\n",
              "0    1  ...  129 128 128 126 127 130 133 135 139 142 145 14...\n",
              "1    1  ...  164 74 111 168 169 171 175 182 184 188 193 199...\n",
              "2    1  ...  67 70 71 70 69 67 70 79 90 103 116 132 145 155...\n",
              "3    1  ...  193 197 198 200 199 200 202 203 204 205 208 21...\n",
              "4    1  ...  202 205 209 210 209 209 210 211 212 214 218 21...\n",
              "5    1  ...  195 198 200 200 198 198 199 199 198 197 197 19...\n",
              "6    1  ...  208 216 217 219 222 223 222 221 220 220 221 22...\n",
              "7    1  ...  99 142 169 177 179 181 183 186 187 186 191 190...\n",
              "8    1  ...  127 127 133 140 143 148 152 157 160 165 172 17...\n",
              "9    1  ...  199 211 211 214 216 216 219 221 222 224 219 21...\n",
              "\n",
              "[10 rows x 5 columns]"
            ]
          },
          "metadata": {
            "tags": []
          },
          "execution_count": 5
        }
      ]
    },
    {
      "cell_type": "code",
      "metadata": {
        "colab": {
          "base_uri": "https://localhost:8080/",
          "height": 49
        },
        "id": "a8kUKm8cEzdT",
        "outputId": "14446c8f-934e-4257-86df-491be61936d7"
      },
      "source": [
        "df[df.isnull().any(axis=1)]"
      ],
      "execution_count": null,
      "outputs": [
        {
          "output_type": "execute_result",
          "data": {
            "text/html": [
              "<div>\n",
              "<style scoped>\n",
              "    .dataframe tbody tr th:only-of-type {\n",
              "        vertical-align: middle;\n",
              "    }\n",
              "\n",
              "    .dataframe tbody tr th {\n",
              "        vertical-align: top;\n",
              "    }\n",
              "\n",
              "    .dataframe thead th {\n",
              "        text-align: right;\n",
              "    }\n",
              "</style>\n",
              "<table border=\"1\" class=\"dataframe\">\n",
              "  <thead>\n",
              "    <tr style=\"text-align: right;\">\n",
              "      <th></th>\n",
              "      <th>age</th>\n",
              "      <th>ethnicity</th>\n",
              "      <th>gender</th>\n",
              "      <th>img_name</th>\n",
              "      <th>pixels</th>\n",
              "    </tr>\n",
              "  </thead>\n",
              "  <tbody>\n",
              "  </tbody>\n",
              "</table>\n",
              "</div>"
            ],
            "text/plain": [
              "Empty DataFrame\n",
              "Columns: [age, ethnicity, gender, img_name, pixels]\n",
              "Index: []"
            ]
          },
          "metadata": {
            "tags": []
          },
          "execution_count": 6
        }
      ]
    },
    {
      "cell_type": "code",
      "metadata": {
        "colab": {
          "base_uri": "https://localhost:8080/"
        },
        "id": "JokA1MzPEzav",
        "outputId": "783e3b26-1050-4058-a0cb-5de0d4bfcf38"
      },
      "source": [
        "df.shape"
      ],
      "execution_count": null,
      "outputs": [
        {
          "output_type": "execute_result",
          "data": {
            "text/plain": [
              "(23705, 5)"
            ]
          },
          "metadata": {
            "tags": []
          },
          "execution_count": 7
        }
      ]
    },
    {
      "cell_type": "code",
      "metadata": {
        "colab": {
          "base_uri": "https://localhost:8080/",
          "height": 375
        },
        "id": "qnbUw6oBOJI9",
        "outputId": "3639ac60-56b7-4256-ed44-e4d72296d4d6"
      },
      "source": [
        "df['pixels']=df['pixels'].apply(lambda x:  np.array(x.split(), dtype=\"float32\"))\n",
        "\n",
        "plt.figure(figsize=(16,16))\n",
        "for i in range(2500,2510):\n",
        "    plt.subplot(5,5,(i%25)+1)\n",
        "    plt.xticks([])\n",
        "    plt.yticks([])\n",
        "    plt.grid(False)\n",
        "    plt.imshow(df['pixels'].iloc[i].reshape(48,48))\n",
        "    plt.xlabel(\n",
        "        \"Age:\"+str(df['age'].iloc[i])+\n",
        "        \"  Ethnicity:\"+str(df['ethnicity'].iloc[i])+\n",
        "        \"  Gender:\"+ str(df['gender'].iloc[i])\n",
        "    )\n",
        "plt.show()"
      ],
      "execution_count": null,
      "outputs": [
        {
          "output_type": "display_data",
          "data": {
            "image/png": "[encoded data removed]",
            "text/plain": [
              "<Figure size 1152x1152 with 10 Axes>"
            ]
          },
          "metadata": {
            "tags": []
          }
        }
      ]
    },
    {
      "cell_type": "markdown",
      "metadata": {
        "id": "Goei2U0QFi9R"
      },
      "source": [
        "# <font color=\"white\" size=+2.0><b>3: Building Neural Network using TensorFlow</b></font> <a name=\"3\"></a>\n",
        "\n",
        "\n",
        "---\n",
        "<a href=\"#top\" class=\"btn btn-primary btn-sm\" role=\"button\" aria-pressed=\"true\" style=\"color:white\" data-toggle=\"popover\">Go to TOC</a> "
      ]
    },
    {
      "cell_type": "code",
      "metadata": {
        "id": "aX4ejqJNKl2S"
      },
      "source": [
        "df.drop('img_name', axis = 1, inplace=True)\n",
        "\n",
        "X = df.pixels\n",
        "y_gender = df.gender\n",
        "y_age = df.age\n",
        "y_ethnicity = df.ethnicity"
      ],
      "execution_count": null,
      "outputs": []
    },
    {
      "cell_type": "code",
      "metadata": {
        "id": "AECQ3s3ZYwUn"
      },
      "source": [
        "X = np.stack(np.array(X), axis=0)\n",
        "pictures = np.reshape(X, (-1, 48, 48, 1))"
      ],
      "execution_count": null,
      "outputs": []
    },
    {
      "cell_type": "code",
      "metadata": {
        "id": "YYVWd5LwMrgf"
      },
      "source": [
        "from sklearn.model_selection import train_test_split\n",
        "\n",
        "X_train_gender, X_test_gender, y_train_gender, y_test_gender = train_test_split(pictures, y_gender, test_size=0.2, random_state=1)\n",
        "\n",
        "X_train_gender, X_val_gender, y_train_gender, y_val_gender = train_test_split(X_train_gender, y_train_gender, test_size=0.25, random_state=1) # 0.25 x 0.8 = 0.2\n",
        "\n",
        "X_train_age, X_test_age, y_train_age, y_test_age = train_test_split(pictures, y_age, test_size=0.2, random_state=1)\n",
        "\n",
        "X_train_age, X_val_age, y_train_age, y_val_age = train_test_split(X_train_age, y_train_age, test_size=0.25, random_state=1) # 0.25 x 0.8 = 0.2\n",
        "\n",
        "X_train_ethnicity, X_test_ethnicity, y_train_ethnicity, y_test_ethnicity = train_test_split(pictures, y_ethnicity, test_size=0.2, random_state=1)\n",
        "\n",
        "X_train_ethnicity, X_val_ethnicity, y_train_ethnicity, y_val_ethnicity = train_test_split(X_train_ethnicity, y_train_ethnicity, test_size=0.25, random_state=1) # 0.25 x 0.8 = 0.2"
      ],
      "execution_count": null,
      "outputs": []
    },
    {
      "cell_type": "code",
      "metadata": {
        "colab": {
          "base_uri": "https://localhost:8080/"
        },
        "id": "IkG6Xw3CQGro",
        "outputId": "e41005f8-a33a-443c-a035-7a3b9658eb46"
      },
      "source": [
        "# Model for Gender\n",
        "\n",
        "gender_model = tf.keras.models.Sequential([\n",
        "  tf.keras.layers.Conv2D(64, (3,3), activation='relu', input_shape=(48, 48, 1)),\n",
        "  tf.keras.layers.MaxPooling2D(2, 2),\n",
        "  tf.keras.layers.Conv2D(64, (3,3), activation='relu'),\n",
        "  tf.keras.layers.MaxPooling2D(2,2),\n",
        "  tf.keras.layers.Flatten(),\n",
        "  tf.keras.layers.Dense(128, activation='relu'),\n",
        "  tf.keras.layers.Dense(1, activation='sigmoid')\n",
        "])\n",
        "gender_model.compile(optimizer='adam', loss='binary_crossentropy', metrics=['accuracy'])\n",
        "\n",
        "gender_model.summary()"
      ],
      "execution_count": null,
      "outputs": [
        {
          "output_type": "stream",
          "text": [
            "Model: \"sequential\"\n",
            "_________________________________________________________________\n",
            "Layer (type)                 Output Shape              Param #   \n",
            "=================================================================\n",
            "conv2d (Conv2D)              (None, 46, 46, 64)        640       \n",
            "_________________________________________________________________\n",
            "max_pooling2d (MaxPooling2D) (None, 23, 23, 64)        0         \n",
            "_________________________________________________________________\n",
            "conv2d_1 (Conv2D)            (None, 21, 21, 64)        36928     \n",
            "_________________________________________________________________\n",
            "max_pooling2d_1 (MaxPooling2 (None, 10, 10, 64)        0         \n",
            "_________________________________________________________________\n",
            "flatten (Flatten)            (None, 6400)              0         \n",
            "_________________________________________________________________\n",
            "dense (Dense)                (None, 128)               819328    \n",
            "_________________________________________________________________\n",
            "dense_1 (Dense)              (None, 1)                 129       \n",
            "=================================================================\n",
            "Total params: 857,025\n",
            "Trainable params: 857,025\n",
            "Non-trainable params: 0\n",
            "_________________________________________________________________\n"
          ],
          "name": "stdout"
        }
      ]
    },
    {
      "cell_type": "code",
      "metadata": {
        "id": "ihhq4d16Nt67"
      },
      "source": [
        "from tensorflow.keras.preprocessing.image import ImageDataGenerator\n",
        "\n",
        "train_datagen = ImageDataGenerator(\n",
        "    rescale=1./255,\n",
        "    featurewise_center=True,\n",
        "    featurewise_std_normalization=True,\n",
        "    rotation_range=40,\n",
        "    width_shift_range=0.2,\n",
        "    height_shift_range=0.2,\n",
        "    horizontal_flip=True,\n",
        "    fill_mode='nearest')"
      ],
      "execution_count": null,
      "outputs": []
    },
    {
      "cell_type": "code",
      "metadata": {
        "id": "XMJMPS-mO43q"
      },
      "source": [
        " train_generator = train_datagen.flow(\n",
        "        X_train_gender, y_train_gender, # This is the source directory for training images\n",
        "        batch_size=128)\n",
        " \n",
        " validation_generator = train_datagen.flow(\n",
        "        X_val_gender, y_val_gender,\n",
        "        batch_size=64)"
      ],
      "execution_count": null,
      "outputs": []
    },
    {
      "cell_type": "code",
      "metadata": {
        "colab": {
          "base_uri": "https://localhost:8080/"
        },
        "id": "bv8ZoazLQC4v",
        "outputId": "fcd04b4a-4e67-47c4-88e2-53973d9ee41c"
      },
      "source": [
        "history = gender_model.fit(\n",
        "      train_generator,\n",
        "      steps_per_epoch=len(X_train_gender)/ 128,  \n",
        "      epochs=15,\n",
        "      validation_data=validation_generator,  \n",
        "      verbose=2)"
      ],
      "execution_count": null,
      "outputs": [
        {
          "output_type": "stream",
          "text": [
            "/usr/local/lib/python3.7/dist-packages/keras_preprocessing/image/image_data_generator.py:720: UserWarning: This ImageDataGenerator specifies `featurewise_center`, but it hasn't been fit on any training data. Fit it first by calling `.fit(numpy_data)`.\n",
            "  warnings.warn('This ImageDataGenerator specifies '\n",
            "/usr/local/lib/python3.7/dist-packages/keras_preprocessing/image/image_data_generator.py:728: UserWarning: This ImageDataGenerator specifies `featurewise_std_normalization`, but it hasn't been fit on any training data. Fit it first by calling `.fit(numpy_data)`.\n",
            "  warnings.warn('This ImageDataGenerator specifies '\n"
          ],
          "name": "stderr"
        },
        {
          "output_type": "stream",
          "text": [
            "Epoch 1/15\n",
            "111/111 - 39s - loss: 0.6411 - accuracy: 0.6279 - val_loss: 0.6384 - val_accuracy: 0.6402\n",
            "Epoch 2/15\n",
            "111/111 - 6s - loss: 0.6095 - accuracy: 0.6736 - val_loss: 0.6101 - val_accuracy: 0.6697\n",
            "Epoch 3/15\n",
            "111/111 - 6s - loss: 0.5999 - accuracy: 0.6775 - val_loss: 0.6038 - val_accuracy: 0.6790\n",
            "Epoch 4/15\n",
            "111/111 - 6s - loss: 0.5890 - accuracy: 0.6871 - val_loss: 0.5891 - val_accuracy: 0.6876\n",
            "Epoch 5/15\n",
            "111/111 - 6s - loss: 0.5748 - accuracy: 0.7004 - val_loss: 0.5805 - val_accuracy: 0.6971\n",
            "Epoch 6/15\n",
            "111/111 - 6s - loss: 0.5617 - accuracy: 0.7109 - val_loss: 0.5677 - val_accuracy: 0.7051\n",
            "Epoch 7/15\n",
            "111/111 - 6s - loss: 0.5473 - accuracy: 0.7232 - val_loss: 0.5475 - val_accuracy: 0.7203\n",
            "Epoch 8/15\n",
            "111/111 - 6s - loss: 0.5328 - accuracy: 0.7319 - val_loss: 0.5220 - val_accuracy: 0.7463\n",
            "Epoch 9/15\n",
            "111/111 - 6s - loss: 0.5159 - accuracy: 0.7496 - val_loss: 0.5098 - val_accuracy: 0.7515\n",
            "Epoch 10/15\n",
            "111/111 - 7s - loss: 0.5114 - accuracy: 0.7493 - val_loss: 0.5128 - val_accuracy: 0.7488\n",
            "Epoch 11/15\n",
            "111/111 - 6s - loss: 0.5005 - accuracy: 0.7589 - val_loss: 0.4851 - val_accuracy: 0.7669\n",
            "Epoch 12/15\n",
            "111/111 - 6s - loss: 0.4848 - accuracy: 0.7672 - val_loss: 0.4883 - val_accuracy: 0.7598\n",
            "Epoch 13/15\n",
            "111/111 - 6s - loss: 0.4778 - accuracy: 0.7740 - val_loss: 0.4788 - val_accuracy: 0.7718\n",
            "Epoch 14/15\n",
            "111/111 - 6s - loss: 0.4638 - accuracy: 0.7821 - val_loss: 0.4672 - val_accuracy: 0.7821\n",
            "Epoch 15/15\n",
            "111/111 - 6s - loss: 0.4583 - accuracy: 0.7854 - val_loss: 0.4816 - val_accuracy: 0.7705\n"
          ],
          "name": "stdout"
        }
      ]
    },
    {
      "cell_type": "markdown",
      "metadata": {
        "id": "nuAiC2SZFi1H"
      },
      "source": [
        "# <font color=\"white\" size=+2.0><b>4: Analysing Results</b></font> <a name=\"4\"></a>\n",
        "\n",
        "\n",
        "---\n",
        "<a href=\"#top\" class=\"btn btn-primary btn-sm\" role=\"button\" aria-pressed=\"true\" style=\"color:white\" data-toggle=\"popover\">Go to TOC</a> "
      ]
    },
    {
      "cell_type": "code",
      "metadata": {
        "colab": {
          "base_uri": "https://localhost:8080/",
          "height": 545
        },
        "id": "CPlEu4tZQC2l",
        "outputId": "6989d416-da37-4284-9dfe-d3199cc3d30d"
      },
      "source": [
        "import matplotlib.pyplot as plt\n",
        "\n",
        "\n",
        "def plot_graphs(history, string):\n",
        "  plt.plot(history.history[string])\n",
        "  plt.plot(history.history['val_'+string])\n",
        "  plt.xlabel(\"Epochs\")\n",
        "  plt.ylabel(string)\n",
        "  plt.legend([string, 'val_'+string])\n",
        "  plt.show()\n",
        "  \n",
        "plot_graphs(history, \"accuracy\")\n",
        "plot_graphs(history, \"loss\")"
      ],
      "execution_count": null,
      "outputs": [
        {
          "output_type": "display_data",
          "data": {
            "image/png": "[encoded data removed]",
            "text/plain": [
              "<Figure size 432x288 with 1 Axes>"
            ]
          },
          "metadata": {
            "tags": [],
            "needs_background": "light"
          }
        },
        {
          "output_type": "display_data",
          "data": {
            "image/png": "[encoded data removed]",
            "text/plain": [
              "<Figure size 432x288 with 1 Axes>"
            ]
          },
          "metadata": {
            "tags": [],
            "needs_background": "light"
          }
        }
      ]
    },
    {
      "cell_type": "code",
      "metadata": {
        "colab": {
          "base_uri": "https://localhost:8080/"
        },
        "id": "RTOmXa24QCzz",
        "outputId": "669f3be9-1339-4033-d38f-0472d71d545e"
      },
      "source": [
        "gender_model.evaluate(X_test_gender, y_test_gender)"
      ],
      "execution_count": null,
      "outputs": [
        {
          "output_type": "stream",
          "text": [
            "149/149 [==============================] - 1s 3ms/step - loss: 43.5591 - accuracy: 0.7625\n"
          ],
          "name": "stdout"
        },
        {
          "output_type": "execute_result",
          "data": {
            "text/plain": [
              "[43.55910873413086, 0.7624973654747009]"
            ]
          },
          "metadata": {
            "tags": []
          },
          "execution_count": 20
        }
      ]
    },
    {
      "cell_type": "markdown",
      "metadata": {
        "id": "tTMWLCVUKFZI"
      },
      "source": [
        "## Model for predicting ethnicity"
      ]
    },
    {
      "cell_type": "code",
      "metadata": {
        "id": "jTIfV410aG7t"
      },
      "source": [
        "from tensorflow.keras.preprocessing.image import ImageDataGenerator\n",
        "\n",
        "train_datagen = ImageDataGenerator(\n",
        "    rescale=1./255,\n",
        "    rotation_range=40,\n",
        "    brightness_range=[0.8,1.2],\n",
        "    zoom_range=0.2,\n",
        "    shear_range = 0.2,\n",
        "    width_shift_range=0.2,\n",
        "    height_shift_range=0.2,\n",
        "    horizontal_flip=True,\n",
        "    fill_mode='nearest')"
      ],
      "execution_count": null,
      "outputs": []
    },
    {
      "cell_type": "code",
      "metadata": {
        "colab": {
          "base_uri": "https://localhost:8080/"
        },
        "id": "TZXGtDw3LfXE",
        "outputId": "56a03318-5eab-4100-b29d-9158395b71a7"
      },
      "source": [
        "# Model for Ethnicity\n",
        "\n",
        "ethnicity_model = tf.keras.models.Sequential([\n",
        "    tf.keras.layers.Conv2D(64, (3,3), activation='relu', input_shape=(48,48,1)),\n",
        "    tf.keras.layers.MaxPooling2D(2,2),\n",
        "    tf.keras.layers.Conv2D(128, (3,3), activation='relu'),\n",
        "    tf.keras.layers.MaxPooling2D(2,2),\n",
        "    tf.keras.layers.Conv2D(128, (3,3), activation='relu'),\n",
        "    tf.keras.layers.MaxPooling2D(2,2),\n",
        "    tf.keras.layers.Conv2D(64, (3,3), activation='relu'),\n",
        "    tf.keras.layers.MaxPooling2D(2,2),\n",
        "    tf.keras.layers.Flatten(),\n",
        "    tf.keras.layers.Dense(512, activation='relu'),\n",
        "    tf.keras.layers.Dropout(0.5),\n",
        "    # tf.keras.layers.Dense(8, activation='relu'),\n",
        "    # tf.keras.layers.Dropout(0.2),\n",
        "    tf.keras.layers.Dense(5, activation='softmax'),\n",
        "])\n",
        "ethnicity_model.compile(optimizer='rmsprop', loss='sparse_categorical_crossentropy', metrics=['accuracy'])\n",
        "\n",
        "ethnicity_model.summary()"
      ],
      "execution_count": null,
      "outputs": [
        {
          "output_type": "stream",
          "text": [
            "Model: \"sequential_1\"\n",
            "_________________________________________________________________\n",
            "Layer (type)                 Output Shape              Param #   \n",
            "=================================================================\n",
            "conv2d_2 (Conv2D)            (None, 46, 46, 64)        640       \n",
            "_________________________________________________________________\n",
            "max_pooling2d_2 (MaxPooling2 (None, 23, 23, 64)        0         \n",
            "_________________________________________________________________\n",
            "conv2d_3 (Conv2D)            (None, 21, 21, 128)       73856     \n",
            "_________________________________________________________________\n",
            "max_pooling2d_3 (MaxPooling2 (None, 10, 10, 128)       0         \n",
            "_________________________________________________________________\n",
            "conv2d_4 (Conv2D)            (None, 8, 8, 128)         147584    \n",
            "_________________________________________________________________\n",
            "max_pooling2d_4 (MaxPooling2 (None, 4, 4, 128)         0         \n",
            "_________________________________________________________________\n",
            "conv2d_5 (Conv2D)            (None, 2, 2, 64)          73792     \n",
            "_________________________________________________________________\n",
            "max_pooling2d_5 (MaxPooling2 (None, 1, 1, 64)          0         \n",
            "_________________________________________________________________\n",
            "flatten_1 (Flatten)          (None, 64)                0         \n",
            "_________________________________________________________________\n",
            "dense_2 (Dense)              (None, 512)               33280     \n",
            "_________________________________________________________________\n",
            "dropout (Dropout)            (None, 512)               0         \n",
            "_________________________________________________________________\n",
            "dense_3 (Dense)              (None, 5)                 2565      \n",
            "=================================================================\n",
            "Total params: 331,717\n",
            "Trainable params: 331,717\n",
            "Non-trainable params: 0\n",
            "_________________________________________________________________\n"
          ],
          "name": "stdout"
        }
      ]
    },
    {
      "cell_type": "code",
      "metadata": {
        "id": "RG-6nBtLQCu3"
      },
      "source": [
        "train_generator = train_datagen.flow(\n",
        "        X_train_ethnicity, y_train_ethnicity, \n",
        "        batch_size=128)\n",
        " \n",
        "validation_generator = train_datagen.flow(\n",
        "        X_val_ethnicity, y_val_ethnicity,\n",
        "        batch_size=64)\n",
        " \n",
        "history = ethnicity_model.fit(\n",
        "      train_generator,\n",
        "      steps_per_epoch=len(X_train_ethnicity)/128,  \n",
        "      epochs=15,\n",
        "      validation_data=validation_generator,  \n",
        "      verbose=2)\n"
      ],
      "execution_count": null,
      "outputs": []
    },
    {
      "cell_type": "code",
      "metadata": {
        "colab": {
          "base_uri": "https://localhost:8080/",
          "height": 541
        },
        "id": "ofTFmxOgQCsJ",
        "outputId": "e74a110a-1c7f-4c39-a2a3-9fa6789bd562"
      },
      "source": [
        "def plot_graphs(history, string):\n",
        "  plt.plot(history.history[string])\n",
        "  plt.plot(history.history['val_'+string])\n",
        "  plt.xlabel(\"Epochs\")\n",
        "  plt.ylabel(string)\n",
        "  plt.legend([string, 'val_'+string])\n",
        "  plt.show()\n",
        "  \n",
        "plot_graphs(history, \"accuracy\")\n",
        "plot_graphs(history, \"loss\")"
      ],
      "execution_count": null,
      "outputs": [
        {
          "output_type": "display_data",
          "data": {
            "image/png": "[encoded data removed]",
            "text/plain": [
              "<Figure size 432x288 with 1 Axes>"
            ]
          },
          "metadata": {
            "tags": [],
            "needs_background": "light"
          }
        },
        {
          "output_type": "display_data",
          "data": {
            "image/png": "[encoded data removed]",
            "text/plain": [
              "<Figure size 432x288 with 1 Axes>"
            ]
          },
          "metadata": {
            "tags": [],
            "needs_background": "light"
          }
        }
      ]
    },
    {
      "cell_type": "code",
      "metadata": {
        "colab": {
          "base_uri": "https://localhost:8080/"
        },
        "id": "azd5GSILMVA6",
        "outputId": "bc04fc9f-8da6-4a30-e9cb-a07c632e5164"
      },
      "source": [
        "ethnicity_model.evaluate(X_test_ethnicity, y_test_ethnicity)"
      ],
      "execution_count": null,
      "outputs": [
        {
          "output_type": "stream",
          "text": [
            "149/149 [==============================] - 1s 4ms/step - loss: 42.5803 - accuracy: 0.6201\n"
          ],
          "name": "stdout"
        },
        {
          "output_type": "execute_result",
          "data": {
            "text/plain": [
              "[42.58026885986328, 0.6201223134994507]"
            ]
          },
          "metadata": {
            "tags": []
          },
          "execution_count": 25
        }
      ]
    },
    {
      "cell_type": "markdown",
      "metadata": {
        "id": "-c33-vbOOCUR"
      },
      "source": [
        "Predicting the Age"
      ]
    },
    {
      "cell_type": "code",
      "metadata": {
        "colab": {
          "base_uri": "https://localhost:8080/"
        },
        "id": "yxubAjDSOFEW",
        "outputId": "3ac950d4-7f21-404d-8612-0d41511c2a3a"
      },
      "source": [
        "# Model for Age\n",
        "\n",
        "age_model = tf.keras.models.Sequential([\n",
        "    tf.keras.layers.Conv2D(32, (3,3), activation='relu', input_shape=(48,48,1)),\n",
        "    tf.keras.layers.BatchNormalization(),\n",
        "    tf.keras.layers.MaxPooling2D(2,2),\n",
        "    tf.keras.layers.Conv2D(64, (3,3), activation='relu'),\n",
        "    tf.keras.layers.BatchNormalization(),\n",
        "    tf.keras.layers.MaxPooling2D(2,2),\n",
        "    tf.keras.layers.Flatten(),\n",
        "    tf.keras.layers.Dense(64, activation='relu'),\n",
        "    tf.keras.layers.Dropout(0.5),\n",
        "    tf.keras.layers.Dense(1),\n",
        "])\n",
        "age_model.compile(optimizer='adam', loss='mean_squared_error', metrics=['accuracy'])\n",
        "\n",
        "age_model.summary()"
      ],
      "execution_count": null,
      "outputs": [
        {
          "output_type": "stream",
          "text": [
            "Model: \"sequential_2\"\n",
            "_________________________________________________________________\n",
            "Layer (type)                 Output Shape              Param #   \n",
            "=================================================================\n",
            "conv2d_6 (Conv2D)            (None, 46, 46, 32)        320       \n",
            "_________________________________________________________________\n",
            "batch_normalization (BatchNo (None, 46, 46, 32)        128       \n",
            "_________________________________________________________________\n",
            "max_pooling2d_6 (MaxPooling2 (None, 23, 23, 32)        0         \n",
            "_________________________________________________________________\n",
            "conv2d_7 (Conv2D)            (None, 21, 21, 64)        18496     \n",
            "_________________________________________________________________\n",
            "batch_normalization_1 (Batch (None, 21, 21, 64)        256       \n",
            "_________________________________________________________________\n",
            "max_pooling2d_7 (MaxPooling2 (None, 10, 10, 64)        0         \n",
            "_________________________________________________________________\n",
            "flatten_2 (Flatten)          (None, 6400)              0         \n",
            "_________________________________________________________________\n",
            "dense_4 (Dense)              (None, 64)                409664    \n",
            "_________________________________________________________________\n",
            "dropout_1 (Dropout)          (None, 64)                0         \n",
            "_________________________________________________________________\n",
            "dense_5 (Dense)              (None, 1)                 65        \n",
            "=================================================================\n",
            "Total params: 428,929\n",
            "Trainable params: 428,737\n",
            "Non-trainable params: 192\n",
            "_________________________________________________________________\n"
          ],
          "name": "stdout"
        }
      ]
    },
    {
      "cell_type": "code",
      "metadata": {
        "colab": {
          "base_uri": "https://localhost:8080/"
        },
        "id": "VAgdgTQQjsmq",
        "outputId": "7f5cf443-6afb-4e6d-8213-5603edf2a62e"
      },
      "source": [
        "age_model = tf.keras.models.Sequential([\n",
        "    tf.keras.layers.Conv2D(16, (3,3), activation='relu', input_shape=(48,48,1)),\n",
        "    tf.keras.layers.Conv2D(32, (3,3), activation='relu'),\n",
        "    tf.keras.layers.MaxPooling2D(2,2),\n",
        "    tf.keras.layers.Dropout(0.3),\n",
        "    tf.keras.layers.Conv2D(64, (3,3), activation='relu'),\n",
        "    tf.keras.layers.Conv2D(96, (3,3), activation='relu'),\n",
        "    tf.keras.layers.MaxPooling2D(2,2),\n",
        "    tf.keras.layers.Dropout(0.3),\n",
        "    tf.keras.layers.Conv2D(128, (3,3), activation='relu'),\n",
        "    tf.keras.layers.Conv2D(160, (3,3), activation='relu'),\n",
        "    tf.keras.layers.BatchNormalization(),\n",
        "    tf.keras.layers.Flatten(),\n",
        "    tf.keras.layers.Dense(512, activation='relu'),\n",
        "    # tf.keras.layers.Dense(128, activation='relu'),\n",
        "    tf.keras.layers.Dense(1),\n",
        "])\n",
        "\n",
        "from tensorflow.keras.optimizers import Adam\n",
        "\n",
        "age_model.compile(optimizer='adam', loss='mean_squared_error', metrics=['accuracy'])\n",
        "\n",
        "age_model.summary()"
      ],
      "execution_count": null,
      "outputs": [
        {
          "output_type": "stream",
          "text": [
            "Model: \"sequential_3\"\n",
            "_________________________________________________________________\n",
            "Layer (type)                 Output Shape              Param #   \n",
            "=================================================================\n",
            "conv2d_8 (Conv2D)            (None, 46, 46, 16)        160       \n",
            "_________________________________________________________________\n",
            "conv2d_9 (Conv2D)            (None, 44, 44, 32)        4640      \n",
            "_________________________________________________________________\n",
            "max_pooling2d_8 (MaxPooling2 (None, 22, 22, 32)        0         \n",
            "_________________________________________________________________\n",
            "dropout_2 (Dropout)          (None, 22, 22, 32)        0         \n",
            "_________________________________________________________________\n",
            "conv2d_10 (Conv2D)           (None, 20, 20, 64)        18496     \n",
            "_________________________________________________________________\n",
            "conv2d_11 (Conv2D)           (None, 18, 18, 96)        55392     \n",
            "_________________________________________________________________\n",
            "max_pooling2d_9 (MaxPooling2 (None, 9, 9, 96)          0         \n",
            "_________________________________________________________________\n",
            "dropout_3 (Dropout)          (None, 9, 9, 96)          0         \n",
            "_________________________________________________________________\n",
            "conv2d_12 (Conv2D)           (None, 7, 7, 128)         110720    \n",
            "_________________________________________________________________\n",
            "conv2d_13 (Conv2D)           (None, 5, 5, 160)         184480    \n",
            "_________________________________________________________________\n",
            "batch_normalization_2 (Batch (None, 5, 5, 160)         640       \n",
            "_________________________________________________________________\n",
            "flatten_3 (Flatten)          (None, 4000)              0         \n",
            "_________________________________________________________________\n",
            "dense_6 (Dense)              (None, 512)               2048512   \n",
            "_________________________________________________________________\n",
            "dense_7 (Dense)              (None, 1)                 513       \n",
            "=================================================================\n",
            "Total params: 2,423,553\n",
            "Trainable params: 2,423,233\n",
            "Non-trainable params: 320\n",
            "_________________________________________________________________\n"
          ],
          "name": "stdout"
        }
      ]
    },
    {
      "cell_type": "code",
      "metadata": {
        "colab": {
          "base_uri": "https://localhost:8080/"
        },
        "id": "vDxKKC9DBW4o",
        "outputId": "95d3f7d2-b1d2-4988-e4d9-b708da92d892"
      },
      "source": [
        "history = age_model.fit(\n",
        "      X_train_age, y_train_age, \n",
        "      epochs=7,\n",
        "      validation_split=0.2,\n",
        "      batch_size=64)"
      ],
      "execution_count": null,
      "outputs": [
        {
          "output_type": "stream",
          "text": [
            "Epoch 1/7\n",
            "178/178 [==============================] - 3s 14ms/step - loss: 512.3728 - accuracy: 0.0403 - val_loss: 1169.3658 - val_accuracy: 0.0060\n",
            "Epoch 2/7\n",
            "178/178 [==============================] - 2s 11ms/step - loss: 200.8078 - accuracy: 0.0323 - val_loss: 160.6070 - val_accuracy: 0.0309\n",
            "Epoch 3/7\n",
            "178/178 [==============================] - 2s 11ms/step - loss: 167.9170 - accuracy: 0.0304 - val_loss: 135.9285 - val_accuracy: 0.0348\n",
            "Epoch 4/7\n",
            "178/178 [==============================] - 2s 11ms/step - loss: 130.6567 - accuracy: 0.0307 - val_loss: 119.7313 - val_accuracy: 0.0334\n",
            "Epoch 5/7\n",
            "178/178 [==============================] - 2s 12ms/step - loss: 114.2829 - accuracy: 0.0275 - val_loss: 215.7274 - val_accuracy: 0.0390\n",
            "Epoch 6/7\n",
            "178/178 [==============================] - 2s 11ms/step - loss: 105.8291 - accuracy: 0.0282 - val_loss: 146.4186 - val_accuracy: 0.0112\n",
            "Epoch 7/7\n",
            "178/178 [==============================] - 2s 11ms/step - loss: 97.3122 - accuracy: 0.0315 - val_loss: 98.3117 - val_accuracy: 0.0141\n"
          ],
          "name": "stdout"
        }
      ]
    },
    {
      "cell_type": "code",
      "metadata": {
        "colab": {
          "base_uri": "https://localhost:8080/"
        },
        "id": "0ofbWKfbCinZ",
        "outputId": "24135250-8c09-418e-d078-460d63967b36"
      },
      "source": [
        "def plot_graphs(history, string):\n",
        "  plt.plot(history.history[string])\n",
        "  plt.plot(history.history['val_'+string])\n",
        "  plt.xlabel(\"Epochs\")\n",
        "  plt.ylabel(string)\n",
        "  plt.legend([string, 'val_'+string])\n",
        "  plt.show()\n",
        "  \n",
        "plot_graphs(history, \"accuracy\")\n",
        "plot_graphs(history, \"loss\")"
      ],
      "execution_count": null,
      "outputs": [
        {
          "output_type": "display_data",
          "data": {
            "image/png": "[encoded data removed]",
            "text/plain": [
              "<Figure size 432x288 with 1 Axes>"
            ]
          },
          "metadata": {
            "tags": [],
            "needs_background": "light"
          }
        },
        {
          "output_type": "display_data",
          "data": {
            "image/png": "[encoded data removed]",
            "text/plain": [
              "<Figure size 432x288 with 1 Axes>"
            ]
          },
          "metadata": {
            "tags": [],
            "needs_background": "light"
          }
        }
      ]
    },
    {
      "cell_type": "code",
      "metadata": {
        "colab": {
          "base_uri": "https://localhost:8080/"
        },
        "id": "_v5ue_brXHa-",
        "outputId": "0bc5989a-8617-431b-de96-c48fef658fb7"
      },
      "source": [
        "age_model.evaluate(X_test_age, y_test_age)"
      ],
      "execution_count": null,
      "outputs": [
        {
          "output_type": "stream",
          "text": [
            "149/149 [==============================] - 1s 4ms/step - loss: 95.0260 - accuracy: 0.0105\n"
          ],
          "name": "stdout"
        },
        {
          "output_type": "execute_result",
          "data": {
            "text/plain": [
              "[95.02596282958984, 0.010546298697590828]"
            ]
          },
          "metadata": {
            "tags": []
          },
          "execution_count": 30
        }
      ]
    },
    {
      "cell_type": "code",
      "metadata": {
        "colab": {
          "base_uri": "https://localhost:8080/"
        },
        "id": "YgIaobT3-BKg",
        "outputId": "a11cb5c7-5b48-4341-daa2-ad67944857d0"
      },
      "source": [
        "print ('Actual Values:', y_test_age[:10])\n",
        "print()\n",
        "y_age_pred = age_model.predict(X_test_age[:10])\n",
        "print ('Predicted Values:', y_age_pred)"
      ],
      "execution_count": null,
      "outputs": [
        {
          "output_type": "stream",
          "text": [
            "Actual Values: 10851    30\n",
            "966       1\n",
            "14158    36\n",
            "8576     27\n",
            "21066    63\n",
            "11590    31\n",
            "7377     26\n",
            "4339     23\n",
            "3016      2\n",
            "11439    30\n",
            "Name: age, dtype: int64\n",
            "\n",
            "Predicted Values: [[22.74988  ]\n",
            " [-5.4867435]\n",
            " [33.611603 ]\n",
            " [39.149673 ]\n",
            " [83.92642  ]\n",
            " [33.581646 ]\n",
            " [25.777945 ]\n",
            " [30.454878 ]\n",
            " [-5.481271 ]\n",
            " [30.173866 ]]\n"
          ],
          "name": "stdout"
        }
      ]
    },
    {
      "cell_type": "markdown",
      "metadata": {
        "id": "wyChZgr2FmbC"
      },
      "source": [
        "# <font color=\"white\" size=+2.0><b>5: Hyper Parameterization</b></font> <a name=\"5\"></a>\n",
        "\n",
        "\n",
        "---\n",
        "<a href=\"#top\" class=\"btn btn-primary btn-sm\" role=\"button\" aria-pressed=\"true\" style=\"color:white\" data-toggle=\"popover\">Go to TOC</a> "
      ]
    },
    {
      "cell_type": "code",
      "metadata": {
        "id": "GxHeyuBcGyfw"
      },
      "source": [
        "## Optimizing the best parameters\n",
        "\n",
        "import tensorflow as tf\n",
        "from tensorboard.plugins.hparams import api as hp\n",
        "\n",
        "HP_NUM_UNITS = hp.HParam('num_units', hp.Discrete([16, 32]))\n",
        "HP_DROPOUT = hp.HParam('dropout', hp.RealInterval(0.1, 0.2))\n",
        "HP_OPTIMIZER = hp.HParam('optimizer', hp.Discrete(['adam', 'sgd', 'rmsprop']))\n",
        "\n",
        "METRIC_ACCURACY = 'accuracy'\n",
        "\n",
        "# hparams=[HP_NUM_UNITS, HP_DROPOUT, HP_OPTIMIZER]\n",
        "# metrics=[hp.Metric(METRIC_ACCURACY, display_name='Accuracy')]\n",
        "\n",
        "with tf.summary.create_file_writer('logs/hparam_tuning').as_default():\n",
        "\n",
        "  hp.hparams_config(\n",
        "      hparams=[HP_NUM_UNITS, HP_DROPOUT, HP_OPTIMIZER],\n",
        "      metrics=[hp.Metric(METRIC_ACCURACY, display_name='Accuracy')],\n",
        "  )"
      ],
      "execution_count": null,
      "outputs": []
    },
    {
      "cell_type": "code",
      "metadata": {
        "id": "9SDVk1drGydC"
      },
      "source": [
        "# Model for Ethnicity\n",
        "def train_test_model(hparams):\n",
        "  ethnicity_model = tf.keras.models.Sequential([\n",
        "      tf.keras.layers.Conv2D(64, (3,3), activation='relu', input_shape=(48,48,1)),\n",
        "      tf.keras.layers.MaxPooling2D(2,2),\n",
        "      tf.keras.layers.Conv2D(128, (3,3), activation='relu'),\n",
        "      tf.keras.layers.MaxPooling2D(2,2),\n",
        "      tf.keras.layers.Conv2D(128, (3,3), activation='relu'),\n",
        "      tf.keras.layers.MaxPooling2D(2,2),\n",
        "      tf.keras.layers.Conv2D(64, (3,3), activation='relu'),\n",
        "      tf.keras.layers.MaxPooling2D(2,2),\n",
        "      tf.keras.layers.Flatten(),\n",
        "      tf.keras.layers.Dense(hparams[HP_NUM_UNITS], activation='relu'),\n",
        "      tf.keras.layers.Dropout(hparams[HP_DROPOUT]),\n",
        "      # tf.keras.layers.Dense(8, activation='relu'),\n",
        "      # tf.keras.layers.Dropout(0.2),\n",
        "      tf.keras.layers.Dense(5, activation='softmax'),\n",
        "  ])\n",
        "  ethnicity_model.compile(optimizer=hparams[HP_OPTIMIZER], loss='sparse_categorical_crossentropy', metrics=['accuracy'])\n",
        "\n",
        "  \n",
        "  ethnicity_model.fit(train_generator,\n",
        "                      steps_per_epoch=len(X_train_ethnicity)/128,  \n",
        "                      epochs=15,\n",
        "                      validation_data=validation_generator,  \n",
        "                      verbose=2)\n",
        "  \n",
        "  _, accuracy = ethnicity_model.evaluate(X_test_ethnicity, y_test_ethnicity)\n",
        "\n",
        "  return accuracy\n"
      ],
      "execution_count": null,
      "outputs": []
    },
    {
      "cell_type": "code",
      "metadata": {
        "id": "-F9jNWo-GyaO"
      },
      "source": [
        "def run(run_dir, hparams):\n",
        "  with tf.summary.create_file_writer(run_dir).as_default():\n",
        "    hp.hparams(hparams)  # record the values used in this trial\n",
        "    accuracy = train_test_model(hparams)\n",
        "    tf.summary.scalar(METRIC_ACCURACY, accuracy, step=1)"
      ],
      "execution_count": null,
      "outputs": []
    },
    {
      "cell_type": "code",
      "metadata": {
        "colab": {
          "base_uri": "https://localhost:8080/"
        },
        "id": "AzgNeG7FGyX6",
        "outputId": "fe5d3cb5-2666-4e04-9246-abc10ae88972"
      },
      "source": [
        "session_num = 0\n",
        "\n",
        "for num_units in HP_NUM_UNITS.domain.values:\n",
        "  for dropout_rate in (HP_DROPOUT.domain.min_value, HP_DROPOUT.domain.max_value):\n",
        "    for optimizer in HP_OPTIMIZER.domain.values:\n",
        "      hparams = {\n",
        "          HP_NUM_UNITS: num_units,\n",
        "          HP_DROPOUT: dropout_rate,\n",
        "          HP_OPTIMIZER: optimizer,\n",
        "      }\n",
        "      run_name = \"run-%d\" % session_num\n",
        "      print('--- Starting trial: %s' % run_name)\n",
        "      print({h.name: hparams[h] for h in hparams})\n",
        "      run('logs/hparam_tuning/' + run_name, hparams)\n",
        "      session_num += 1"
      ],
      "execution_count": null,
      "outputs": [
        {
          "output_type": "stream",
          "text": [
            "--- Starting trial: run-0\n",
            "{'num_units': 16, 'dropout': 0.1, 'optimizer': 'adam'}\n",
            "Epoch 1/15\n",
            "111/111 - 15s - loss: 1.4383 - accuracy: 0.4320 - val_loss: 1.3643 - val_accuracy: 0.4740\n",
            "Epoch 2/15\n",
            "111/111 - 14s - loss: 1.3823 - accuracy: 0.4597 - val_loss: 1.3555 - val_accuracy: 0.4708\n",
            "Epoch 3/15\n",
            "111/111 - 14s - loss: 1.3608 - accuracy: 0.4643 - val_loss: 1.3177 - val_accuracy: 0.4843\n",
            "Epoch 4/15\n",
            "111/111 - 14s - loss: 1.3362 - accuracy: 0.4730 - val_loss: 1.2778 - val_accuracy: 0.4917\n",
            "Epoch 5/15\n",
            "111/111 - 14s - loss: 1.2955 - accuracy: 0.4884 - val_loss: 1.2891 - val_accuracy: 0.5079\n",
            "Epoch 6/15\n",
            "111/111 - 14s - loss: 1.2571 - accuracy: 0.5058 - val_loss: 1.1730 - val_accuracy: 0.5391\n",
            "Epoch 7/15\n",
            "111/111 - 14s - loss: 1.2129 - accuracy: 0.5279 - val_loss: 1.2400 - val_accuracy: 0.5035\n",
            "Epoch 8/15\n",
            "111/111 - 14s - loss: 1.1720 - accuracy: 0.5493 - val_loss: 1.1873 - val_accuracy: 0.5402\n",
            "Epoch 9/15\n",
            "111/111 - 14s - loss: 1.1318 - accuracy: 0.5686 - val_loss: 1.1101 - val_accuracy: 0.5729\n",
            "Epoch 10/15\n",
            "111/111 - 14s - loss: 1.1126 - accuracy: 0.5793 - val_loss: 1.1397 - val_accuracy: 0.5722\n",
            "Epoch 11/15\n",
            "111/111 - 14s - loss: 1.1022 - accuracy: 0.5849 - val_loss: 1.1429 - val_accuracy: 0.5617\n",
            "Epoch 12/15\n",
            "111/111 - 14s - loss: 1.0693 - accuracy: 0.5999 - val_loss: 1.0533 - val_accuracy: 0.6066\n",
            "Epoch 13/15\n",
            "111/111 - 14s - loss: 1.0583 - accuracy: 0.6096 - val_loss: 1.0075 - val_accuracy: 0.6227\n",
            "Epoch 14/15\n",
            "111/111 - 14s - loss: 1.0399 - accuracy: 0.6101 - val_loss: 1.0108 - val_accuracy: 0.6104\n",
            "Epoch 15/15\n",
            "111/111 - 14s - loss: 1.0290 - accuracy: 0.6222 - val_loss: 0.9998 - val_accuracy: 0.6298\n",
            "149/149 [==============================] - 1s 8ms/step - loss: 48.9837 - accuracy: 0.6610\n",
            "--- Starting trial: run-1\n",
            "{'num_units': 16, 'dropout': 0.1, 'optimizer': 'rmsprop'}\n",
            "Epoch 1/15\n",
            "111/111 - 15s - loss: 1.4802 - accuracy: 0.3869 - val_loss: 1.5100 - val_accuracy: 0.2187\n",
            "Epoch 2/15\n",
            "111/111 - 14s - loss: 1.4279 - accuracy: 0.4368 - val_loss: 1.4427 - val_accuracy: 0.3902\n",
            "Epoch 3/15\n",
            "111/111 - 14s - loss: 1.3946 - accuracy: 0.4511 - val_loss: 1.3962 - val_accuracy: 0.4233\n",
            "Epoch 4/15\n",
            "111/111 - 14s - loss: 1.3684 - accuracy: 0.4602 - val_loss: 1.3155 - val_accuracy: 0.4815\n",
            "Epoch 5/15\n",
            "111/111 - 14s - loss: 1.3277 - accuracy: 0.4706 - val_loss: 1.2735 - val_accuracy: 0.5012\n",
            "Epoch 6/15\n",
            "111/111 - 14s - loss: 1.2809 - accuracy: 0.4978 - val_loss: 1.2066 - val_accuracy: 0.5353\n",
            "Epoch 7/15\n",
            "111/111 - 14s - loss: 1.2446 - accuracy: 0.5163 - val_loss: 1.1662 - val_accuracy: 0.5625\n",
            "Epoch 8/15\n",
            "111/111 - 14s - loss: 1.2025 - accuracy: 0.5354 - val_loss: 1.1245 - val_accuracy: 0.5712\n",
            "Epoch 9/15\n",
            "111/111 - 14s - loss: 1.1777 - accuracy: 0.5507 - val_loss: 1.1505 - val_accuracy: 0.5585\n",
            "Epoch 10/15\n",
            "111/111 - 14s - loss: 1.1506 - accuracy: 0.5654 - val_loss: 1.0934 - val_accuracy: 0.5805\n",
            "Epoch 11/15\n",
            "111/111 - 14s - loss: 1.1231 - accuracy: 0.5767 - val_loss: 1.0639 - val_accuracy: 0.5883\n",
            "Epoch 12/15\n",
            "111/111 - 14s - loss: 1.1005 - accuracy: 0.5852 - val_loss: 1.0943 - val_accuracy: 0.5855\n",
            "Epoch 13/15\n",
            "111/111 - 14s - loss: 1.0798 - accuracy: 0.5993 - val_loss: 1.0334 - val_accuracy: 0.6210\n",
            "Epoch 14/15\n",
            "111/111 - 13s - loss: 1.0678 - accuracy: 0.6054 - val_loss: 1.0105 - val_accuracy: 0.6243\n",
            "Epoch 15/15\n",
            "111/111 - 13s - loss: 1.0391 - accuracy: 0.6163 - val_loss: 1.0006 - val_accuracy: 0.6283\n",
            "149/149 [==============================] - 1s 8ms/step - loss: 61.9669 - accuracy: 0.5982\n",
            "--- Starting trial: run-2\n",
            "{'num_units': 16, 'dropout': 0.1, 'optimizer': 'sgd'}\n",
            "Epoch 1/15\n",
            "111/111 - 15s - loss: 1.4937 - accuracy: 0.4183 - val_loss: 1.4250 - val_accuracy: 0.4360\n",
            "Epoch 2/15\n",
            "111/111 - 13s - loss: 1.4459 - accuracy: 0.4245 - val_loss: 1.4189 - val_accuracy: 0.4360\n",
            "Epoch 3/15\n",
            "111/111 - 13s - loss: 1.4372 - accuracy: 0.4247 - val_loss: 1.4105 - val_accuracy: 0.4362\n",
            "Epoch 4/15\n",
            "111/111 - 13s - loss: 1.4310 - accuracy: 0.4252 - val_loss: 1.4052 - val_accuracy: 0.4375\n",
            "Epoch 5/15\n",
            "111/111 - 14s - loss: 1.4213 - accuracy: 0.4320 - val_loss: 1.3929 - val_accuracy: 0.4478\n",
            "Epoch 6/15\n",
            "111/111 - 13s - loss: 1.4105 - accuracy: 0.4423 - val_loss: 1.3806 - val_accuracy: 0.4537\n",
            "Epoch 7/15\n",
            "111/111 - 14s - loss: 1.4028 - accuracy: 0.4546 - val_loss: 1.3726 - val_accuracy: 0.4689\n",
            "Epoch 8/15\n",
            "111/111 - 14s - loss: 1.3971 - accuracy: 0.4590 - val_loss: 1.3777 - val_accuracy: 0.4640\n",
            "Epoch 9/15\n",
            "111/111 - 14s - loss: 1.3923 - accuracy: 0.4616 - val_loss: 1.3648 - val_accuracy: 0.4691\n",
            "Epoch 10/15\n",
            "111/111 - 14s - loss: 1.3842 - accuracy: 0.4619 - val_loss: 1.3552 - val_accuracy: 0.4693\n",
            "Epoch 11/15\n",
            "111/111 - 14s - loss: 1.3864 - accuracy: 0.4600 - val_loss: 1.3688 - val_accuracy: 0.4611\n",
            "Epoch 12/15\n",
            "111/111 - 14s - loss: 1.3758 - accuracy: 0.4661 - val_loss: 1.3612 - val_accuracy: 0.4642\n",
            "Epoch 13/15\n",
            "111/111 - 14s - loss: 1.3757 - accuracy: 0.4657 - val_loss: 1.3584 - val_accuracy: 0.4699\n",
            "Epoch 14/15\n",
            "111/111 - 14s - loss: 1.3706 - accuracy: 0.4654 - val_loss: 1.3529 - val_accuracy: 0.4727\n",
            "Epoch 15/15\n",
            "111/111 - 14s - loss: 1.3752 - accuracy: 0.4599 - val_loss: 1.3393 - val_accuracy: 0.4756\n",
            "149/149 [==============================] - 1s 8ms/step - loss: 169.0810 - accuracy: 0.4155\n",
            "--- Starting trial: run-3\n",
            "{'num_units': 16, 'dropout': 0.2, 'optimizer': 'adam'}\n",
            "Epoch 1/15\n",
            "111/111 - 15s - loss: 1.4647 - accuracy: 0.4049 - val_loss: 1.3579 - val_accuracy: 0.4699\n",
            "Epoch 2/15\n",
            "111/111 - 14s - loss: 1.4010 - accuracy: 0.4524 - val_loss: 1.3376 - val_accuracy: 0.4718\n",
            "Epoch 3/15\n",
            "111/111 - 14s - loss: 1.3727 - accuracy: 0.4623 - val_loss: 1.3099 - val_accuracy: 0.4908\n",
            "Epoch 4/15\n",
            "111/111 - 14s - loss: 1.3431 - accuracy: 0.4750 - val_loss: 1.2985 - val_accuracy: 0.4891\n",
            "Epoch 5/15\n",
            "111/111 - 14s - loss: 1.2950 - accuracy: 0.5010 - val_loss: 1.2665 - val_accuracy: 0.4959\n",
            "Epoch 6/15\n",
            "111/111 - 14s - loss: 1.2556 - accuracy: 0.5173 - val_loss: 1.1907 - val_accuracy: 0.5351\n",
            "Epoch 7/15\n",
            "111/111 - 14s - loss: 1.2154 - accuracy: 0.5341 - val_loss: 1.1489 - val_accuracy: 0.5549\n",
            "Epoch 8/15\n",
            "111/111 - 14s - loss: 1.1948 - accuracy: 0.5381 - val_loss: 1.1500 - val_accuracy: 0.5560\n",
            "Epoch 9/15\n",
            "111/111 - 14s - loss: 1.1594 - accuracy: 0.5559 - val_loss: 1.0938 - val_accuracy: 0.5908\n",
            "Epoch 10/15\n",
            "111/111 - 14s - loss: 1.1333 - accuracy: 0.5741 - val_loss: 1.0783 - val_accuracy: 0.5879\n",
            "Epoch 11/15\n",
            "111/111 - 14s - loss: 1.1090 - accuracy: 0.5859 - val_loss: 1.0759 - val_accuracy: 0.5952\n",
            "Epoch 12/15\n",
            "111/111 - 14s - loss: 1.0947 - accuracy: 0.5886 - val_loss: 1.0526 - val_accuracy: 0.6011\n",
            "Epoch 13/15\n",
            "111/111 - 14s - loss: 1.0793 - accuracy: 0.6017 - val_loss: 1.0427 - val_accuracy: 0.6220\n",
            "Epoch 14/15\n",
            "111/111 - 14s - loss: 1.0568 - accuracy: 0.6115 - val_loss: 1.0233 - val_accuracy: 0.6212\n",
            "Epoch 15/15\n",
            "111/111 - 14s - loss: 1.0468 - accuracy: 0.6156 - val_loss: 1.0105 - val_accuracy: 0.6246\n",
            "149/149 [==============================] - 1s 8ms/step - loss: 47.9364 - accuracy: 0.6229\n",
            "--- Starting trial: run-4\n",
            "{'num_units': 16, 'dropout': 0.2, 'optimizer': 'rmsprop'}\n",
            "Epoch 1/15\n",
            "111/111 - 15s - loss: 1.5098 - accuracy: 0.3889 - val_loss: 1.5319 - val_accuracy: 0.3288\n",
            "Epoch 2/15\n",
            "111/111 - 14s - loss: 1.4148 - accuracy: 0.4494 - val_loss: 1.3476 - val_accuracy: 0.4744\n",
            "Epoch 3/15\n",
            "111/111 - 14s - loss: 1.3834 - accuracy: 0.4585 - val_loss: 1.3444 - val_accuracy: 0.4731\n",
            "Epoch 4/15\n",
            "111/111 - 14s - loss: 1.3624 - accuracy: 0.4638 - val_loss: 1.2822 - val_accuracy: 0.4927\n",
            "Epoch 5/15\n",
            "111/111 - 14s - loss: 1.3228 - accuracy: 0.4780 - val_loss: 1.2399 - val_accuracy: 0.5079\n",
            "Epoch 6/15\n",
            "111/111 - 14s - loss: 1.2895 - accuracy: 0.4891 - val_loss: 1.2974 - val_accuracy: 0.4702\n",
            "Epoch 7/15\n",
            "111/111 - 14s - loss: 1.2391 - accuracy: 0.5163 - val_loss: 1.1669 - val_accuracy: 0.5364\n",
            "Epoch 8/15\n",
            "111/111 - 14s - loss: 1.2055 - accuracy: 0.5305 - val_loss: 1.1147 - val_accuracy: 0.5592\n",
            "Epoch 9/15\n",
            "111/111 - 14s - loss: 1.1683 - accuracy: 0.5567 - val_loss: 1.0880 - val_accuracy: 0.5959\n",
            "Epoch 10/15\n",
            "111/111 - 14s - loss: 1.1381 - accuracy: 0.5709 - val_loss: 1.0932 - val_accuracy: 0.5834\n",
            "Epoch 11/15\n",
            "111/111 - 14s - loss: 1.1111 - accuracy: 0.5829 - val_loss: 1.1735 - val_accuracy: 0.5646\n",
            "Epoch 12/15\n",
            "111/111 - 14s - loss: 1.0973 - accuracy: 0.5874 - val_loss: 0.9979 - val_accuracy: 0.6334\n",
            "Epoch 13/15\n",
            "111/111 - 14s - loss: 1.0610 - accuracy: 0.6052 - val_loss: 1.0315 - val_accuracy: 0.6106\n",
            "Epoch 14/15\n",
            "111/111 - 14s - loss: 1.0437 - accuracy: 0.6133 - val_loss: 1.0306 - val_accuracy: 0.6132\n",
            "Epoch 15/15\n",
            "111/111 - 14s - loss: 1.0334 - accuracy: 0.6188 - val_loss: 1.0256 - val_accuracy: 0.6104\n",
            "149/149 [==============================] - 1s 8ms/step - loss: 63.5186 - accuracy: 0.5862\n",
            "--- Starting trial: run-5\n",
            "{'num_units': 16, 'dropout': 0.2, 'optimizer': 'sgd'}\n",
            "Epoch 1/15\n",
            "111/111 - 15s - loss: 1.5408 - accuracy: 0.4023 - val_loss: 1.4611 - val_accuracy: 0.4360\n",
            "Epoch 2/15\n",
            "111/111 - 14s - loss: 1.4650 - accuracy: 0.4247 - val_loss: 1.4307 - val_accuracy: 0.4360\n",
            "Epoch 3/15\n",
            "111/111 - 14s - loss: 1.4560 - accuracy: 0.4247 - val_loss: 1.4274 - val_accuracy: 0.4360\n",
            "Epoch 4/15\n",
            "111/111 - 14s - loss: 1.4529 - accuracy: 0.4247 - val_loss: 1.4261 - val_accuracy: 0.4360\n",
            "Epoch 5/15\n",
            "111/111 - 14s - loss: 1.4468 - accuracy: 0.4249 - val_loss: 1.4192 - val_accuracy: 0.4360\n",
            "Epoch 6/15\n",
            "111/111 - 14s - loss: 1.4387 - accuracy: 0.4253 - val_loss: 1.4115 - val_accuracy: 0.4360\n",
            "Epoch 7/15\n",
            "111/111 - 14s - loss: 1.4333 - accuracy: 0.4271 - val_loss: 1.4087 - val_accuracy: 0.4391\n",
            "Epoch 8/15\n",
            "111/111 - 14s - loss: 1.4236 - accuracy: 0.4346 - val_loss: 1.3962 - val_accuracy: 0.4438\n",
            "Epoch 9/15\n",
            "111/111 - 14s - loss: 1.4187 - accuracy: 0.4436 - val_loss: 1.3919 - val_accuracy: 0.4512\n",
            "Epoch 10/15\n",
            "111/111 - 14s - loss: 1.4099 - accuracy: 0.4490 - val_loss: 1.3810 - val_accuracy: 0.4607\n",
            "Epoch 11/15\n",
            "111/111 - 14s - loss: 1.4025 - accuracy: 0.4545 - val_loss: 1.3711 - val_accuracy: 0.4666\n",
            "Epoch 12/15\n",
            "111/111 - 14s - loss: 1.4002 - accuracy: 0.4549 - val_loss: 1.3693 - val_accuracy: 0.4664\n",
            "Epoch 13/15\n",
            "111/111 - 14s - loss: 1.3946 - accuracy: 0.4580 - val_loss: 1.3662 - val_accuracy: 0.4746\n",
            "Epoch 14/15\n",
            "111/111 - 14s - loss: 1.3919 - accuracy: 0.4564 - val_loss: 1.3558 - val_accuracy: 0.4822\n",
            "Epoch 15/15\n",
            "111/111 - 14s - loss: 1.3884 - accuracy: 0.4569 - val_loss: 1.3629 - val_accuracy: 0.4659\n",
            "149/149 [==============================] - 1s 8ms/step - loss: 106.1444 - accuracy: 0.4155\n",
            "--- Starting trial: run-6\n",
            "{'num_units': 32, 'dropout': 0.1, 'optimizer': 'adam'}\n",
            "Epoch 1/15\n",
            "111/111 - 14s - loss: 1.4486 - accuracy: 0.4306 - val_loss: 1.3700 - val_accuracy: 0.4642\n",
            "Epoch 2/15\n",
            "111/111 - 14s - loss: 1.3854 - accuracy: 0.4597 - val_loss: 1.3587 - val_accuracy: 0.4794\n",
            "Epoch 3/15\n",
            "111/111 - 14s - loss: 1.3596 - accuracy: 0.4704 - val_loss: 1.3256 - val_accuracy: 0.4752\n",
            "Epoch 4/15\n",
            "111/111 - 14s - loss: 1.3531 - accuracy: 0.4690 - val_loss: 1.3192 - val_accuracy: 0.4763\n",
            "Epoch 5/15\n",
            "111/111 - 14s - loss: 1.3305 - accuracy: 0.4770 - val_loss: 1.2723 - val_accuracy: 0.4891\n",
            "Epoch 6/15\n",
            "111/111 - 14s - loss: 1.2906 - accuracy: 0.4841 - val_loss: 1.2431 - val_accuracy: 0.5092\n",
            "Epoch 7/15\n",
            "111/111 - 14s - loss: 1.2452 - accuracy: 0.5095 - val_loss: 1.1847 - val_accuracy: 0.5452\n",
            "Epoch 8/15\n",
            "111/111 - 14s - loss: 1.2009 - accuracy: 0.5339 - val_loss: 1.1970 - val_accuracy: 0.5326\n",
            "Epoch 9/15\n",
            "111/111 - 14s - loss: 1.1823 - accuracy: 0.5445 - val_loss: 1.1257 - val_accuracy: 0.5609\n",
            "Epoch 10/15\n",
            "111/111 - 14s - loss: 1.1459 - accuracy: 0.5630 - val_loss: 1.1082 - val_accuracy: 0.5706\n",
            "Epoch 11/15\n",
            "111/111 - 14s - loss: 1.1238 - accuracy: 0.5732 - val_loss: 1.1140 - val_accuracy: 0.5592\n",
            "Epoch 12/15\n",
            "111/111 - 13s - loss: 1.1088 - accuracy: 0.5800 - val_loss: 1.0702 - val_accuracy: 0.6051\n",
            "Epoch 13/15\n",
            "111/111 - 13s - loss: 1.0869 - accuracy: 0.5878 - val_loss: 1.0470 - val_accuracy: 0.6113\n",
            "Epoch 14/15\n",
            "111/111 - 14s - loss: 1.0500 - accuracy: 0.6093 - val_loss: 1.0539 - val_accuracy: 0.5938\n",
            "Epoch 15/15\n",
            "111/111 - 13s - loss: 1.0430 - accuracy: 0.6104 - val_loss: 1.0149 - val_accuracy: 0.6256\n",
            "149/149 [==============================] - 1s 8ms/step - loss: 67.6673 - accuracy: 0.6193\n",
            "--- Starting trial: run-7\n",
            "{'num_units': 32, 'dropout': 0.1, 'optimizer': 'rmsprop'}\n",
            "Epoch 1/15\n",
            "111/111 - 15s - loss: 1.4499 - accuracy: 0.4346 - val_loss: 1.4399 - val_accuracy: 0.4524\n",
            "Epoch 2/15\n",
            "111/111 - 14s - loss: 1.3975 - accuracy: 0.4550 - val_loss: 1.3416 - val_accuracy: 0.4740\n",
            "Epoch 3/15\n",
            "111/111 - 14s - loss: 1.3780 - accuracy: 0.4594 - val_loss: 1.3387 - val_accuracy: 0.4796\n",
            "Epoch 4/15\n",
            "111/111 - 13s - loss: 1.3363 - accuracy: 0.4709 - val_loss: 1.2622 - val_accuracy: 0.4917\n",
            "Epoch 5/15\n",
            "111/111 - 14s - loss: 1.2991 - accuracy: 0.4826 - val_loss: 1.2421 - val_accuracy: 0.5136\n",
            "Epoch 6/15\n",
            "111/111 - 14s - loss: 1.2566 - accuracy: 0.5044 - val_loss: 1.1981 - val_accuracy: 0.5370\n",
            "Epoch 7/15\n",
            "111/111 - 13s - loss: 1.2368 - accuracy: 0.5145 - val_loss: 1.1550 - val_accuracy: 0.5581\n",
            "Epoch 8/15\n",
            "111/111 - 14s - loss: 1.1867 - accuracy: 0.5441 - val_loss: 1.2486 - val_accuracy: 0.5050\n",
            "Epoch 9/15\n",
            "111/111 - 14s - loss: 1.1640 - accuracy: 0.5490 - val_loss: 1.1207 - val_accuracy: 0.5665\n",
            "Epoch 10/15\n",
            "111/111 - 14s - loss: 1.1262 - accuracy: 0.5720 - val_loss: 1.0976 - val_accuracy: 0.5889\n",
            "Epoch 11/15\n",
            "111/111 - 14s - loss: 1.1013 - accuracy: 0.5836 - val_loss: 1.2240 - val_accuracy: 0.5144\n",
            "Epoch 12/15\n",
            "111/111 - 14s - loss: 1.0892 - accuracy: 0.5916 - val_loss: 1.0630 - val_accuracy: 0.5988\n",
            "Epoch 13/15\n",
            "111/111 - 14s - loss: 1.0584 - accuracy: 0.6061 - val_loss: 1.0352 - val_accuracy: 0.6005\n",
            "Epoch 14/15\n",
            "111/111 - 13s - loss: 1.0410 - accuracy: 0.6140 - val_loss: 1.0269 - val_accuracy: 0.6113\n",
            "Epoch 15/15\n",
            "111/111 - 13s - loss: 1.0141 - accuracy: 0.6251 - val_loss: 1.0962 - val_accuracy: 0.5895\n",
            "149/149 [==============================] - 1s 8ms/step - loss: 84.1614 - accuracy: 0.5452\n",
            "--- Starting trial: run-8\n",
            "{'num_units': 32, 'dropout': 0.1, 'optimizer': 'sgd'}\n",
            "Epoch 1/15\n",
            "111/111 - 14s - loss: 1.5162 - accuracy: 0.4119 - val_loss: 1.4416 - val_accuracy: 0.4360\n",
            "Epoch 2/15\n",
            "111/111 - 13s - loss: 1.4497 - accuracy: 0.4247 - val_loss: 1.4285 - val_accuracy: 0.4360\n",
            "Epoch 3/15\n",
            "111/111 - 13s - loss: 1.4457 - accuracy: 0.4248 - val_loss: 1.4274 - val_accuracy: 0.4360\n",
            "Epoch 4/15\n",
            "111/111 - 13s - loss: 1.4453 - accuracy: 0.4247 - val_loss: 1.4239 - val_accuracy: 0.4360\n",
            "Epoch 5/15\n",
            "111/111 - 13s - loss: 1.4418 - accuracy: 0.4247 - val_loss: 1.4214 - val_accuracy: 0.4360\n",
            "Epoch 6/15\n",
            "111/111 - 13s - loss: 1.4386 - accuracy: 0.4247 - val_loss: 1.4161 - val_accuracy: 0.4360\n",
            "Epoch 7/15\n",
            "111/111 - 13s - loss: 1.4352 - accuracy: 0.4247 - val_loss: 1.4128 - val_accuracy: 0.4360\n",
            "Epoch 8/15\n",
            "111/111 - 13s - loss: 1.4277 - accuracy: 0.4251 - val_loss: 1.4062 - val_accuracy: 0.4364\n",
            "Epoch 9/15\n",
            "111/111 - 13s - loss: 1.4213 - accuracy: 0.4287 - val_loss: 1.4001 - val_accuracy: 0.4429\n",
            "Epoch 10/15\n",
            "111/111 - 13s - loss: 1.4103 - accuracy: 0.4410 - val_loss: 1.3864 - val_accuracy: 0.4510\n",
            "Epoch 11/15\n",
            "111/111 - 13s - loss: 1.4036 - accuracy: 0.4506 - val_loss: 1.3783 - val_accuracy: 0.4564\n",
            "Epoch 12/15\n",
            "111/111 - 14s - loss: 1.3933 - accuracy: 0.4570 - val_loss: 1.3729 - val_accuracy: 0.4651\n",
            "Epoch 13/15\n",
            "111/111 - 13s - loss: 1.3903 - accuracy: 0.4557 - val_loss: 1.3668 - val_accuracy: 0.4678\n",
            "Epoch 14/15\n",
            "111/111 - 14s - loss: 1.3851 - accuracy: 0.4616 - val_loss: 1.3635 - val_accuracy: 0.4657\n",
            "Epoch 15/15\n",
            "111/111 - 14s - loss: 1.3781 - accuracy: 0.4619 - val_loss: 1.3519 - val_accuracy: 0.4763\n",
            "149/149 [==============================] - 1s 8ms/step - loss: 144.5560 - accuracy: 0.4155\n",
            "--- Starting trial: run-9\n",
            "{'num_units': 32, 'dropout': 0.2, 'optimizer': 'adam'}\n",
            "Epoch 1/15\n",
            "111/111 - 14s - loss: 1.4340 - accuracy: 0.4358 - val_loss: 1.3668 - val_accuracy: 0.4706\n",
            "Epoch 2/15\n",
            "111/111 - 14s - loss: 1.3902 - accuracy: 0.4586 - val_loss: 1.3402 - val_accuracy: 0.4712\n",
            "Epoch 3/15\n",
            "111/111 - 14s - loss: 1.3690 - accuracy: 0.4630 - val_loss: 1.3222 - val_accuracy: 0.4822\n",
            "Epoch 4/15\n",
            "111/111 - 13s - loss: 1.3370 - accuracy: 0.4748 - val_loss: 1.2774 - val_accuracy: 0.5009\n",
            "Epoch 5/15\n",
            "111/111 - 13s - loss: 1.2854 - accuracy: 0.4991 - val_loss: 1.2202 - val_accuracy: 0.5204\n",
            "Epoch 6/15\n",
            "111/111 - 13s - loss: 1.2351 - accuracy: 0.5236 - val_loss: 1.1692 - val_accuracy: 0.5476\n",
            "Epoch 7/15\n",
            "111/111 - 13s - loss: 1.1697 - accuracy: 0.5462 - val_loss: 1.1270 - val_accuracy: 0.5619\n",
            "Epoch 8/15\n",
            "111/111 - 13s - loss: 1.1295 - accuracy: 0.5716 - val_loss: 1.0892 - val_accuracy: 0.5862\n",
            "Epoch 9/15\n",
            "111/111 - 13s - loss: 1.1110 - accuracy: 0.5786 - val_loss: 1.0703 - val_accuracy: 0.5849\n",
            "Epoch 10/15\n",
            "111/111 - 13s - loss: 1.0679 - accuracy: 0.5976 - val_loss: 1.0372 - val_accuracy: 0.6178\n",
            "Epoch 11/15\n",
            "111/111 - 13s - loss: 1.0455 - accuracy: 0.6115 - val_loss: 1.0645 - val_accuracy: 0.6035\n",
            "Epoch 12/15\n",
            "111/111 - 13s - loss: 1.0292 - accuracy: 0.6209 - val_loss: 0.9810 - val_accuracy: 0.6372\n",
            "Epoch 13/15\n",
            "111/111 - 13s - loss: 1.0182 - accuracy: 0.6253 - val_loss: 0.9974 - val_accuracy: 0.6283\n",
            "Epoch 14/15\n",
            "111/111 - 13s - loss: 1.0071 - accuracy: 0.6340 - val_loss: 0.9533 - val_accuracy: 0.6429\n",
            "Epoch 15/15\n",
            "111/111 - 13s - loss: 0.9807 - accuracy: 0.6377 - val_loss: 0.9534 - val_accuracy: 0.6456\n",
            "149/149 [==============================] - 1s 8ms/step - loss: 41.5356 - accuracy: 0.6790\n",
            "--- Starting trial: run-10\n",
            "{'num_units': 32, 'dropout': 0.2, 'optimizer': 'rmsprop'}\n",
            "Epoch 1/15\n",
            "111/111 - 14s - loss: 1.4566 - accuracy: 0.4252 - val_loss: 1.3997 - val_accuracy: 0.4526\n",
            "Epoch 2/15\n",
            "111/111 - 13s - loss: 1.4051 - accuracy: 0.4486 - val_loss: 1.3690 - val_accuracy: 0.4699\n",
            "Epoch 3/15\n",
            "111/111 - 14s - loss: 1.3840 - accuracy: 0.4595 - val_loss: 1.3335 - val_accuracy: 0.4740\n",
            "Epoch 4/15\n",
            "111/111 - 14s - loss: 1.3562 - accuracy: 0.4638 - val_loss: 1.2846 - val_accuracy: 0.4898\n",
            "Epoch 5/15\n",
            "111/111 - 13s - loss: 1.3237 - accuracy: 0.4774 - val_loss: 1.2360 - val_accuracy: 0.5109\n",
            "Epoch 6/15\n",
            "111/111 - 13s - loss: 1.2801 - accuracy: 0.4983 - val_loss: 1.2619 - val_accuracy: 0.5035\n",
            "Epoch 7/15\n",
            "111/111 - 14s - loss: 1.2339 - accuracy: 0.5197 - val_loss: 1.1491 - val_accuracy: 0.5474\n",
            "Epoch 8/15\n",
            "111/111 - 13s - loss: 1.1961 - accuracy: 0.5438 - val_loss: 1.1906 - val_accuracy: 0.5256\n",
            "Epoch 9/15\n",
            "111/111 - 13s - loss: 1.1541 - accuracy: 0.5619 - val_loss: 1.1204 - val_accuracy: 0.5760\n",
            "Epoch 10/15\n",
            "111/111 - 14s - loss: 1.1151 - accuracy: 0.5817 - val_loss: 1.0586 - val_accuracy: 0.5984\n",
            "Epoch 11/15\n",
            "111/111 - 14s - loss: 1.0991 - accuracy: 0.5888 - val_loss: 1.0598 - val_accuracy: 0.6007\n",
            "Epoch 12/15\n",
            "111/111 - 13s - loss: 1.0707 - accuracy: 0.6031 - val_loss: 1.1905 - val_accuracy: 0.5583\n",
            "Epoch 13/15\n",
            "111/111 - 13s - loss: 1.0453 - accuracy: 0.6101 - val_loss: 1.0110 - val_accuracy: 0.6340\n",
            "Epoch 14/15\n",
            "111/111 - 13s - loss: 1.0374 - accuracy: 0.6132 - val_loss: 0.9709 - val_accuracy: 0.6433\n",
            "Epoch 15/15\n",
            "111/111 - 13s - loss: 1.0008 - accuracy: 0.6316 - val_loss: 1.0077 - val_accuracy: 0.6305\n",
            "149/149 [==============================] - 1s 8ms/step - loss: 41.9884 - accuracy: 0.6321\n",
            "--- Starting trial: run-11\n",
            "{'num_units': 32, 'dropout': 0.2, 'optimizer': 'sgd'}\n",
            "Epoch 1/15\n",
            "111/111 - 14s - loss: 1.4948 - accuracy: 0.4164 - val_loss: 1.4317 - val_accuracy: 0.4360\n",
            "Epoch 2/15\n",
            "111/111 - 13s - loss: 1.4506 - accuracy: 0.4241 - val_loss: 1.4277 - val_accuracy: 0.4360\n",
            "Epoch 3/15\n",
            "111/111 - 13s - loss: 1.4456 - accuracy: 0.4248 - val_loss: 1.4189 - val_accuracy: 0.4360\n",
            "Epoch 4/15\n",
            "111/111 - 13s - loss: 1.4421 - accuracy: 0.4247 - val_loss: 1.4162 - val_accuracy: 0.4360\n",
            "Epoch 5/15\n",
            "111/111 - 13s - loss: 1.4357 - accuracy: 0.4249 - val_loss: 1.4141 - val_accuracy: 0.4366\n",
            "Epoch 6/15\n",
            "111/111 - 13s - loss: 1.4283 - accuracy: 0.4297 - val_loss: 1.4021 - val_accuracy: 0.4391\n",
            "Epoch 7/15\n",
            "111/111 - 13s - loss: 1.4221 - accuracy: 0.4375 - val_loss: 1.3981 - val_accuracy: 0.4579\n",
            "Epoch 8/15\n",
            "111/111 - 13s - loss: 1.4143 - accuracy: 0.4455 - val_loss: 1.3838 - val_accuracy: 0.4602\n",
            "Epoch 9/15\n",
            "111/111 - 13s - loss: 1.4018 - accuracy: 0.4557 - val_loss: 1.3740 - val_accuracy: 0.4638\n",
            "Epoch 10/15\n",
            "111/111 - 13s - loss: 1.3949 - accuracy: 0.4571 - val_loss: 1.3762 - val_accuracy: 0.4661\n",
            "Epoch 11/15\n",
            "111/111 - 13s - loss: 1.3891 - accuracy: 0.4600 - val_loss: 1.3622 - val_accuracy: 0.4742\n",
            "Epoch 12/15\n",
            "111/111 - 13s - loss: 1.3866 - accuracy: 0.4628 - val_loss: 1.3624 - val_accuracy: 0.4706\n",
            "Epoch 13/15\n",
            "111/111 - 13s - loss: 1.3850 - accuracy: 0.4596 - val_loss: 1.3481 - val_accuracy: 0.4767\n",
            "Epoch 14/15\n",
            "111/111 - 13s - loss: 1.3778 - accuracy: 0.4632 - val_loss: 1.3530 - val_accuracy: 0.4716\n",
            "Epoch 15/15\n",
            "111/111 - 13s - loss: 1.3783 - accuracy: 0.4647 - val_loss: 1.3639 - val_accuracy: 0.4609\n",
            "149/149 [==============================] - 1s 8ms/step - loss: 142.1739 - accuracy: 0.4155\n"
          ],
          "name": "stdout"
        }
      ]
    },
    {
      "cell_type": "markdown",
      "metadata": {
        "id": "WAOTbmSgFmSp"
      },
      "source": [
        "# <font color=\"white\" size=+2.0><b>6: Making Prediction on the best parameters</b></font> <a name=\"6\"></a>\n",
        "\n",
        "\n",
        "---\n",
        "<a href=\"#top\" class=\"btn btn-primary btn-sm\" role=\"button\" aria-pressed=\"true\" style=\"color:white\" data-toggle=\"popover\">Go to TOC</a> "
      ]
    },
    {
      "cell_type": "code",
      "metadata": {
        "colab": {
          "base_uri": "https://localhost:8080/"
        },
        "id": "5r6nSd1xGx9f",
        "outputId": "c26627ce-e6de-4260-92f5-422c0e3a0f01"
      },
      "source": [
        "# Model for Ethnicity\n",
        "\n",
        "ethnicity_model = tf.keras.models.Sequential([\n",
        "    tf.keras.layers.Conv2D(64, (3,3), activation='relu', input_shape=(48,48,1)),\n",
        "    tf.keras.layers.MaxPooling2D(2,2),\n",
        "    tf.keras.layers.Conv2D(128, (3,3), activation='relu'),\n",
        "    tf.keras.layers.MaxPooling2D(2,2),\n",
        "    tf.keras.layers.Conv2D(128, (3,3), activation='relu'),\n",
        "    tf.keras.layers.MaxPooling2D(2,2),\n",
        "    tf.keras.layers.Conv2D(64, (3,3), activation='relu'),\n",
        "    tf.keras.layers.MaxPooling2D(2,2),\n",
        "    tf.keras.layers.Flatten(),\n",
        "    tf.keras.layers.Dense(32, activation='relu'),\n",
        "    tf.keras.layers.Dropout(0.2),\n",
        "    # tf.keras.layers.Dense(8, activation='relu'),\n",
        "    # tf.keras.layers.Dropout(0.2),\n",
        "    tf.keras.layers.Dense(5, activation='softmax'),\n",
        "])\n",
        "ethnicity_model.compile(optimizer='adam', loss='sparse_categorical_crossentropy', metrics=['accuracy'])\n",
        "\n",
        "ethnicity_model.summary()"
      ],
      "execution_count": null,
      "outputs": [
        {
          "output_type": "stream",
          "text": [
            "Model: \"sequential\"\n",
            "_________________________________________________________________\n",
            "Layer (type)                 Output Shape              Param #   \n",
            "=================================================================\n",
            "conv2d (Conv2D)              (None, 46, 46, 64)        640       \n",
            "_________________________________________________________________\n",
            "max_pooling2d (MaxPooling2D) (None, 23, 23, 64)        0         \n",
            "_________________________________________________________________\n",
            "conv2d_1 (Conv2D)            (None, 21, 21, 128)       73856     \n",
            "_________________________________________________________________\n",
            "max_pooling2d_1 (MaxPooling2 (None, 10, 10, 128)       0         \n",
            "_________________________________________________________________\n",
            "conv2d_2 (Conv2D)            (None, 8, 8, 128)         147584    \n",
            "_________________________________________________________________\n",
            "max_pooling2d_2 (MaxPooling2 (None, 4, 4, 128)         0         \n",
            "_________________________________________________________________\n",
            "conv2d_3 (Conv2D)            (None, 2, 2, 64)          73792     \n",
            "_________________________________________________________________\n",
            "max_pooling2d_3 (MaxPooling2 (None, 1, 1, 64)          0         \n",
            "_________________________________________________________________\n",
            "flatten (Flatten)            (None, 64)                0         \n",
            "_________________________________________________________________\n",
            "dense (Dense)                (None, 32)                2080      \n",
            "_________________________________________________________________\n",
            "dropout (Dropout)            (None, 32)                0         \n",
            "_________________________________________________________________\n",
            "dense_1 (Dense)              (None, 5)                 165       \n",
            "=================================================================\n",
            "Total params: 298,117\n",
            "Trainable params: 298,117\n",
            "Non-trainable params: 0\n",
            "_________________________________________________________________\n"
          ],
          "name": "stdout"
        }
      ]
    },
    {
      "cell_type": "code",
      "metadata": {
        "colab": {
          "base_uri": "https://localhost:8080/"
        },
        "id": "juouOE7kAHxK",
        "outputId": "b3d51e83-e97b-4d42-faa3-ee4c1924f497"
      },
      "source": [
        "train_generator = train_datagen.flow(\n",
        "        X_train_ethnicity, y_train_ethnicity, \n",
        "        batch_size=128)\n",
        " \n",
        "validation_generator = train_datagen.flow(\n",
        "        X_val_ethnicity, y_val_ethnicity,\n",
        "        batch_size=64)\n",
        " \n",
        "history = ethnicity_model.fit(\n",
        "      train_generator,\n",
        "      steps_per_epoch=len(X_train_ethnicity)/128,  \n",
        "      epochs=15,\n",
        "      validation_data=validation_generator,  \n",
        "      verbose=2)"
      ],
      "execution_count": null,
      "outputs": [
        {
          "output_type": "stream",
          "text": [
            "Epoch 1/15\n",
            "111/111 - 43s - loss: 1.4386 - accuracy: 0.4380 - val_loss: 1.3746 - val_accuracy: 0.4695\n",
            "Epoch 2/15\n",
            "111/111 - 9s - loss: 1.3869 - accuracy: 0.4602 - val_loss: 1.3725 - val_accuracy: 0.4545\n",
            "Epoch 3/15\n",
            "111/111 - 9s - loss: 1.3655 - accuracy: 0.4691 - val_loss: 1.3173 - val_accuracy: 0.4856\n",
            "Epoch 4/15\n",
            "111/111 - 9s - loss: 1.3393 - accuracy: 0.4792 - val_loss: 1.2854 - val_accuracy: 0.4997\n",
            "Epoch 5/15\n",
            "111/111 - 10s - loss: 1.3036 - accuracy: 0.4912 - val_loss: 1.2558 - val_accuracy: 0.5022\n",
            "Epoch 6/15\n",
            "111/111 - 9s - loss: 1.2491 - accuracy: 0.5164 - val_loss: 1.1864 - val_accuracy: 0.5412\n",
            "Epoch 7/15\n",
            "111/111 - 9s - loss: 1.1916 - accuracy: 0.5413 - val_loss: 1.1407 - val_accuracy: 0.5655\n",
            "Epoch 8/15\n",
            "111/111 - 10s - loss: 1.1500 - accuracy: 0.5632 - val_loss: 1.1006 - val_accuracy: 0.5773\n",
            "Epoch 9/15\n",
            "111/111 - 10s - loss: 1.1171 - accuracy: 0.5758 - val_loss: 1.0747 - val_accuracy: 0.5999\n",
            "Epoch 10/15\n",
            "111/111 - 9s - loss: 1.1078 - accuracy: 0.5855 - val_loss: 1.0469 - val_accuracy: 0.5940\n",
            "Epoch 11/15\n",
            "111/111 - 10s - loss: 1.0724 - accuracy: 0.6008 - val_loss: 1.0243 - val_accuracy: 0.6138\n",
            "Epoch 12/15\n",
            "111/111 - 9s - loss: 1.0626 - accuracy: 0.6097 - val_loss: 1.0828 - val_accuracy: 0.5929\n",
            "Epoch 13/15\n",
            "111/111 - 10s - loss: 1.0405 - accuracy: 0.6191 - val_loss: 1.0034 - val_accuracy: 0.6296\n",
            "Epoch 14/15\n",
            "111/111 - 9s - loss: 1.0234 - accuracy: 0.6252 - val_loss: 0.9962 - val_accuracy: 0.6324\n",
            "Epoch 15/15\n",
            "111/111 - 10s - loss: 1.0094 - accuracy: 0.6257 - val_loss: 0.9613 - val_accuracy: 0.6444\n"
          ],
          "name": "stdout"
        }
      ]
    },
    {
      "cell_type": "code",
      "metadata": {
        "colab": {
          "base_uri": "https://localhost:8080/"
        },
        "id": "dobbRu36AV2I",
        "outputId": "de835c59-2a62-4b46-a291-4335bc1b580a"
      },
      "source": [
        "ethnicity_model.evaluate(X_test_ethnicity, y_test_ethnicity)"
      ],
      "execution_count": null,
      "outputs": [
        {
          "output_type": "stream",
          "text": [
            "149/149 [==============================] - 1s 4ms/step - loss: 43.5098 - accuracy: 0.6444\n"
          ],
          "name": "stdout"
        },
        {
          "output_type": "execute_result",
          "data": {
            "text/plain": [
              "[43.50984191894531, 0.6443788409233093]"
            ]
          },
          "metadata": {
            "tags": []
          },
          "execution_count": 17
        }
      ]
    },
    {
      "cell_type": "code",
      "metadata": {
        "colab": {
          "base_uri": "https://localhost:8080/",
          "height": 541
        },
        "id": "uq8pv6WEAPIQ",
        "outputId": "30806279-af1f-43b1-e031-01820cedf349"
      },
      "source": [
        "def plot_graphs(history, string):\n",
        "  plt.plot(history.history[string])\n",
        "  plt.plot(history.history['val_'+string])\n",
        "  plt.xlabel(\"Epochs\")\n",
        "  plt.ylabel(string)\n",
        "  plt.legend([string, 'val_'+string])\n",
        "  plt.show()\n",
        "  \n",
        "plot_graphs(history, \"accuracy\")\n",
        "plot_graphs(history, \"loss\")"
      ],
      "execution_count": null,
      "outputs": [
        {
          "output_type": "display_data",
          "data": {
            "image/png": "[encoded data removed]",
            "text/plain": [
              "<Figure size 432x288 with 1 Axes>"
            ]
          },
          "metadata": {
            "tags": [],
            "needs_background": "light"
          }
        },
        {
          "output_type": "display_data",
          "data": {
            "image/png": "[encoded data removed]",
            "text/plain": [
              "<Figure size 432x288 with 1 Axes>"
            ]
          },
          "metadata": {
            "tags": [],
            "needs_background": "light"
          }
        }
      ]
    },
    {
      "cell_type": "markdown",
      "metadata": {
        "id": "ukGlo75-FmLj"
      },
      "source": [
        "# <font color=\"white\" size=+2.0><b>7: Summary</b></font> <a name=\"7\"></a>\n",
        "\n",
        "\n",
        "---\n",
        "<a href=\"#top\" class=\"btn btn-primary btn-sm\" role=\"button\" aria-pressed=\"true\" style=\"color:white\" data-toggle=\"popover\">Go to TOC</a> "
      ]
    },
    {
      "cell_type": "markdown",
      "metadata": {
        "id": "qaaJnYP9FmEG"
      },
      "source": [
        "# <font color=\"white\" size=+2.0><b>8: Future Work</b></font> <a name=\"8\"></a>\n",
        "\n",
        "\n",
        "---\n",
        "<a href=\"#top\" class=\"btn btn-primary btn-sm\" role=\"button\" aria-pressed=\"true\" style=\"color:white\" data-toggle=\"popover\">Go to TOC</a> "
      ]
    },
    {
      "cell_type": "markdown",
      "metadata": {
        "id": "ZOOxtWccGU5X"
      },
      "source": [
        "# <font color=\"white\" size=+2.0><b>9: Reference</b></font> <a name=\"9\"></a>\n",
        "\n",
        "\n",
        "---\n",
        "<a href=\"#top\" class=\"btn btn-primary btn-sm\" role=\"button\" aria-pressed=\"true\" style=\"color:white\" data-toggle=\"popover\">Go to TOC</a> "
      ]
    }
  ]
}