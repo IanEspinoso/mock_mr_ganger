{
  "nbformat": 4,
  "nbformat_minor": 0,
  "metadata": {
    "colab": {
      "name": "Fruit 360 Classification.ipynb",
      "provenance": [],
      "toc_visible": true,
      "authorship_tag": "ABX9TyM6NvrpBzbJMWDCpyWj/EYn",
      "include_colab_link": true
    },
    "kernelspec": {
      "name": "python3",
      "display_name": "Python 3"
    },
    "language_info": {
      "name": "python"
    }
  },
  "cells": [
    {
      "cell_type": "markdown",
      "metadata": {
        "id": "view-in-github",
        "colab_type": "text"
      },
      "source": [
        "<a href=\"https://colab.research.google.com/github/hargurjeet/DeepLearning/blob/main/Fruit_360_Classification.ipynb\" target=\"_parent\"><img src=\"https://colab.research.google.com/assets/colab-badge.svg\" alt=\"Open In Colab\"/></a>"
      ]
    },
    {
      "cell_type": "markdown",
      "metadata": {
        "id": "F3ok0S3ZZH_S"
      },
      "source": [
        "# Fruit 360 Dataset"
      ]
    },
    {
      "cell_type": "markdown",
      "metadata": {
        "id": "YKZqJDTPZH8W"
      },
      "source": [
        "# 1: About the Dataset"
      ]
    },
    {
      "cell_type": "markdown",
      "metadata": {
        "id": "q8RmNjf4ZH5f"
      },
      "source": [
        "Total number of images: 90483.\n",
        "\n",
        "Training set size: 67692 images (one fruit or vegetable per image).\n",
        "\n",
        "Test set size: 22688 images (one fruit or vegetable per image).\n",
        "\n",
        "Number of classes: 131 (fruits and vegetables).\n",
        "\n",
        "Image size: 100x100 pixels.\n",
        "\n",
        "Filename format: imageindex100.jpg (e.g. 32100.jpg) or rimageindex100.jpg (e.g. r32100.jpg) or r2imageindex100.jpg or r3imageindex100.jpg. \"r\" stands for rotated fruit. \"r2\" means that the fruit was rotated around the 3rd axis. \"100\" comes from image size (100x100 pixels).\n",
        "\n",
        "Different varieties of the same fruit (apple for instance) are stored as belonging to different classes."
      ]
    },
    {
      "cell_type": "markdown",
      "metadata": {
        "id": "BhylvgS2ZZ4o"
      },
      "source": [
        "2: Data Pre Processing"
      ]
    },
    {
      "cell_type": "markdown",
      "metadata": {
        "id": "VEMA-EGEZbmE"
      },
      "source": [
        "Since we are using PyTorch to build the neural network. I import all the related library in single go."
      ]
    },
    {
      "cell_type": "code",
      "metadata": {
        "id": "HTaVZ4M9Y3bn"
      },
      "source": [
        "import os\n",
        "import torch\n",
        "import torchvision\n",
        "import tarfile\n",
        "import torch.nn as nn\n",
        "import numpy as np\n",
        "import torch.nn.functional as F\n",
        "from torchvision.datasets.utils import download_url\n",
        "from torchvision.datasets import ImageFolder\n",
        "from torch.utils.data import DataLoader\n",
        "from torchvision.transforms import ToTensor\n",
        "import torchvision.transforms as tt\n",
        "from torch.utils.data import random_split\n",
        "from torchvision.utils import make_grid\n",
        "import matplotlib\n",
        "import matplotlib.pyplot as plt\n",
        "from torchvision.datasets import CIFAR10\n",
        "%matplotlib inline\n",
        "\n",
        "import warnings\n",
        "warnings.filterwarnings(\"ignore\")"
      ],
      "execution_count": 36,
      "outputs": []
    },
    {
      "cell_type": "markdown",
      "metadata": {
        "id": "nR_ywQl0b5OR"
      },
      "source": [
        "# 2: Data Pre Processing"
      ]
    },
    {
      "cell_type": "markdown",
      "metadata": {
        "id": "9PF07P7KdweR"
      },
      "source": [
        "## 2.1 Downloading the dataset"
      ]
    },
    {
      "cell_type": "code",
      "metadata": {
        "colab": {
          "resources": {
            "http://localhost:8080/nbextensions/google.colab/files.js": {
              "data": "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",
              "ok": true,
              "headers": [
                [
                  "content-type",
                  "application/javascript"
                ]
              ],
              "status": 200,
              "status_text": ""
            }
          },
          "base_uri": "https://localhost:8080/",
          "height": 438
        },
        "id": "ScBldc5KZe9g",
        "outputId": "dd400f6d-8a4d-4b96-fcf8-bba7aa552eae"
      },
      "source": [
        "# Upload kaggle.jason\n",
        "# please follow this link incase not aware: https://www.kaggle.com/general/74235\n",
        "from google.colab import files\n",
        "files.upload()\n",
        "\n",
        "! pip install opendatasets --upgrade\n",
        "import opendatasets as od\n",
        "\n",
        "dataset_url = 'https://www.kaggle.com/moltean/fruits'\n",
        "od.download(dataset_url)"
      ],
      "execution_count": 2,
      "outputs": [
        {
          "output_type": "display_data",
          "data": {
            "text/html": [
              "\n",
              "     <input type=\"file\" id=\"files-1daabcfd-a8ec-4432-a257-715f41fc7d62\" name=\"files[]\" multiple disabled\n",
              "        style=\"border:none\" />\n",
              "     <output id=\"result-1daabcfd-a8ec-4432-a257-715f41fc7d62\">\n",
              "      Upload widget is only available when the cell has been executed in the\n",
              "      current browser session. Please rerun this cell to enable.\n",
              "      </output>\n",
              "      <script src=\"/nbextensions/google.colab/files.js\"></script> "
            ],
            "text/plain": [
              "<IPython.core.display.HTML object>"
            ]
          },
          "metadata": {
            "tags": []
          }
        },
        {
          "output_type": "stream",
          "text": [
            "Saving kaggle.json to kaggle.json\n",
            "Collecting opendatasets\n",
            "  Downloading https://files.pythonhosted.org/packages/94/52/675979787e9ff83118b203821e859e461fadc60795fe60ebb4bfc8142492/opendatasets-0.1.11-py3-none-any.whl\n",
            "Requirement already satisfied, skipping upgrade: click in /usr/local/lib/python3.7/dist-packages (from opendatasets) (8.0.0)\n",
            "Requirement already satisfied, skipping upgrade: kaggle in /usr/local/lib/python3.7/dist-packages (from opendatasets) (1.5.12)\n",
            "Requirement already satisfied, skipping upgrade: tqdm in /usr/local/lib/python3.7/dist-packages (from opendatasets) (4.41.1)\n",
            "Requirement already satisfied, skipping upgrade: requests in /usr/local/lib/python3.7/dist-packages (from kaggle->opendatasets) (2.23.0)\n",
            "Requirement already satisfied, skipping upgrade: python-dateutil in /usr/local/lib/python3.7/dist-packages (from kaggle->opendatasets) (2.8.1)\n",
            "Requirement already satisfied, skipping upgrade: certifi in /usr/local/lib/python3.7/dist-packages (from kaggle->opendatasets) (2020.12.5)\n",
            "Requirement already satisfied, skipping upgrade: urllib3 in /usr/local/lib/python3.7/dist-packages (from kaggle->opendatasets) (1.24.3)\n",
            "Requirement already satisfied, skipping upgrade: six>=1.10 in /usr/local/lib/python3.7/dist-packages (from kaggle->opendatasets) (1.15.0)\n",
            "Requirement already satisfied, skipping upgrade: python-slugify in /usr/local/lib/python3.7/dist-packages (from kaggle->opendatasets) (5.0.2)\n",
            "Requirement already satisfied, skipping upgrade: chardet<4,>=3.0.2 in /usr/local/lib/python3.7/dist-packages (from requests->kaggle->opendatasets) (3.0.4)\n",
            "Requirement already satisfied, skipping upgrade: idna<3,>=2.5 in /usr/local/lib/python3.7/dist-packages (from requests->kaggle->opendatasets) (2.10)\n",
            "Requirement already satisfied, skipping upgrade: text-unidecode>=1.3 in /usr/local/lib/python3.7/dist-packages (from python-slugify->kaggle->opendatasets) (1.3)\n",
            "Installing collected packages: opendatasets\n",
            "Successfully installed opendatasets-0.1.11\n"
          ],
          "name": "stdout"
        },
        {
          "output_type": "stream",
          "text": [
            "  0%|          | 3.00M/760M [00:00<00:27, 28.9MB/s]"
          ],
          "name": "stderr"
        },
        {
          "output_type": "stream",
          "text": [
            "Downloading fruits.zip to ./fruits\n"
          ],
          "name": "stdout"
        },
        {
          "output_type": "stream",
          "text": [
            "100%|██████████| 760M/760M [00:08<00:00, 91.7MB/s]\n"
          ],
          "name": "stderr"
        },
        {
          "output_type": "stream",
          "text": [
            "\n"
          ],
          "name": "stdout"
        }
      ]
    },
    {
      "cell_type": "markdown",
      "metadata": {
        "id": "RGI4KJVEd0uF"
      },
      "source": [
        "Before we run any exploration the dataset has to be loaded to a dataloader"
      ]
    },
    {
      "cell_type": "code",
      "metadata": {
        "id": "Cb1r50XEeAEz"
      },
      "source": [
        "data_dir = '/content/fruits/fruits-360/'\n",
        "\n",
        "dataset = ImageFolder(data_dir + \"Training\", transform=ToTensor())\n",
        "\n",
        "Testing = ImageFolder(data_dir + \"Test\", transform=ToTensor())"
      ],
      "execution_count": 37,
      "outputs": []
    },
    {
      "cell_type": "markdown",
      "metadata": {
        "id": "ePS5yWWLcXXX"
      },
      "source": [
        "# 3: Exploring the dataset"
      ]
    },
    {
      "cell_type": "markdown",
      "metadata": {
        "id": "rMRr9QN4egJW"
      },
      "source": [
        "## Q: How many images does the training and testing dataset contain?"
      ]
    },
    {
      "cell_type": "code",
      "metadata": {
        "colab": {
          "base_uri": "https://localhost:8080/"
        },
        "id": "IwV_X-_Kei_g",
        "outputId": "473fce16-1af0-4b8f-eb4e-e4139c4c00f1"
      },
      "source": [
        "dataset_size = len(dataset)\n",
        "test_dataset_size = len(Testing)\n",
        "print(dataset)\n",
        "print(Testing)"
      ],
      "execution_count": 38,
      "outputs": [
        {
          "output_type": "stream",
          "text": [
            "Dataset ImageFolder\n",
            "    Number of datapoints: 67692\n",
            "    Root location: /content/fruits/fruits-360/Training\n",
            "    StandardTransform\n",
            "Transform: ToTensor()\n",
            "Dataset ImageFolder\n",
            "    Number of datapoints: 22688\n",
            "    Root location: /content/fruits/fruits-360/Test\n",
            "    StandardTransform\n",
            "Transform: ToTensor()\n"
          ],
          "name": "stdout"
        }
      ]
    },
    {
      "cell_type": "markdown",
      "metadata": {
        "id": "yArdZxI-dSxe"
      },
      "source": [
        "## Q: How many output classes does the dataset contain?"
      ]
    },
    {
      "cell_type": "code",
      "metadata": {
        "colab": {
          "base_uri": "https://localhost:8080/"
        },
        "id": "BxkOs8bPaPbH",
        "outputId": "0142d3df-170a-4ed1-bd7f-b5d18cdc36ca"
      },
      "source": [
        "# Accesssing the classes\n",
        "data_dir = '/content/fruits/fruits-360/'\n",
        "\n",
        "# print(os.listdir(data_dir))\n",
        "classes = os.listdir(data_dir + \"Test\")\n",
        "print(f'Total Number of Classe {len(classes)}')\n",
        "print(f'Classes Names: {classes}')"
      ],
      "execution_count": 39,
      "outputs": [
        {
          "output_type": "stream",
          "text": [
            "Total Number of Classe 131\n",
            "Classes Names: ['Corn Husk', 'Guava', 'Apple Pink Lady', 'Watermelon', 'Cherry 2', 'Banana Lady Finger', 'Onion White', 'Quince', 'Kumquats', 'Apple Red 3', 'Nut Forest', 'Pear Monster', 'Pear 2', 'Blueberry', 'Pear Forelle', 'Maracuja', 'Peach Flat', 'Grape White 3', 'Cantaloupe 1', 'Corn', 'Cocos', 'Tomato not Ripened', 'Grape White 4', 'Apple Red 1', 'Lemon', 'Pineapple', 'Ginger Root', 'Apricot', 'Salak', 'Cherry Rainier', 'Potato Red', 'Pear Kaiser', 'Apple Crimson Snow', 'Apple Red Delicious', 'Mangostan', 'Peach', 'Pear Stone', 'Lemon Meyer', 'Clementine', 'Papaya', 'Eggplant', 'Rambutan', 'Mango Red', 'Banana Red', 'Avocado ripe', 'Raspberry', 'Pepper Yellow', 'Onion Red', 'Kohlrabi', 'Passion Fruit', 'Pear Red', 'Avocado', 'Grape White 2', 'Pepper Green', 'Pepper Orange', 'Redcurrant', 'Grape Pink', 'Tomato Yellow', 'Tomato Maroon', 'Pomegranate', 'Huckleberry', 'Mango', 'Grapefruit White', 'Potato White', 'Mandarine', 'Nectarine Flat', 'Grape Blue', 'Strawberry', 'Apple Red 2', 'Tomato Cherry Red', 'Tomato Heart', 'Banana', 'Dates', 'Melon Piel de Sapo', 'Plum', 'Beetroot', 'Potato Red Washed', 'Pear Abate', 'Physalis with Husk', 'Granadilla', 'Tangelo', 'Walnut', 'Pineapple Mini', 'Kiwi', 'Chestnut', 'Nectarine', 'Pepino', 'Cantaloupe 2', 'Cucumber Ripe', 'Mulberry', 'Cherry Wax Red', 'Pitahaya Red', 'Pepper Red', 'Cherry Wax Yellow', 'Tomato 1', 'Grapefruit Pink', 'Apple Golden 2', 'Limes', 'Kaki', 'Lychee', 'Strawberry Wedge', 'Apple Golden 3', 'Pomelo Sweetie', 'Tomato 2', 'Tamarillo', 'Pear', 'Physalis', 'Grape White', 'Plum 3', 'Onion Red Peeled', 'Peach 2', 'Plum 2', 'Cactus fruit', 'Apple Granny Smith', 'Cherry 1', 'Cauliflower', 'Apple Braeburn', 'Apple Golden 1', 'Carambula', 'Cucumber Ripe 2', 'Hazelnut', 'Fig', 'Tomato 4', 'Potato Sweet', 'Apple Red Yellow 1', 'Cherry Wax Black', 'Nut Pecan', 'Tomato 3', 'Orange', 'Apple Red Yellow 2', 'Pear Williams']\n"
          ],
          "name": "stdout"
        }
      ]
    },
    {
      "cell_type": "markdown",
      "metadata": {
        "id": "un9nkUMLhdFa"
      },
      "source": [
        "## Q: What is the shape of an image tensor from the dataset?"
      ]
    },
    {
      "cell_type": "code",
      "metadata": {
        "colab": {
          "base_uri": "https://localhost:8080/"
        },
        "id": "RA1wqDXjgBHw",
        "outputId": "e21f68ae-5391-4d62-fea7-12490154922b"
      },
      "source": [
        "img, label = dataset[0]\n",
        "img_shape = img.shape\n",
        "img_shape"
      ],
      "execution_count": 41,
      "outputs": [
        {
          "output_type": "execute_result",
          "data": {
            "text/plain": [
              "torch.Size([3, 100, 100])"
            ]
          },
          "metadata": {
            "tags": []
          },
          "execution_count": 41
        }
      ]
    },
    {
      "cell_type": "markdown",
      "metadata": {
        "id": "aJX6y3lBhSLE"
      },
      "source": [
        "Let us print a sample image along with its class and label."
      ]
    },
    {
      "cell_type": "code",
      "metadata": {
        "colab": {
          "base_uri": "https://localhost:8080/",
          "height": 305
        },
        "id": "2_vO3vHWiTq2",
        "outputId": "9f0db76b-6b18-4e82-bdb2-ce2bf613a865"
      },
      "source": [
        "img, label = dataset[0]\n",
        "plt.imshow(img.permute((1, 2, 0)))\n",
        "print('Label (numeric):', label)\n",
        "print('Label (textual):', classes[label])"
      ],
      "execution_count": 42,
      "outputs": [
        {
          "output_type": "stream",
          "text": [
            "Label (numeric): 0\n",
            "Label (textual): Corn Husk\n"
          ],
          "name": "stdout"
        },
        {
          "output_type": "display_data",
          "data": {
            "image/png": "[encoded data removed]",
            "text/plain": [
              "<Figure size 432x288 with 1 Axes>"
            ]
          },
          "metadata": {
            "tags": [],
            "needs_background": "light"
          }
        }
      ]
    },
    {
      "cell_type": "markdown",
      "metadata": {
        "id": "46MrTbC4iaPG"
      },
      "source": [
        "## Q: Can you determine the number of images belonging to each class?"
      ]
    },
    {
      "cell_type": "code",
      "metadata": {
        "colab": {
          "base_uri": "https://localhost:8080/"
        },
        "id": "CXKRgST7iVLI",
        "outputId": "85c35eb0-6194-4963-8389-81f2c7a419df"
      },
      "source": [
        "dataset_size = len(dataset)\n",
        "classes = dataset.classes\n",
        "num_classes = len(dataset.classes)\n",
        "\n",
        "img_dict = {}\n",
        "for i in range(num_classes):\n",
        "    img_dict[classes[i]] = 0\n",
        "    \n",
        "for i in range(dataset_size):\n",
        "    img, label = dataset[i]\n",
        "    img_dict[classes[label]] += 1\n",
        "\n",
        "img_dict"
      ],
      "execution_count": 43,
      "outputs": [
        {
          "output_type": "execute_result",
          "data": {
            "text/plain": [
              "{'Apple Braeburn': 492,\n",
              " 'Apple Crimson Snow': 444,\n",
              " 'Apple Golden 1': 480,\n",
              " 'Apple Golden 2': 492,\n",
              " 'Apple Golden 3': 481,\n",
              " 'Apple Granny Smith': 492,\n",
              " 'Apple Pink Lady': 456,\n",
              " 'Apple Red 1': 492,\n",
              " 'Apple Red 2': 492,\n",
              " 'Apple Red 3': 429,\n",
              " 'Apple Red Delicious': 490,\n",
              " 'Apple Red Yellow 1': 492,\n",
              " 'Apple Red Yellow 2': 672,\n",
              " 'Apricot': 492,\n",
              " 'Avocado': 427,\n",
              " 'Avocado ripe': 491,\n",
              " 'Banana': 490,\n",
              " 'Banana Lady Finger': 450,\n",
              " 'Banana Red': 490,\n",
              " 'Beetroot': 450,\n",
              " 'Blueberry': 462,\n",
              " 'Cactus fruit': 490,\n",
              " 'Cantaloupe 1': 492,\n",
              " 'Cantaloupe 2': 492,\n",
              " 'Carambula': 490,\n",
              " 'Cauliflower': 702,\n",
              " 'Cherry 1': 492,\n",
              " 'Cherry 2': 738,\n",
              " 'Cherry Rainier': 738,\n",
              " 'Cherry Wax Black': 492,\n",
              " 'Cherry Wax Red': 492,\n",
              " 'Cherry Wax Yellow': 492,\n",
              " 'Chestnut': 450,\n",
              " 'Clementine': 490,\n",
              " 'Cocos': 490,\n",
              " 'Corn': 450,\n",
              " 'Corn Husk': 462,\n",
              " 'Cucumber Ripe': 392,\n",
              " 'Cucumber Ripe 2': 468,\n",
              " 'Dates': 490,\n",
              " 'Eggplant': 468,\n",
              " 'Fig': 702,\n",
              " 'Ginger Root': 297,\n",
              " 'Granadilla': 490,\n",
              " 'Grape Blue': 984,\n",
              " 'Grape Pink': 492,\n",
              " 'Grape White': 490,\n",
              " 'Grape White 2': 490,\n",
              " 'Grape White 3': 492,\n",
              " 'Grape White 4': 471,\n",
              " 'Grapefruit Pink': 490,\n",
              " 'Grapefruit White': 492,\n",
              " 'Guava': 490,\n",
              " 'Hazelnut': 464,\n",
              " 'Huckleberry': 490,\n",
              " 'Kaki': 490,\n",
              " 'Kiwi': 466,\n",
              " 'Kohlrabi': 471,\n",
              " 'Kumquats': 490,\n",
              " 'Lemon': 492,\n",
              " 'Lemon Meyer': 490,\n",
              " 'Limes': 490,\n",
              " 'Lychee': 490,\n",
              " 'Mandarine': 490,\n",
              " 'Mango': 490,\n",
              " 'Mango Red': 426,\n",
              " 'Mangostan': 300,\n",
              " 'Maracuja': 490,\n",
              " 'Melon Piel de Sapo': 738,\n",
              " 'Mulberry': 492,\n",
              " 'Nectarine': 492,\n",
              " 'Nectarine Flat': 480,\n",
              " 'Nut Forest': 654,\n",
              " 'Nut Pecan': 534,\n",
              " 'Onion Red': 450,\n",
              " 'Onion Red Peeled': 445,\n",
              " 'Onion White': 438,\n",
              " 'Orange': 479,\n",
              " 'Papaya': 492,\n",
              " 'Passion Fruit': 490,\n",
              " 'Peach': 492,\n",
              " 'Peach 2': 738,\n",
              " 'Peach Flat': 492,\n",
              " 'Pear': 492,\n",
              " 'Pear 2': 696,\n",
              " 'Pear Abate': 490,\n",
              " 'Pear Forelle': 702,\n",
              " 'Pear Kaiser': 300,\n",
              " 'Pear Monster': 490,\n",
              " 'Pear Red': 666,\n",
              " 'Pear Stone': 711,\n",
              " 'Pear Williams': 490,\n",
              " 'Pepino': 490,\n",
              " 'Pepper Green': 444,\n",
              " 'Pepper Orange': 702,\n",
              " 'Pepper Red': 666,\n",
              " 'Pepper Yellow': 666,\n",
              " 'Physalis': 492,\n",
              " 'Physalis with Husk': 492,\n",
              " 'Pineapple': 490,\n",
              " 'Pineapple Mini': 493,\n",
              " 'Pitahaya Red': 490,\n",
              " 'Plum': 447,\n",
              " 'Plum 2': 420,\n",
              " 'Plum 3': 900,\n",
              " 'Pomegranate': 492,\n",
              " 'Pomelo Sweetie': 450,\n",
              " 'Potato Red': 450,\n",
              " 'Potato Red Washed': 453,\n",
              " 'Potato Sweet': 450,\n",
              " 'Potato White': 450,\n",
              " 'Quince': 490,\n",
              " 'Rambutan': 492,\n",
              " 'Raspberry': 490,\n",
              " 'Redcurrant': 492,\n",
              " 'Salak': 490,\n",
              " 'Strawberry': 492,\n",
              " 'Strawberry Wedge': 738,\n",
              " 'Tamarillo': 490,\n",
              " 'Tangelo': 490,\n",
              " 'Tomato 1': 738,\n",
              " 'Tomato 2': 672,\n",
              " 'Tomato 3': 738,\n",
              " 'Tomato 4': 479,\n",
              " 'Tomato Cherry Red': 492,\n",
              " 'Tomato Heart': 684,\n",
              " 'Tomato Maroon': 367,\n",
              " 'Tomato Yellow': 459,\n",
              " 'Tomato not Ripened': 474,\n",
              " 'Walnut': 735,\n",
              " 'Watermelon': 475}"
            ]
          },
          "metadata": {
            "tags": []
          },
          "execution_count": 43
        }
      ]
    },
    {
      "cell_type": "code",
      "metadata": {
        "id": "2Kxdtq4DifDa"
      },
      "source": [
        ""
      ],
      "execution_count": null,
      "outputs": []
    }
  ]
}