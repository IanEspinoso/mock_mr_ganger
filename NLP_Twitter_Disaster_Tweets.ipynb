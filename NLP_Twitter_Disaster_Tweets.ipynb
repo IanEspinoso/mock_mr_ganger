{
  "nbformat": 4,
  "nbformat_minor": 0,
  "metadata": {
    "colab": {
      "name": "NLP Twitter Disaster Tweets.ipynb",
      "provenance": [],
      "collapsed_sections": [],
      "authorship_tag": "ABX9TyOSICR3TQeonXp1OOnNgdUk",
      "include_colab_link": true
    },
    "kernelspec": {
      "name": "python3",
      "display_name": "Python 3"
    },
    "language_info": {
      "name": "python"
    }
  },
  "cells": [
    {
      "cell_type": "markdown",
      "metadata": {
        "id": "view-in-github",
        "colab_type": "text"
      },
      "source": [
        "<a href=\"https://colab.research.google.com/github/hargurjeet/DeepLearning/blob/main/NLP_Twitter_Disaster_Tweets.ipynb\" target=\"_parent\"><img src=\"https://colab.research.google.com/assets/colab-badge.svg\" alt=\"Open In Colab\"/></a>"
      ]
    },
    {
      "cell_type": "markdown",
      "metadata": {
        "id": "1fyrSzLA7Sqc"
      },
      "source": [
        "# **Twitter Disaster Tweets - Fake or Not**"
      ]
    },
    {
      "cell_type": "markdown",
      "metadata": {
        "id": "63YGxe_NToFa"
      },
      "source": [
        "Twitter has become an important communication channel in times of emergency.\n",
        "The ubiquitousness of smartphones enables people to announce an emergency they’re observing in real-time. Because of this, more agencies are interested in programatically monitoring Twitter (i.e. disaster relief organizations and news agencies).\n",
        "\n",
        "But, it’s not always clear whether a person’s words are actually announcing a disaster. The following program helps in identifying a tweet programatically if a tweet conveys disaster info or not."
      ]
    },
    {
      "cell_type": "markdown",
      "metadata": {
        "id": "1dAf-HO_U6xV"
      },
      "source": [
        "# **Table Of Contents**<a name=\"top\"></a>\n",
        "\n",
        "\n",
        "---\n",
        "\n",
        "\n",
        "\n",
        "---\n",
        "\n",
        "\n",
        "  1. [About the Dataset](#1)\n",
        "  2. [Data Pre Processing](#2)\n",
        "  3. [Exploring the dataset](#3)\n",
        "  4. [Natural Language Processing](#4)\n",
        "  5. [Model Training and Results](#5)\n",
        "  6. [Predictions](#6)\n",
        "  7. [Summary](#7)\n",
        "  8. [References](#8)"
      ]
    },
    {
      "cell_type": "markdown",
      "metadata": {
        "id": "K02JH4IYVOEs"
      },
      "source": [
        "# <font color=\"dimgrey\" size=+2.0><b>1: AboutDataset</b></font> <a name=\"1\"></a>\n",
        "\n",
        "\n",
        "---\n",
        "<a href=\"#top\" class=\"btn btn-primary btn-sm\" role=\"button\" aria-pressed=\"true\" style=\"color:white\" data-toggle=\"popover\">Go to TOC</a> \n",
        "\n",
        "Each sample in the train and test set has the following information:\n",
        "\n",
        "- The text of a tweet\n",
        "- A keyword from that tweet (although this may be blank!)\n",
        "- The location the tweet was sent from (may also be blank)\n",
        "\n",
        "\n",
        "I am predicting whether a given tweet is about a real disaster or not. If so, predict a 1. If not, predict a 0.\n",
        "\n"
      ]
    },
    {
      "cell_type": "markdown",
      "metadata": {
        "id": "gRVGWDH0YUzo"
      },
      "source": [
        "# <font color=\"darkslateblue\" size=+2.0><b>2: Data Pre Processing</b></font> <a name=\"2\"></a>\n",
        "\n",
        "\n",
        "---\n",
        "\n",
        "<a href=\"#top\" class=\"btn btn-primary btn-sm\" role=\"button\" aria-pressed=\"true\" style=\"color:white\" data-toggle=\"popover\">Go to TOC</a> "
      ]
    },
    {
      "cell_type": "markdown",
      "metadata": {
        "id": "UfXyw5Job2h2"
      },
      "source": [
        "Importing all the required libraries"
      ]
    },
    {
      "cell_type": "code",
      "metadata": {
        "id": "05VYqgbqfkBn"
      },
      "source": [
        "import tensorflow as tf\n",
        "from tensorflow import keras\n",
        "import pandas as pd\n",
        "import numpy as np\n",
        "import os\n",
        "import matplotlib.pyplot as plt\n",
        "import time"
      ],
      "execution_count": 49,
      "outputs": []
    },
    {
      "cell_type": "markdown",
      "metadata": {
        "id": "OdMa_vVub6ma"
      },
      "source": [
        "Downloading the dataset from Kaggle"
      ]
    },
    {
      "cell_type": "code",
      "metadata": {
        "colab": {
          "resources": {
            "http://localhost:8080/nbextensions/google.colab/files.js": {
              "data": "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",
              "ok": true,
              "headers": [
                [
                  "content-type",
                  "application/javascript"
                ]
              ],
              "status": 200,
              "status_text": ""
            }
          },
          "base_uri": "https://localhost:8080/",
          "height": 347
        },
        "id": "DLAkZvQOgm9V",
        "outputId": "29b8b31f-8fa4-441e-e6a0-4a8291b840fd"
      },
      "source": [
        "# Upload kaggle.jason\n",
        "# please follow this link incase not aware: https://www.kaggle.com/general/74235\n",
        "from google.colab import files\n",
        "files.upload()\n",
        "\n",
        "! pip install opendatasets --upgrade\n",
        "import opendatasets as od\n",
        "\n",
        "dataset_url = 'https://www.kaggle.com/c/nlp-getting-started/data'\n",
        "od.download(dataset_url)"
      ],
      "execution_count": 50,
      "outputs": [
        {
          "output_type": "display_data",
          "data": {
            "text/html": [
              "\n",
              "     <input type=\"file\" id=\"files-cf1a708f-d030-4dfe-b653-cf792364a4ee\" name=\"files[]\" multiple disabled\n",
              "        style=\"border:none\" />\n",
              "     <output id=\"result-cf1a708f-d030-4dfe-b653-cf792364a4ee\">\n",
              "      Upload widget is only available when the cell has been executed in the\n",
              "      current browser session. Please rerun this cell to enable.\n",
              "      </output>\n",
              "      <script src=\"/nbextensions/google.colab/files.js\"></script> "
            ],
            "text/plain": [
              "<IPython.core.display.HTML object>"
            ]
          },
          "metadata": {
            "tags": []
          }
        },
        {
          "output_type": "stream",
          "text": [
            "Saving kaggle.json to kaggle (2).json\n",
            "Requirement already up-to-date: opendatasets in /usr/local/lib/python3.7/dist-packages (0.1.11)\n",
            "Requirement already satisfied, skipping upgrade: kaggle in /usr/local/lib/python3.7/dist-packages (from opendatasets) (1.5.12)\n",
            "Requirement already satisfied, skipping upgrade: tqdm in /usr/local/lib/python3.7/dist-packages (from opendatasets) (4.41.1)\n",
            "Requirement already satisfied, skipping upgrade: click in /usr/local/lib/python3.7/dist-packages (from opendatasets) (7.1.2)\n",
            "Requirement already satisfied, skipping upgrade: urllib3 in /usr/local/lib/python3.7/dist-packages (from kaggle->opendatasets) (1.24.3)\n",
            "Requirement already satisfied, skipping upgrade: python-slugify in /usr/local/lib/python3.7/dist-packages (from kaggle->opendatasets) (5.0.2)\n",
            "Requirement already satisfied, skipping upgrade: requests in /usr/local/lib/python3.7/dist-packages (from kaggle->opendatasets) (2.23.0)\n",
            "Requirement already satisfied, skipping upgrade: python-dateutil in /usr/local/lib/python3.7/dist-packages (from kaggle->opendatasets) (2.8.1)\n",
            "Requirement already satisfied, skipping upgrade: six>=1.10 in /usr/local/lib/python3.7/dist-packages (from kaggle->opendatasets) (1.15.0)\n",
            "Requirement already satisfied, skipping upgrade: certifi in /usr/local/lib/python3.7/dist-packages (from kaggle->opendatasets) (2020.12.5)\n",
            "Requirement already satisfied, skipping upgrade: text-unidecode>=1.3 in /usr/local/lib/python3.7/dist-packages (from python-slugify->kaggle->opendatasets) (1.3)\n",
            "Requirement already satisfied, skipping upgrade: idna<3,>=2.5 in /usr/local/lib/python3.7/dist-packages (from requests->kaggle->opendatasets) (2.10)\n",
            "Requirement already satisfied, skipping upgrade: chardet<4,>=3.0.2 in /usr/local/lib/python3.7/dist-packages (from requests->kaggle->opendatasets) (3.0.4)\n",
            "nlp-getting-started.zip: Skipping, found more recently modified local copy (use --force to force download)\n"
          ],
          "name": "stdout"
        }
      ]
    },
    {
      "cell_type": "markdown",
      "metadata": {
        "id": "ux2SGhPNcAuD"
      },
      "source": [
        "Unzipping the files and moving them to Train folder"
      ]
    },
    {
      "cell_type": "code",
      "metadata": {
        "id": "8fGqxd0KhC6J"
      },
      "source": [
        "import zipfile\n",
        "import os\n",
        "\n",
        "parent_dir = '/content/nlp-getting-started'\n",
        "directory = 'Train'\n",
        "\n",
        "path = os.path.join(parent_dir, directory)\n",
        "os.mkdir(path)\n",
        "\n",
        "with zipfile.ZipFile('/content/nlp-getting-started/nlp-getting-started.zip', 'r') as zip_ref:\n",
        "    zip_ref.extractall(path)"
      ],
      "execution_count": null,
      "outputs": []
    },
    {
      "cell_type": "code",
      "metadata": {
        "colab": {
          "base_uri": "https://localhost:8080/"
        },
        "id": "tRHzFth0hulg",
        "outputId": "ab353303-4f59-4728-bb14-7df9dc831dbb"
      },
      "source": [
        "df = pd.read_csv(\"/content/nlp-getting-started/Train/train.csv\")\n",
        "\n",
        "df.shape"
      ],
      "execution_count": 52,
      "outputs": [
        {
          "output_type": "execute_result",
          "data": {
            "text/plain": [
              "(7613, 5)"
            ]
          },
          "metadata": {
            "tags": []
          },
          "execution_count": 52
        }
      ]
    },
    {
      "cell_type": "markdown",
      "metadata": {
        "id": "dRWTCQD0dKTM"
      },
      "source": [
        "Accessing few sample records"
      ]
    },
    {
      "cell_type": "code",
      "metadata": {
        "colab": {
          "base_uri": "https://localhost:8080/",
          "height": 198
        },
        "id": "s9-5o7dxhzPV",
        "outputId": "e06eba2f-cf69-41fe-930e-e9301e181e23"
      },
      "source": [
        "df.head()"
      ],
      "execution_count": 53,
      "outputs": [
        {
          "output_type": "execute_result",
          "data": {
            "text/html": [
              "<div>\n",
              "<style scoped>\n",
              "    .dataframe tbody tr th:only-of-type {\n",
              "        vertical-align: middle;\n",
              "    }\n",
              "\n",
              "    .dataframe tbody tr th {\n",
              "        vertical-align: top;\n",
              "    }\n",
              "\n",
              "    .dataframe thead th {\n",
              "        text-align: right;\n",
              "    }\n",
              "</style>\n",
              "<table border=\"1\" class=\"dataframe\">\n",
              "  <thead>\n",
              "    <tr style=\"text-align: right;\">\n",
              "      <th></th>\n",
              "      <th>id</th>\n",
              "      <th>keyword</th>\n",
              "      <th>location</th>\n",
              "      <th>text</th>\n",
              "      <th>target</th>\n",
              "    </tr>\n",
              "  </thead>\n",
              "  <tbody>\n",
              "    <tr>\n",
              "      <th>0</th>\n",
              "      <td>1</td>\n",
              "      <td>NaN</td>\n",
              "      <td>NaN</td>\n",
              "      <td>Our Deeds are the Reason of this #earthquake M...</td>\n",
              "      <td>1</td>\n",
              "    </tr>\n",
              "    <tr>\n",
              "      <th>1</th>\n",
              "      <td>4</td>\n",
              "      <td>NaN</td>\n",
              "      <td>NaN</td>\n",
              "      <td>Forest fire near La Ronge Sask. Canada</td>\n",
              "      <td>1</td>\n",
              "    </tr>\n",
              "    <tr>\n",
              "      <th>2</th>\n",
              "      <td>5</td>\n",
              "      <td>NaN</td>\n",
              "      <td>NaN</td>\n",
              "      <td>All residents asked to 'shelter in place' are ...</td>\n",
              "      <td>1</td>\n",
              "    </tr>\n",
              "    <tr>\n",
              "      <th>3</th>\n",
              "      <td>6</td>\n",
              "      <td>NaN</td>\n",
              "      <td>NaN</td>\n",
              "      <td>13,000 people receive #wildfires evacuation or...</td>\n",
              "      <td>1</td>\n",
              "    </tr>\n",
              "    <tr>\n",
              "      <th>4</th>\n",
              "      <td>7</td>\n",
              "      <td>NaN</td>\n",
              "      <td>NaN</td>\n",
              "      <td>Just got sent this photo from Ruby #Alaska as ...</td>\n",
              "      <td>1</td>\n",
              "    </tr>\n",
              "  </tbody>\n",
              "</table>\n",
              "</div>"
            ],
            "text/plain": [
              "   id keyword  ...                                               text target\n",
              "0   1     NaN  ...  Our Deeds are the Reason of this #earthquake M...      1\n",
              "1   4     NaN  ...             Forest fire near La Ronge Sask. Canada      1\n",
              "2   5     NaN  ...  All residents asked to 'shelter in place' are ...      1\n",
              "3   6     NaN  ...  13,000 people receive #wildfires evacuation or...      1\n",
              "4   7     NaN  ...  Just got sent this photo from Ruby #Alaska as ...      1\n",
              "\n",
              "[5 rows x 5 columns]"
            ]
          },
          "metadata": {
            "tags": []
          },
          "execution_count": 53
        }
      ]
    },
    {
      "cell_type": "markdown",
      "metadata": {
        "id": "1lS1BF2vcTUc"
      },
      "source": [
        "# <font color=\"darkslateblue\" size=+2.0><b>3: Exploratory Data Analysis</b></font>\n",
        "<a id=\"3\"></a>\n",
        "\n",
        "\n",
        "---\n",
        "\n",
        "<a href=\"#top\" class=\"btn btn-primary btn-sm\" role=\"button\" aria-pressed=\"true\" style=\"color:white\" data-toggle=\"popover\">Go to TOC</a> \n",
        "\n",
        "So now we will go trough an exploratory data analysis to get insights from tweets. The aim here is to divide this session into topics so we can explore graphics for each subject."
      ]
    },
    {
      "cell_type": "markdown",
      "metadata": {
        "id": "fAml8L5uddYQ"
      },
      "source": [
        "# <a name=\"2\"></a>\n",
        "<font color=\"dimgrey\" size=+2.0><b>3.1: Labels distribution</b></font>"
      ]
    },
    {
      "cell_type": "code",
      "metadata": {
        "colab": {
          "base_uri": "https://localhost:8080/"
        },
        "id": "3dJO9Ya2h0pL",
        "outputId": "51f37909-63f1-4fb8-c3d0-b159e59067ba"
      },
      "source": [
        "df.target.value_counts()"
      ],
      "execution_count": 54,
      "outputs": [
        {
          "output_type": "execute_result",
          "data": {
            "text/plain": [
              "0    4342\n",
              "1    3271\n",
              "Name: target, dtype: int64"
            ]
          },
          "metadata": {
            "tags": []
          },
          "execution_count": 54
        }
      ]
    },
    {
      "cell_type": "code",
      "metadata": {
        "colab": {
          "base_uri": "https://localhost:8080/",
          "height": 35
        },
        "id": "vaT6nBveh7_l",
        "outputId": "d28b6826-85fc-40df-a515-bcde662190cf"
      },
      "source": [
        "import re\n",
        "import string\n",
        "\n",
        "def remove_URL(text):\n",
        "    url = re.compile(r\"https?://\\S+|www\\.\\S+\")\n",
        "    return url.sub(r\"\", text)\n",
        "\n",
        "# https://stackoverflow.com/questions/34293875/how-to-remove-punctuation-marks-from-a-string-in-python-3-x-using-translate/34294022\n",
        "def remove_punct(text):\n",
        "    translator = str.maketrans(\"\", \"\", string.punctuation)\n",
        "    return text.translate(translator)\n",
        "\n",
        "string.punctuation"
      ],
      "execution_count": 55,
      "outputs": [
        {
          "output_type": "execute_result",
          "data": {
            "application/vnd.google.colaboratory.intrinsic+json": {
              "type": "string"
            },
            "text/plain": [
              "'!\"#$%&\\'()*+,-./:;<=>?@[\\\\]^_`{|}~'"
            ]
          },
          "metadata": {
            "tags": []
          },
          "execution_count": 55
        }
      ]
    },
    {
      "cell_type": "code",
      "metadata": {
        "colab": {
          "base_uri": "https://localhost:8080/"
        },
        "id": "5BonCVBRmGKY",
        "outputId": "71f15001-d628-4baf-eea6-88d6ede8341f"
      },
      "source": [
        "pattern = re.compile(r\"https?://(\\S+|www)\\.\\S+\")\n",
        "for t in df.text:\n",
        "    matches = pattern.findall(t)\n",
        "    for match in matches:\n",
        "        print(t)\n",
        "        print(match)\n",
        "        print(pattern.sub(r\"\", t))\n",
        "    if len(matches) > 0:\n",
        "        break"
      ],
      "execution_count": 56,
      "outputs": [
        {
          "output_type": "stream",
          "text": [
            "@bbcmtd Wholesale Markets ablaze http://t.co/lHYXEOHY6C\n",
            "t\n",
            "@bbcmtd Wholesale Markets ablaze \n"
          ],
          "name": "stdout"
        }
      ]
    },
    {
      "cell_type": "code",
      "metadata": {
        "id": "kaFUJ6hemGBZ"
      },
      "source": [
        "df[\"text\"] = df.text.map(remove_URL) # map(lambda x: remove_URL(x))\n",
        "df[\"text\"] = df.text.map(remove_punct)"
      ],
      "execution_count": 57,
      "outputs": []
    },
    {
      "cell_type": "code",
      "metadata": {
        "colab": {
          "base_uri": "https://localhost:8080/"
        },
        "id": "OI8eyXkNmGAc",
        "outputId": "633541bc-9ceb-4fa6-c40a-1b14f4e62267"
      },
      "source": [
        "# remove stopwords\n",
        "# pip install nltk\n",
        "import nltk\n",
        "nltk.download('stopwords')\n",
        "from nltk.corpus import stopwords\n",
        "\n",
        "# Stop Words: A stop word is a commonly used word (such as “the”, “a”, “an”, “in”) that a search engine\n",
        "# has been programmed to ignore, both when indexing entries for searching and when retrieving them \n",
        "# as the result of a search query.\n",
        "stop = set(stopwords.words(\"english\"))\n",
        "\n",
        "# https://stackoverflow.com/questions/5486337/how-to-remove-stop-words-using-nltk-or-python\n",
        "def remove_stopwords(text):\n",
        "    filtered_words = [word.lower() for word in text.split() if word.lower() not in stop]\n",
        "    return \" \".join(filtered_words)"
      ],
      "execution_count": 58,
      "outputs": [
        {
          "output_type": "stream",
          "text": [
            "[nltk_data] Downloading package stopwords to /root/nltk_data...\n",
            "[nltk_data]   Package stopwords is already up-to-date!\n"
          ],
          "name": "stdout"
        }
      ]
    },
    {
      "cell_type": "code",
      "metadata": {
        "colab": {
          "base_uri": "https://localhost:8080/"
        },
        "id": "9pH-Qoz3mF_X",
        "outputId": "2ca031aa-7a10-4ae4-f6f5-f59b84b0bb85"
      },
      "source": [
        "stop"
      ],
      "execution_count": 59,
      "outputs": [
        {
          "output_type": "execute_result",
          "data": {
            "text/plain": [
              "{'a',\n",
              " 'about',\n",
              " 'above',\n",
              " 'after',\n",
              " 'again',\n",
              " 'against',\n",
              " 'ain',\n",
              " 'all',\n",
              " 'am',\n",
              " 'an',\n",
              " 'and',\n",
              " 'any',\n",
              " 'are',\n",
              " 'aren',\n",
              " \"aren't\",\n",
              " 'as',\n",
              " 'at',\n",
              " 'be',\n",
              " 'because',\n",
              " 'been',\n",
              " 'before',\n",
              " 'being',\n",
              " 'below',\n",
              " 'between',\n",
              " 'both',\n",
              " 'but',\n",
              " 'by',\n",
              " 'can',\n",
              " 'couldn',\n",
              " \"couldn't\",\n",
              " 'd',\n",
              " 'did',\n",
              " 'didn',\n",
              " \"didn't\",\n",
              " 'do',\n",
              " 'does',\n",
              " 'doesn',\n",
              " \"doesn't\",\n",
              " 'doing',\n",
              " 'don',\n",
              " \"don't\",\n",
              " 'down',\n",
              " 'during',\n",
              " 'each',\n",
              " 'few',\n",
              " 'for',\n",
              " 'from',\n",
              " 'further',\n",
              " 'had',\n",
              " 'hadn',\n",
              " \"hadn't\",\n",
              " 'has',\n",
              " 'hasn',\n",
              " \"hasn't\",\n",
              " 'have',\n",
              " 'haven',\n",
              " \"haven't\",\n",
              " 'having',\n",
              " 'he',\n",
              " 'her',\n",
              " 'here',\n",
              " 'hers',\n",
              " 'herself',\n",
              " 'him',\n",
              " 'himself',\n",
              " 'his',\n",
              " 'how',\n",
              " 'i',\n",
              " 'if',\n",
              " 'in',\n",
              " 'into',\n",
              " 'is',\n",
              " 'isn',\n",
              " \"isn't\",\n",
              " 'it',\n",
              " \"it's\",\n",
              " 'its',\n",
              " 'itself',\n",
              " 'just',\n",
              " 'll',\n",
              " 'm',\n",
              " 'ma',\n",
              " 'me',\n",
              " 'mightn',\n",
              " \"mightn't\",\n",
              " 'more',\n",
              " 'most',\n",
              " 'mustn',\n",
              " \"mustn't\",\n",
              " 'my',\n",
              " 'myself',\n",
              " 'needn',\n",
              " \"needn't\",\n",
              " 'no',\n",
              " 'nor',\n",
              " 'not',\n",
              " 'now',\n",
              " 'o',\n",
              " 'of',\n",
              " 'off',\n",
              " 'on',\n",
              " 'once',\n",
              " 'only',\n",
              " 'or',\n",
              " 'other',\n",
              " 'our',\n",
              " 'ours',\n",
              " 'ourselves',\n",
              " 'out',\n",
              " 'over',\n",
              " 'own',\n",
              " 're',\n",
              " 's',\n",
              " 'same',\n",
              " 'shan',\n",
              " \"shan't\",\n",
              " 'she',\n",
              " \"she's\",\n",
              " 'should',\n",
              " \"should've\",\n",
              " 'shouldn',\n",
              " \"shouldn't\",\n",
              " 'so',\n",
              " 'some',\n",
              " 'such',\n",
              " 't',\n",
              " 'than',\n",
              " 'that',\n",
              " \"that'll\",\n",
              " 'the',\n",
              " 'their',\n",
              " 'theirs',\n",
              " 'them',\n",
              " 'themselves',\n",
              " 'then',\n",
              " 'there',\n",
              " 'these',\n",
              " 'they',\n",
              " 'this',\n",
              " 'those',\n",
              " 'through',\n",
              " 'to',\n",
              " 'too',\n",
              " 'under',\n",
              " 'until',\n",
              " 'up',\n",
              " 've',\n",
              " 'very',\n",
              " 'was',\n",
              " 'wasn',\n",
              " \"wasn't\",\n",
              " 'we',\n",
              " 'were',\n",
              " 'weren',\n",
              " \"weren't\",\n",
              " 'what',\n",
              " 'when',\n",
              " 'where',\n",
              " 'which',\n",
              " 'while',\n",
              " 'who',\n",
              " 'whom',\n",
              " 'why',\n",
              " 'will',\n",
              " 'with',\n",
              " 'won',\n",
              " \"won't\",\n",
              " 'wouldn',\n",
              " \"wouldn't\",\n",
              " 'y',\n",
              " 'you',\n",
              " \"you'd\",\n",
              " \"you'll\",\n",
              " \"you're\",\n",
              " \"you've\",\n",
              " 'your',\n",
              " 'yours',\n",
              " 'yourself',\n",
              " 'yourselves'}"
            ]
          },
          "metadata": {
            "tags": []
          },
          "execution_count": 59
        }
      ]
    },
    {
      "cell_type": "code",
      "metadata": {
        "id": "vVQbQIiumF1j"
      },
      "source": [
        "df[\"text\"] = df.text.map(remove_stopwords)"
      ],
      "execution_count": 60,
      "outputs": []
    },
    {
      "cell_type": "code",
      "metadata": {
        "colab": {
          "base_uri": "https://localhost:8080/"
        },
        "id": "XeTUSDbqmFwn",
        "outputId": "f4f17bf7-fabb-4b67-8b96-70ca4ba0ae19"
      },
      "source": [
        "df.text"
      ],
      "execution_count": 61,
      "outputs": [
        {
          "output_type": "execute_result",
          "data": {
            "text/plain": [
              "0            deeds reason earthquake may allah forgive us\n",
              "1                   forest fire near la ronge sask canada\n",
              "2       residents asked shelter place notified officer...\n",
              "3       13000 people receive wildfires evacuation orde...\n",
              "4       got sent photo ruby alaska smoke wildfires pou...\n",
              "                              ...                        \n",
              "7608    two giant cranes holding bridge collapse nearb...\n",
              "7609    ariaahrary thetawniest control wild fires cali...\n",
              "7610                      m194 0104 utc5km volcano hawaii\n",
              "7611    police investigating ebike collided car little...\n",
              "7612    latest homes razed northern california wildfir...\n",
              "Name: text, Length: 7613, dtype: object"
            ]
          },
          "metadata": {
            "tags": []
          },
          "execution_count": 61
        }
      ]
    },
    {
      "cell_type": "code",
      "metadata": {
        "id": "2sWZtO7WtWYZ"
      },
      "source": [
        "from collections import Counter\n",
        "\n",
        "# Count unique words\n",
        "def counter_word(text_col):\n",
        "    count = Counter()\n",
        "    for text in text_col.values:\n",
        "        for word in text.split():\n",
        "            count[word] += 1\n",
        "    return count\n",
        "\n",
        "\n",
        "counter = counter_word(df.text)"
      ],
      "execution_count": 62,
      "outputs": []
    },
    {
      "cell_type": "code",
      "metadata": {
        "colab": {
          "base_uri": "https://localhost:8080/"
        },
        "id": "QFjA0tQRtWXR",
        "outputId": "028ac860-9ca8-49b9-c844-53b39faa2914"
      },
      "source": [
        "len(counter)"
      ],
      "execution_count": 63,
      "outputs": [
        {
          "output_type": "execute_result",
          "data": {
            "text/plain": [
              "17971"
            ]
          },
          "metadata": {
            "tags": []
          },
          "execution_count": 63
        }
      ]
    },
    {
      "cell_type": "code",
      "metadata": {
        "colab": {
          "base_uri": "https://localhost:8080/"
        },
        "id": "YkLS9XFmtWNk",
        "outputId": "a1855491-ba9a-427f-ccec-7a31b0b35bfd"
      },
      "source": [
        "\n",
        "counter.most_common(5)"
      ],
      "execution_count": 64,
      "outputs": [
        {
          "output_type": "execute_result",
          "data": {
            "text/plain": [
              "[('like', 345), ('im', 299), ('amp', 298), ('fire', 250), ('get', 229)]"
            ]
          },
          "metadata": {
            "tags": []
          },
          "execution_count": 64
        }
      ]
    },
    {
      "cell_type": "code",
      "metadata": {
        "id": "9vbZfLB_t4SG"
      },
      "source": [
        "num_unique_words = len(counter)"
      ],
      "execution_count": 65,
      "outputs": []
    },
    {
      "cell_type": "code",
      "metadata": {
        "id": "PLZKCKhatWLE"
      },
      "source": [
        "# Split dataset into training and validation set\n",
        "train_size = int(df.shape[0] * 0.8)\n",
        "\n",
        "train_df = df[:train_size]\n",
        "val_df = df[train_size:]\n",
        "\n",
        "# split text and labels\n",
        "# train_sentences = train_df.text.to_numpy()\n",
        "# train_labels = train_df.target.to_numpy()\n",
        "# val_sentences = val_df.text.to_numpy()\n",
        "# val_labels = val_df.target.to_numpy()\n",
        "\n",
        "train_sentences = train_df.text\n",
        "train_labels = train_df.target\n",
        "val_sentences = val_df.text\n",
        "val_labels = val_df.target"
      ],
      "execution_count": 66,
      "outputs": []
    },
    {
      "cell_type": "code",
      "metadata": {
        "colab": {
          "base_uri": "https://localhost:8080/"
        },
        "id": "qjub-g8ntr1z",
        "outputId": "9972713e-42cf-4084-a650-ecf2c09977a8"
      },
      "source": [
        "train_sentences"
      ],
      "execution_count": 67,
      "outputs": [
        {
          "output_type": "execute_result",
          "data": {
            "text/plain": [
              "0            deeds reason earthquake may allah forgive us\n",
              "1                   forest fire near la ronge sask canada\n",
              "2       residents asked shelter place notified officer...\n",
              "3       13000 people receive wildfires evacuation orde...\n",
              "4       got sent photo ruby alaska smoke wildfires pou...\n",
              "                              ...                        \n",
              "6085            feel like sinking low selfimage take quiz\n",
              "6086             years afloat pension plans start sinking\n",
              "6087              feel like sinking unhappiness take quiz\n",
              "6088    sinking music video tv career brooke hogan tha...\n",
              "6089    supernovalester feel bad literally feel feelin...\n",
              "Name: text, Length: 6090, dtype: object"
            ]
          },
          "metadata": {
            "tags": []
          },
          "execution_count": 67
        }
      ]
    },
    {
      "cell_type": "code",
      "metadata": {
        "id": "4-I8ikiPti3a"
      },
      "source": [
        "\n",
        "# Tokenize\n",
        "from tensorflow.keras.preprocessing.text import Tokenizer\n",
        "\n",
        "# vectorize a text corpus by turning each text into a sequence of integers\n",
        "tokenizer = Tokenizer(num_words=num_unique_words)\n",
        "tokenizer.fit_on_texts(train_sentences) # fit only to training"
      ],
      "execution_count": 68,
      "outputs": []
    },
    {
      "cell_type": "code",
      "metadata": {
        "colab": {
          "base_uri": "https://localhost:8080/"
        },
        "id": "Bn959vDAtivd",
        "outputId": "da271e2f-8696-4d55-c02d-64abf2374e08"
      },
      "source": [
        "word_index = tokenizer.word_index\n",
        "\n",
        "word_index"
      ],
      "execution_count": 69,
      "outputs": [
        {
          "output_type": "execute_result",
          "data": {
            "text/plain": [
              "{'like': 1,\n",
              " 'amp': 2,\n",
              " 'fire': 3,\n",
              " 'im': 4,\n",
              " 'get': 5,\n",
              " 'via': 6,\n",
              " 'new': 7,\n",
              " 'people': 8,\n",
              " 'news': 9,\n",
              " 'dont': 10,\n",
              " 'emergency': 11,\n",
              " 'one': 12,\n",
              " '2': 13,\n",
              " 'us': 14,\n",
              " 'video': 15,\n",
              " 'disaster': 16,\n",
              " 'burning': 17,\n",
              " 'body': 18,\n",
              " 'would': 19,\n",
              " 'buildings': 20,\n",
              " 'police': 21,\n",
              " 'crash': 22,\n",
              " 'first': 23,\n",
              " 'california': 24,\n",
              " 'still': 25,\n",
              " 'man': 26,\n",
              " 'got': 27,\n",
              " 'know': 28,\n",
              " 'day': 29,\n",
              " 'back': 30,\n",
              " 'going': 31,\n",
              " 'two': 32,\n",
              " 'time': 33,\n",
              " 'full': 34,\n",
              " 'accident': 35,\n",
              " 'see': 36,\n",
              " 'world': 37,\n",
              " 'attack': 38,\n",
              " 'nuclear': 39,\n",
              " 'youtube': 40,\n",
              " 'may': 41,\n",
              " 'love': 42,\n",
              " 'go': 43,\n",
              " 'rt': 44,\n",
              " 'many': 45,\n",
              " 'cant': 46,\n",
              " '3': 47,\n",
              " 'watch': 48,\n",
              " 'collapse': 49,\n",
              " 'dead': 50,\n",
              " 'today': 51,\n",
              " 'car': 52,\n",
              " 'mass': 53,\n",
              " 'want': 54,\n",
              " 'years': 55,\n",
              " 'work': 56,\n",
              " 'train': 57,\n",
              " 'last': 58,\n",
              " 'good': 59,\n",
              " 'think': 60,\n",
              " 'families': 61,\n",
              " 'hiroshima': 62,\n",
              " 'life': 63,\n",
              " 'fires': 64,\n",
              " 'best': 65,\n",
              " 'could': 66,\n",
              " 'say': 67,\n",
              " 'u': 68,\n",
              " 'death': 69,\n",
              " 'hot': 70,\n",
              " 'forest': 71,\n",
              " 'way': 72,\n",
              " 'killed': 73,\n",
              " 'need': 74,\n",
              " 'legionnaires': 75,\n",
              " 'war': 76,\n",
              " 'fatal': 77,\n",
              " 'home': 78,\n",
              " 'black': 79,\n",
              " '4': 80,\n",
              " 'really': 81,\n",
              " 'take': 82,\n",
              " 'another': 83,\n",
              " 'right': 84,\n",
              " 'even': 85,\n",
              " 'flames': 86,\n",
              " 'make': 87,\n",
              " 'fear': 88,\n",
              " 'bomb': 89,\n",
              " 'floods': 90,\n",
              " 'school': 91,\n",
              " 'youre': 92,\n",
              " '1': 93,\n",
              " 'atomic': 94,\n",
              " 'look': 95,\n",
              " 'please': 96,\n",
              " 'let': 97,\n",
              " 'homes': 98,\n",
              " 'flood': 99,\n",
              " 'every': 100,\n",
              " 'help': 101,\n",
              " 'latest': 102,\n",
              " 'year': 103,\n",
              " 'storm': 104,\n",
              " 'content': 105,\n",
              " '5': 106,\n",
              " 'injured': 107,\n",
              " 'read': 108,\n",
              " '2015': 109,\n",
              " 'oil': 110,\n",
              " 'damage': 111,\n",
              " 'truck': 112,\n",
              " 'city': 113,\n",
              " 'lol': 114,\n",
              " 'water': 115,\n",
              " 'evacuation': 116,\n",
              " 'flooding': 117,\n",
              " 'much': 118,\n",
              " 'debris': 119,\n",
              " 'army': 120,\n",
              " 'japan': 121,\n",
              " 'never': 122,\n",
              " 'military': 123,\n",
              " 'northern': 124,\n",
              " 'ass': 125,\n",
              " 'cross': 126,\n",
              " 'top': 127,\n",
              " 'come': 128,\n",
              " 'near': 129,\n",
              " '\\x89û': 130,\n",
              " 'hit': 131,\n",
              " 'shit': 132,\n",
              " 'next': 133,\n",
              " 'great': 134,\n",
              " 'food': 135,\n",
              " 'plan': 136,\n",
              " 'reddit': 137,\n",
              " 'getting': 138,\n",
              " 'set': 139,\n",
              " 'night': 140,\n",
              " 'screaming': 141,\n",
              " 'found': 142,\n",
              " 'little': 143,\n",
              " 'services': 144,\n",
              " 'wildfire': 145,\n",
              " 'natural': 146,\n",
              " 'stop': 147,\n",
              " 'bloody': 148,\n",
              " 'murder': 149,\n",
              " 'since': 150,\n",
              " 'feel': 151,\n",
              " 'bags': 152,\n",
              " 'spill': 153,\n",
              " 'injuries': 154,\n",
              " 'refugees': 155,\n",
              " 'heat': 156,\n",
              " 'always': 157,\n",
              " 'god': 158,\n",
              " 'ever': 159,\n",
              " 'face': 160,\n",
              " 'times': 161,\n",
              " 'destroy': 162,\n",
              " 'said': 163,\n",
              " 'well': 164,\n",
              " 'thats': 165,\n",
              " 'fall': 166,\n",
              " 'evacuate': 167,\n",
              " 'derailment': 168,\n",
              " 'panic': 169,\n",
              " 'outbreak': 170,\n",
              " 'check': 171,\n",
              " 'everyone': 172,\n",
              " 'explosion': 173,\n",
              " 'family': 174,\n",
              " 'attacked': 175,\n",
              " 'rescue': 176,\n",
              " 'deaths': 177,\n",
              " 'fatalities': 178,\n",
              " 'sinkhole': 179,\n",
              " 'coming': 180,\n",
              " 'ambulance': 181,\n",
              " 'blood': 182,\n",
              " 'hurricane': 183,\n",
              " 'bridge': 184,\n",
              " 'explode': 185,\n",
              " 'collided': 186,\n",
              " 'loud': 187,\n",
              " 'live': 188,\n",
              " 'gonna': 189,\n",
              " 'burned': 190,\n",
              " 'air': 191,\n",
              " 'weather': 192,\n",
              " 'destruction': 193,\n",
              " 'boy': 194,\n",
              " 'hope': 195,\n",
              " 'destroyed': 196,\n",
              " 'bag': 197,\n",
              " 'ruin': 198,\n",
              " 'rescued': 199,\n",
              " 'injury': 200,\n",
              " 'fucking': 201,\n",
              " 'free': 202,\n",
              " 'cause': 203,\n",
              " 'bad': 204,\n",
              " 'armageddon': 205,\n",
              " 'hail': 206,\n",
              " 'says': 207,\n",
              " 'wind': 208,\n",
              " 'rescuers': 209,\n",
              " 'catastrophe': 210,\n",
              " 'collapsed': 211,\n",
              " 'harm': 212,\n",
              " 'landslide': 213,\n",
              " 'curfew': 214,\n",
              " 'deluge': 215,\n",
              " 'migrants': 216,\n",
              " 'dust': 217,\n",
              " 'hostages': 218,\n",
              " 'mudslide': 219,\n",
              " 'sandstorm': 220,\n",
              " 'w': 221,\n",
              " '70': 222,\n",
              " 'save': 223,\n",
              " 'charged': 224,\n",
              " 'lives': 225,\n",
              " 'rioting': 226,\n",
              " 'riot': 227,\n",
              " 'drought': 228,\n",
              " 'danger': 229,\n",
              " 'drowning': 230,\n",
              " 'engulfed': 231,\n",
              " 'screamed': 232,\n",
              " 'massacre': 233,\n",
              " 'quarantined': 234,\n",
              " 'earthquake': 235,\n",
              " 'theres': 236,\n",
              " 'summer': 237,\n",
              " '40': 238,\n",
              " 'also': 239,\n",
              " 'crashed': 240,\n",
              " 'house': 241,\n",
              " 'liked': 242,\n",
              " 'post': 243,\n",
              " 'bleeding': 244,\n",
              " 'bombed': 245,\n",
              " 'hazard': 246,\n",
              " 'displaced': 247,\n",
              " 'service': 248,\n",
              " 'hazardous': 249,\n",
              " 'cliff': 250,\n",
              " 'crush': 251,\n",
              " 'derail': 252,\n",
              " 'devastation': 253,\n",
              " 'inundated': 254,\n",
              " 'quarantine': 255,\n",
              " 'ive': 256,\n",
              " 'end': 257,\n",
              " 'road': 258,\n",
              " 'airplane': 259,\n",
              " 'looks': 260,\n",
              " 'change': 261,\n",
              " 'high': 262,\n",
              " 'real': 263,\n",
              " 'missing': 264,\n",
              " 'battle': 265,\n",
              " 'fedex': 266,\n",
              " 'keep': 267,\n",
              " 'report': 268,\n",
              " 'lightning': 269,\n",
              " 'blown': 270,\n",
              " 'casualties': 271,\n",
              " 'hundreds': 272,\n",
              " 'desolation': 273,\n",
              " 'electrocuted': 274,\n",
              " 'exploded': 275,\n",
              " 'famine': 276,\n",
              " 'lava': 277,\n",
              " 'around': 278,\n",
              " '\\x89ûò': 279,\n",
              " 'hes': 280,\n",
              " 'things': 281,\n",
              " 'bombing': 282,\n",
              " 'made': 283,\n",
              " 'bioterror': 284,\n",
              " 'hostage': 285,\n",
              " 'blew': 286,\n",
              " 'drown': 287,\n",
              " 'anniversary': 288,\n",
              " 'chemical': 289,\n",
              " 'collide': 290,\n",
              " 'derailed': 291,\n",
              " 'detonate': 292,\n",
              " 'flattened': 293,\n",
              " 'bang': 294,\n",
              " 'panicking': 295,\n",
              " 'rain': 296,\n",
              " 'wave': 297,\n",
              " 'ill': 298,\n",
              " 'game': 299,\n",
              " 'meltdown': 300,\n",
              " 'iran': 301,\n",
              " 'without': 302,\n",
              " 'apocalypse': 303,\n",
              " 'big': 304,\n",
              " 'obama': 305,\n",
              " 'market': 306,\n",
              " 'boat': 307,\n",
              " 'mh370': 308,\n",
              " 'hijacker': 309,\n",
              " 'hijacking': 310,\n",
              " 'screams': 311,\n",
              " 'breaking': 312,\n",
              " 'head': 313,\n",
              " 'past': 314,\n",
              " 'someone': 315,\n",
              " 'state': 316,\n",
              " 'run': 317,\n",
              " 'annihilated': 318,\n",
              " 'away': 319,\n",
              " 'girl': 320,\n",
              " 'white': 321,\n",
              " 'story': 322,\n",
              " 'twitter': 323,\n",
              " 'longer': 324,\n",
              " 'put': 325,\n",
              " 'bagging': 326,\n",
              " 'affected': 327,\n",
              " 'responders': 328,\n",
              " 'collision': 329,\n",
              " 'demolish': 330,\n",
              " 'detonation': 331,\n",
              " 'evacuated': 332,\n",
              " 'obliterated': 333,\n",
              " 'pandemonium': 334,\n",
              " 'area': 335,\n",
              " 'bus': 336,\n",
              " 'tonight': 337,\n",
              " 'came': 338,\n",
              " 'reunion': 339,\n",
              " 'island': 340,\n",
              " 'national': 341,\n",
              " 'show': 342,\n",
              " 'arson': 343,\n",
              " 'woman': 344,\n",
              " 'women': 345,\n",
              " 'shoulder': 346,\n",
              " 'send': 347,\n",
              " 'crushed': 348,\n",
              " 'blast': 349,\n",
              " 'demolished': 350,\n",
              " 'demolition': 351,\n",
              " 'drowned': 352,\n",
              " 'fatality': 353,\n",
              " 'prebreak': 354,\n",
              " 'obliterate': 355,\n",
              " 'obliteration': 356,\n",
              " 'razed': 357,\n",
              " 'photo': 358,\n",
              " 'update': 359,\n",
              " 'week': 360,\n",
              " 'better': 361,\n",
              " 'traffic': 362,\n",
              " 'heard': 363,\n",
              " 'ebay': 364,\n",
              " 'went': 365,\n",
              " 'id': 366,\n",
              " 'fan': 367,\n",
              " 'blazing': 368,\n",
              " 'catastrophic': 369,\n",
              " 'eyewitness': 370,\n",
              " 'hellfire': 371,\n",
              " 'murderer': 372,\n",
              " 'due': 373,\n",
              " 'county': 374,\n",
              " 'ablaze': 375,\n",
              " 'st': 376,\n",
              " 'least': 377,\n",
              " 'pm': 378,\n",
              " 'horrible': 379,\n",
              " 'left': 380,\n",
              " 'possible': 381,\n",
              " 'call': 382,\n",
              " 'river': 383,\n",
              " 'long': 384,\n",
              " 'fuck': 385,\n",
              " 'power': 386,\n",
              " 'light': 387,\n",
              " 'land': 388,\n",
              " 'baby': 389,\n",
              " 'cyclone': 390,\n",
              " 'electrocute': 391,\n",
              " 'hijack': 392,\n",
              " 'sue': 393,\n",
              " 'rainstorm': 394,\n",
              " 'died': 395,\n",
              " 'cool': 396,\n",
              " 'care': 397,\n",
              " 'use': 398,\n",
              " 'goes': 399,\n",
              " 'government': 400,\n",
              " 'airport': 401,\n",
              " 'believe': 402,\n",
              " 'phone': 403,\n",
              " 'kill': 404,\n",
              " 'group': 405,\n",
              " 'lab': 406,\n",
              " 'oh': 407,\n",
              " 'song': 408,\n",
              " 'policy': 409,\n",
              " 'stock': 410,\n",
              " 'far': 411,\n",
              " 'thank': 412,\n",
              " 'minute': 413,\n",
              " 'brown': 414,\n",
              " 'wake': 415,\n",
              " 'thought': 416,\n",
              " 'red': 417,\n",
              " 'heart': 418,\n",
              " '8': 419,\n",
              " 'sound': 420,\n",
              " 'avalanche': 421,\n",
              " 'calgary': 422,\n",
              " 'health': 423,\n",
              " 're\\x89û': 424,\n",
              " 'nearby': 425,\n",
              " 'bush': 426,\n",
              " 'casualty': 427,\n",
              " '6': 428,\n",
              " 'deluged': 429,\n",
              " 'seismic': 430,\n",
              " 'reactor': 431,\n",
              " 'building': 432,\n",
              " 'whats': 433,\n",
              " 'used': 434,\n",
              " 'something': 435,\n",
              " 'didnt': 436,\n",
              " '9': 437,\n",
              " 'plans': 438,\n",
              " 'shooting': 439,\n",
              " 'thing': 440,\n",
              " 'play': 441,\n",
              " 'must': 442,\n",
              " 'whole': 443,\n",
              " 'tomorrow': 444,\n",
              " 'part': 445,\n",
              " 'officials': 446,\n",
              " 'india': 447,\n",
              " 'music': 448,\n",
              " 'nothing': 449,\n",
              " 'blight': 450,\n",
              " 'ur': 451,\n",
              " 'rubble': 452,\n",
              " 'swallowed': 453,\n",
              " 'thanks': 454,\n",
              " 'issues': 455,\n",
              " 'done': 456,\n",
              " 'bc': 457,\n",
              " 'soon': 458,\n",
              " 'start': 459,\n",
              " 'children': 460,\n",
              " 'business': 461,\n",
              " 'yet': 462,\n",
              " 'sure': 463,\n",
              " 'bioterrorism': 464,\n",
              " 'wanna': 465,\n",
              " 'old': 466,\n",
              " 'half': 467,\n",
              " 'bigger': 468,\n",
              " 'rise': 469,\n",
              " 'south': 470,\n",
              " 'tell': 471,\n",
              " 'support': 472,\n",
              " 'already': 473,\n",
              " 'die': 474,\n",
              " 'men': 475,\n",
              " 'aircraft': 476,\n",
              " 'wont': 477,\n",
              " 'bar': 478,\n",
              " 'peace': 479,\n",
              " 'data': 480,\n",
              " 'pick': 481,\n",
              " 'amid': 482,\n",
              " 'anything': 483,\n",
              " 'stay': 484,\n",
              " 'media': 485,\n",
              " 'remember': 486,\n",
              " 'deal': 487,\n",
              " '7': 488,\n",
              " 'transport': 489,\n",
              " 'doesnt': 490,\n",
              " 'searching': 491,\n",
              " 'effect': 492,\n",
              " 'manslaughter': 493,\n",
              " 'projected': 494,\n",
              " 'place': 495,\n",
              " '30': 496,\n",
              " 'kids': 497,\n",
              " 'n': 498,\n",
              " 'actually': 499,\n",
              " 'making': 500,\n",
              " 'job': 501,\n",
              " 'almost': 502,\n",
              " 'plane': 503,\n",
              " 'ago': 504,\n",
              " 'feared': 505,\n",
              " 'ok': 506,\n",
              " 'lot': 507,\n",
              " 'annihilation': 508,\n",
              " 'warning': 509,\n",
              " 'crisis': 510,\n",
              " 'blaze': 511,\n",
              " 'yeah': 512,\n",
              " 'trying': 513,\n",
              " 'yes': 514,\n",
              " 'lets': 515,\n",
              " 'line': 516,\n",
              " 'probably': 517,\n",
              " 'bodies': 518,\n",
              " 'desolate': 519,\n",
              " 'three': 520,\n",
              " 'wait': 521,\n",
              " 'days': 522,\n",
              " 'flag': 523,\n",
              " 'leave': 524,\n",
              " 'north': 525,\n",
              " 'gets': 526,\n",
              " 'jobs': 527,\n",
              " 'helicopter': 528,\n",
              " 'history': 529,\n",
              " 'fun': 530,\n",
              " 'order': 531,\n",
              " 'august': 532,\n",
              " 'movie': 533,\n",
              " 'womens': 534,\n",
              " 'leather': 535,\n",
              " 'american': 536,\n",
              " 'makes': 537,\n",
              " 'youth': 538,\n",
              " 'literally': 539,\n",
              " 'person': 540,\n",
              " 'guys': 541,\n",
              " 'photos': 542,\n",
              " 'saved': 543,\n",
              " 'waves': 544,\n",
              " '11yearold': 545,\n",
              " 'hat': 546,\n",
              " 'refugio': 547,\n",
              " 'costlier': 548,\n",
              " 'offensive': 549,\n",
              " '20': 550,\n",
              " 'inside': 551,\n",
              " 'shot': 552,\n",
              " 'rd': 553,\n",
              " '12': 554,\n",
              " 'everything': 555,\n",
              " 'ball': 556,\n",
              " 'case': 557,\n",
              " 'hell': 558,\n",
              " 'stand': 559,\n",
              " 'hours': 560,\n",
              " 'tv': 561,\n",
              " 'israeli': 562,\n",
              " 'beautiful': 563,\n",
              " 'anthrax': 564,\n",
              " 'computers': 565,\n",
              " 'angry': 566,\n",
              " 'trains': 567,\n",
              " 'malaysia': 568,\n",
              " 'abc': 569,\n",
              " 'banned': 570,\n",
              " 'ignition': 571,\n",
              " 'knock': 572,\n",
              " 'picking': 573,\n",
              " 'hailstorm': 574,\n",
              " 'mayhem': 575,\n",
              " 'la': 576,\n",
              " 'street': 577,\n",
              " '\\x89ûó': 578,\n",
              " 'finally': 579,\n",
              " 'aftershock': 580,\n",
              " 'anyone': 581,\n",
              " 'sorry': 582,\n",
              " 'maybe': 583,\n",
              " 'hey': 584,\n",
              " 'child': 585,\n",
              " 'totally': 586,\n",
              " 'toddler': 587,\n",
              " 'saw': 588,\n",
              " 'town': 589,\n",
              " 'fukushima': 590,\n",
              " '50': 591,\n",
              " 'mishaps': 592,\n",
              " 'move': 593,\n",
              " 'blizzard': 594,\n",
              " 'money': 595,\n",
              " 'ladies': 596,\n",
              " 'appears': 597,\n",
              " 'russian': 598,\n",
              " 'giant': 599,\n",
              " 'centre': 600,\n",
              " 'village': 601,\n",
              " '60': 602,\n",
              " 'houses': 603,\n",
              " 'crews': 604,\n",
              " 'caused': 605,\n",
              " 'course': 606,\n",
              " 'severe': 607,\n",
              " 'disea': 608,\n",
              " 'closed': 609,\n",
              " 'heavy': 610,\n",
              " 'second': 611,\n",
              " 'myanmar': 612,\n",
              " 'try': 613,\n",
              " 'arsonist': 614,\n",
              " 'center': 615,\n",
              " 'vehicle': 616,\n",
              " 'guy': 617,\n",
              " 'might': 618,\n",
              " 'eyes': 619,\n",
              " 'shes': 620,\n",
              " 'omg': 621,\n",
              " 'couple': 622,\n",
              " 'vs': 623,\n",
              " 'self': 624,\n",
              " 'fight': 625,\n",
              " 'name': 626,\n",
              " 'b': 627,\n",
              " 'class': 628,\n",
              " 'friend': 629,\n",
              " 'team': 630,\n",
              " 'temple': 631,\n",
              " 'space': 632,\n",
              " 'germs': 633,\n",
              " 'words': 634,\n",
              " '25': 635,\n",
              " 'find': 636,\n",
              " 'drake': 637,\n",
              " 'meek': 638,\n",
              " 'marks': 639,\n",
              " 'downtown': 640,\n",
              " 'memories': 641,\n",
              " 'devastated': 642,\n",
              " 'flash': 643,\n",
              " 'lost': 644,\n",
              " 'cars': 645,\n",
              " 'lord': 646,\n",
              " 'outside': 647,\n",
              " 'hard': 648,\n",
              " 'others': 649,\n",
              " 'front': 650,\n",
              " 'nowplaying': 651,\n",
              " 'mom': 652,\n",
              " 'win': 653,\n",
              " 'daily': 654,\n",
              " 'experts': 655,\n",
              " 'theyre': 656,\n",
              " 'official': 657,\n",
              " 'hate': 658,\n",
              " 'usa': 659,\n",
              " '10': 660,\n",
              " 'united': 661,\n",
              " 'mop': 662,\n",
              " 'beach': 663,\n",
              " 'reports': 664,\n",
              " 'hiring': 665,\n",
              " 'theater': 666,\n",
              " 'gun': 667,\n",
              " 'christian': 668,\n",
              " 'muslims': 669,\n",
              " 'listen': 670,\n",
              " 'star': 671,\n",
              " 'eye': 672,\n",
              " 'taken': 673,\n",
              " 'action': 674,\n",
              " 'nearly': 675,\n",
              " 'mad': 676,\n",
              " 'cake': 677,\n",
              " 'level': 678,\n",
              " 'pay': 679,\n",
              " 'though': 680,\n",
              " 'link': 681,\n",
              " 'morning': 682,\n",
              " 'watching': 683,\n",
              " 'outrage': 684,\n",
              " 'gbbo': 685,\n",
              " 'friends': 686,\n",
              " 'takes': 687,\n",
              " 'former': 688,\n",
              " 'madhya': 689,\n",
              " 'pradesh': 690,\n",
              " 'led': 691,\n",
              " 'gems': 692,\n",
              " 'funtenna': 693,\n",
              " 'reddits': 694,\n",
              " 'subreddits': 695,\n",
              " 'reason': 696,\n",
              " 'across': 697,\n",
              " 'fast': 698,\n",
              " 'side': 699,\n",
              " 'west': 700,\n",
              " 'thousands': 701,\n",
              " 'r': 702,\n",
              " 'climate': 703,\n",
              " 'else': 704,\n",
              " 'huge': 705,\n",
              " 'reported': 706,\n",
              " 'property': 707,\n",
              " 'happened': 708,\n",
              " 'moment': 709,\n",
              " 'book': 710,\n",
              " 'dog': 711,\n",
              " 'seen': 712,\n",
              " 'park': 713,\n",
              " 'major': 714,\n",
              " 'disease': 715,\n",
              " 'hand': 716,\n",
              " 'govt': 717,\n",
              " 'till': 718,\n",
              " 'blue': 719,\n",
              " 'date': 720,\n",
              " 'control': 721,\n",
              " 'caught': 722,\n",
              " 'east': 723,\n",
              " 'green': 724,\n",
              " 'militants': 725,\n",
              " 'damn': 726,\n",
              " 'bombs': 727,\n",
              " 'mount': 728,\n",
              " 'pamela': 729,\n",
              " 'needs': 730,\n",
              " 'playing': 731,\n",
              " 'running': 732,\n",
              " 'tweet': 733,\n",
              " 'low': 734,\n",
              " 'wow': 735,\n",
              " 'fashion': 736,\n",
              " 'pray': 737,\n",
              " 'camp': 738,\n",
              " 'hear': 739,\n",
              " 'chance': 740,\n",
              " 'patience': 741,\n",
              " 'lamp': 742,\n",
              " 'bayelsa': 743,\n",
              " 'parole': 744,\n",
              " 'unconfirmed': 745,\n",
              " 'neighbours': 746,\n",
              " 'chinas': 747,\n",
              " 'colorado': 748,\n",
              " 'haha': 749,\n",
              " 'bring': 750,\n",
              " 'awesome': 751,\n",
              " 'wanted': 752,\n",
              " 'happy': 753,\n",
              " 'america': 754,\n",
              " 'drive': 755,\n",
              " 'france': 756,\n",
              " 'pakistani': 757,\n",
              " 'trust': 758,\n",
              " 'israel': 759,\n",
              " 'potus': 760,\n",
              " 'sign': 761,\n",
              " 'following': 762,\n",
              " 'poor': 763,\n",
              " 'film': 764,\n",
              " 'comes': 765,\n",
              " 'escape': 766,\n",
              " 'gt': 767,\n",
              " 'russia': 768,\n",
              " 'isnt': 769,\n",
              " '100': 770,\n",
              " 'learn': 771,\n",
              " 'arrested': 772,\n",
              " 'true': 773,\n",
              " 'waving': 774,\n",
              " 'geller': 775,\n",
              " 'worst': 776,\n",
              " 'ebola': 777,\n",
              " 'enough': 778,\n",
              " 'dude': 779,\n",
              " 'pain': 780,\n",
              " 'entire': 781,\n",
              " 'info': 782,\n",
              " 'large': 783,\n",
              " 'tote': 784,\n",
              " 'handbag': 785,\n",
              " 'spot': 786,\n",
              " 'libya': 787,\n",
              " '70th': 788,\n",
              " 'holding': 789,\n",
              " 'aug': 790,\n",
              " 'mph': 791,\n",
              " 'ppl': 792,\n",
              " 'confirmed': 793,\n",
              " 'don\\x89ûªt': 794,\n",
              " 'emmerdale': 795,\n",
              " 'york': 796,\n",
              " 'quiz': 797,\n",
              " 'apollo': 798,\n",
              " 'cree': 799,\n",
              " 'islam': 800,\n",
              " 'nigerian': 801,\n",
              " 'aba': 802,\n",
              " 'site': 803,\n",
              " 'ave': 804,\n",
              " 'talk': 805,\n",
              " 'seeing': 806,\n",
              " 'behind': 807,\n",
              " '15': 808,\n",
              " 'wrong': 809,\n",
              " 'suspect': 810,\n",
              " 'twelve': 811,\n",
              " 'crazy': 812,\n",
              " 'kills': 813,\n",
              " 'driver': 814,\n",
              " 'safety': 815,\n",
              " 'working': 816,\n",
              " 'japanese': 817,\n",
              " 'gop': 818,\n",
              " 'feeling': 819,\n",
              " 'driving': 820,\n",
              " 'public': 821,\n",
              " 'pretty': 822,\n",
              " 'ahead': 823,\n",
              " 'online': 824,\n",
              " 'turn': 825,\n",
              " 'follow': 826,\n",
              " 'told': 827,\n",
              " 'aint': 828,\n",
              " 'rock': 829,\n",
              " 'investigating': 830,\n",
              " 'thursday': 831,\n",
              " 'businesses': 832,\n",
              " 'parents': 833,\n",
              " 'become': 834,\n",
              " 'china': 835,\n",
              " 'delivers': 836,\n",
              " 'isis': 837,\n",
              " 'passengers': 838,\n",
              " 'alarm': 839,\n",
              " 'sick': 840,\n",
              " '12000': 841,\n",
              " 'crematoria': 842,\n",
              " 'provoke': 843,\n",
              " 'offroad': 844,\n",
              " 'jonathan': 845,\n",
              " 'governor': 846,\n",
              " 'sky': 847,\n",
              " 'secret': 848,\n",
              " '2013': 849,\n",
              " 'double': 850,\n",
              " 'scene': 851,\n",
              " 'global': 852,\n",
              " 'gtgt': 853,\n",
              " 'thinking': 854,\n",
              " '11': 855,\n",
              " 'ready': 856,\n",
              " 'wild': 857,\n",
              " 'horse': 858,\n",
              " 'radio': 859,\n",
              " 'mod': 860,\n",
              " 'scared': 861,\n",
              " 'give': 862,\n",
              " 'department': 863,\n",
              " 'earth': 864,\n",
              " 'ca': 865,\n",
              " 'lmao': 866,\n",
              " 'okay': 867,\n",
              " 'shift': 868,\n",
              " 'looking': 869,\n",
              " 'niggas': 870,\n",
              " 'living': 871,\n",
              " 'party': 872,\n",
              " 'falling': 873,\n",
              " 'arent': 874,\n",
              " 'broke': 875,\n",
              " 'faux': 876,\n",
              " 'middle': 877,\n",
              " 'coast': 878,\n",
              " 'likely': 879,\n",
              " 'western': 880,\n",
              " 'sad': 881,\n",
              " 'instead': 882,\n",
              " 'fans': 883,\n",
              " 'sea': 884,\n",
              " 'enugu': 885,\n",
              " 'spring': 886,\n",
              " 'wonder': 887,\n",
              " 'wrought': 888,\n",
              " 'internally': 889,\n",
              " 'brooklyn': 890,\n",
              " 'travel': 891,\n",
              " 'smoke': 892,\n",
              " 'happening': 893,\n",
              " 'london': 894,\n",
              " 'metal': 895,\n",
              " 'taking': 896,\n",
              " 'alone': 897,\n",
              " 'upon': 898,\n",
              " 'involving': 899,\n",
              " 'dies': 900,\n",
              " 'turned': 901,\n",
              " '16': 902,\n",
              " 'financial': 903,\n",
              " 'tried': 904,\n",
              " 'wednesday': 905,\n",
              " 'mode': 906,\n",
              " 'serious': 907,\n",
              " 'reuters': 908,\n",
              " 'pakistan': 909,\n",
              " 'country': 910,\n",
              " 'wasnt': 911,\n",
              " 'total': 912,\n",
              " 'dad': 913,\n",
              " 'bed': 914,\n",
              " 'prepare': 915,\n",
              " 'vote': 916,\n",
              " 'linked': 917,\n",
              " 'million': 918,\n",
              " 'gave': 919,\n",
              " 'internet': 920,\n",
              " 'response': 921,\n",
              " 'louis': 922,\n",
              " 'album': 923,\n",
              " 'added': 924,\n",
              " 'occurred': 925,\n",
              " 'australia': 926,\n",
              " 'miss': 927,\n",
              " 'research': 928,\n",
              " 'cut': 929,\n",
              " 'problem': 930,\n",
              " 'future': 931,\n",
              " 'firefighters': 932,\n",
              " 'e': 933,\n",
              " 'silver': 934,\n",
              " 'cold': 935,\n",
              " 'giving': 936,\n",
              " 'walking': 937,\n",
              " 'soul': 938,\n",
              " 'metro': 939,\n",
              " 'biggest': 940,\n",
              " 'standard': 941,\n",
              " 'strike': 942,\n",
              " 'purse': 943,\n",
              " 'saying': 944,\n",
              " 'point': 945,\n",
              " 'small': 946,\n",
              " 'washington': 947,\n",
              " 'gunman': 948,\n",
              " 'ground': 949,\n",
              " 'nagasaki': 950,\n",
              " 'worse': 951,\n",
              " 'different': 952,\n",
              " 'x': 953,\n",
              " 'press': 954,\n",
              " 'planned': 955,\n",
              " 'sounds': 956,\n",
              " 'account': 957,\n",
              " 'british': 958,\n",
              " 'gas': 959,\n",
              " 'absolutely': 960,\n",
              " 'worlds': 961,\n",
              " 'guide': 962,\n",
              " 'uk': 963,\n",
              " 'flight': 964,\n",
              " 'interesting': 965,\n",
              " 'international': 966,\n",
              " 'smaug': 967,\n",
              " 'sensorsenso': 968,\n",
              " 'struggles': 969,\n",
              " 'apc': 970,\n",
              " 'specially': 971,\n",
              " 'allows': 972,\n",
              " '1980': 973,\n",
              " 'alabama': 974,\n",
              " 'cameroon': 975,\n",
              " 'orders': 976,\n",
              " 'causes': 977,\n",
              " 'season': 978,\n",
              " 'wife': 979,\n",
              " 'setting': 980,\n",
              " 'later': 981,\n",
              " 'means': 982,\n",
              " 'students': 983,\n",
              " 'blocked': 984,\n",
              " 'risk': 985,\n",
              " 'using': 986,\n",
              " 'guess': 987,\n",
              " 'wants': 988,\n",
              " 'begin': 989,\n",
              " 'members': 990,\n",
              " 'victim': 991,\n",
              " 'ship': 992,\n",
              " 'petition': 993,\n",
              " '17': 994,\n",
              " 'feat': 995,\n",
              " 'survivors': 996,\n",
              " 'syrian': 997,\n",
              " 'salt': 998,\n",
              " 'kinda': 999,\n",
              " 'played': 1000,\n",
              " ...}"
            ]
          },
          "metadata": {
            "tags": []
          },
          "execution_count": 69
        }
      ]
    },
    {
      "cell_type": "code",
      "metadata": {
        "id": "FYw7jGAatiuc"
      },
      "source": [
        "train_sequences = tokenizer.texts_to_sequences(train_sentences)\n",
        "val_sequences = tokenizer.texts_to_sequences(val_sentences)"
      ],
      "execution_count": 70,
      "outputs": []
    },
    {
      "cell_type": "code",
      "metadata": {
        "colab": {
          "base_uri": "https://localhost:8080/"
        },
        "id": "SoG9l1axtitZ",
        "outputId": "455e3dfb-f1d5-42a4-b401-52a183d6ccb4"
      },
      "source": [
        "\n",
        "print(train_sentences[10:15])\n",
        "print(train_sequences[10:15])"
      ],
      "execution_count": 71,
      "outputs": [
        {
          "output_type": "stream",
          "text": [
            "10                      three people died heat wave far\n",
            "11    haha south tampa getting flooded hah wait seco...\n",
            "12    raining flooding florida tampabay tampa 18 19 ...\n",
            "13                      flood bago myanmar arrived bago\n",
            "14        damage school bus 80 multi car crash breaking\n",
            "Name: text, dtype: object\n",
            "[[520, 8, 395, 156, 297, 411], [749, 470, 2248, 138, 2249, 2813, 521, 611, 188, 470, 2248, 189, 189, 5679, 117], [2814, 117, 1884, 5680, 2248, 1285, 1450, 522, 256, 644, 2815], [99, 3742, 612, 1451, 3742], [111, 91, 336, 3743, 3744, 52, 22, 312]]\n"
          ],
          "name": "stdout"
        }
      ]
    },
    {
      "cell_type": "code",
      "metadata": {
        "colab": {
          "base_uri": "https://localhost:8080/"
        },
        "id": "un4l9_e1tikk",
        "outputId": "74b3494c-c4ae-4960-cefd-245af2fee5eb"
      },
      "source": [
        "\n",
        "# Pad the sequences to have the same length\n",
        "from tensorflow.keras.preprocessing.sequence import pad_sequences\n",
        "\n",
        "# Max number of words in a sequence\n",
        "max_length = 20\n",
        "\n",
        "train_padded = pad_sequences(train_sequences, maxlen=max_length, padding=\"post\", truncating=\"post\")\n",
        "val_padded = pad_sequences(val_sequences, maxlen=max_length, padding=\"post\", truncating=\"post\")\n",
        "train_padded.shape, val_padded.shape"
      ],
      "execution_count": 72,
      "outputs": [
        {
          "output_type": "execute_result",
          "data": {
            "text/plain": [
              "((6090, 20), (1523, 20))"
            ]
          },
          "metadata": {
            "tags": []
          },
          "execution_count": 72
        }
      ]
    },
    {
      "cell_type": "code",
      "metadata": {
        "id": "1Me5Gca1F0Gu"
      },
      "source": [
        "# Need this block to get it to work with TensorFlow 2.x\n",
        "import numpy as np\n",
        "training_padded = np.array(train_padded)\n",
        "training_labels = np.array(train_labels)\n",
        "testing_padded = np.array(val_padded)\n",
        "testing_labels = np.array(val_labels)"
      ],
      "execution_count": 73,
      "outputs": []
    },
    {
      "cell_type": "code",
      "metadata": {
        "colab": {
          "base_uri": "https://localhost:8080/"
        },
        "id": "pAMp5Xr8tiji",
        "outputId": "6f5747f0-01ad-4cb8-bca0-d3934af0d84a"
      },
      "source": [
        "\n",
        "print(train_sentences[10])\n",
        "print(train_sequences[10])\n",
        "print(train_padded[10])"
      ],
      "execution_count": 74,
      "outputs": [
        {
          "output_type": "stream",
          "text": [
            "three people died heat wave far\n",
            "[520, 8, 395, 156, 297, 411]\n",
            "[520   8 395 156 297 411   0   0   0   0   0   0   0   0   0   0   0   0\n",
            "   0   0]\n"
          ],
          "name": "stdout"
        }
      ]
    },
    {
      "cell_type": "code",
      "metadata": {
        "id": "KU1b8B8Mtiig"
      },
      "source": [
        "# Check reversing the indices\n",
        "\n",
        "# flip (key, value)\n",
        "# reverse_word_index = dict([(idx, word) for (word, idx) in word_index.items()])"
      ],
      "execution_count": 75,
      "outputs": []
    },
    {
      "cell_type": "code",
      "metadata": {
        "id": "Q5VwvIMztiYs"
      },
      "source": [
        "# reverse_word_index"
      ],
      "execution_count": null,
      "outputs": []
    },
    {
      "cell_type": "code",
      "metadata": {
        "id": "kBYIYARxuo6j"
      },
      "source": [
        "\n",
        "# def decode(sequence):\n",
        "#     return \" \".join([reverse_word_index.get(idx, \"?\") for idx in sequence])"
      ],
      "execution_count": null,
      "outputs": []
    },
    {
      "cell_type": "code",
      "metadata": {
        "id": "2t4qiwVWur5k"
      },
      "source": [
        "# decoded_text = decode(train_sequences[10])\n",
        "\n",
        "# print(train_sequences[10])\n",
        "# print(decoded_text)"
      ],
      "execution_count": null,
      "outputs": []
    },
    {
      "cell_type": "code",
      "metadata": {
        "colab": {
          "base_uri": "https://localhost:8080/"
        },
        "id": "uo4ual8iur4M",
        "outputId": "d3c1abf9-79bc-4b08-b4f5-cddfc8ad8922"
      },
      "source": [
        "# Create LSTM model\n",
        "from tensorflow.keras import layers\n",
        "\n",
        "# Embedding: https://www.tensorflow.org/tutorials/text/word_embeddings\n",
        "# Turns positive integers (indexes) into dense vectors of fixed size. (other approach could be one-hot-encoding)\n",
        "\n",
        "# Word embeddings give us a way to use an efficient, dense representation in which similar words have \n",
        "# a similar encoding. Importantly, you do not have to specify this encoding by hand. An embedding is a \n",
        "# dense vector of floating point values (the length of the vector is a parameter you specify).\n",
        "\n",
        "model = keras.models.Sequential()\n",
        "model.add(layers.Embedding(num_unique_words, 32, input_length=max_length))\n",
        "\n",
        "# The layer will take as input an integer matrix of size (batch, input_length),\n",
        "# and the largest integer (i.e. word index) in the input should be no larger than num_words (vocabulary size).\n",
        "# Now model.output_shape is (None, input_length, 32), where `None` is the batch dimension.\n",
        "\n",
        "\n",
        "model.add(layers.LSTM(64, dropout=0.1))\n",
        "model.add(layers.Dense(1, activation=\"sigmoid\"))\n",
        "\n",
        "model.summary()"
      ],
      "execution_count": 111,
      "outputs": [
        {
          "output_type": "stream",
          "text": [
            "Model: \"sequential_3\"\n",
            "_________________________________________________________________\n",
            "Layer (type)                 Output Shape              Param #   \n",
            "=================================================================\n",
            "embedding_5 (Embedding)      (None, 20, 32)            575072    \n",
            "_________________________________________________________________\n",
            "lstm_2 (LSTM)                (None, 64)                24832     \n",
            "_________________________________________________________________\n",
            "dense_5 (Dense)              (None, 1)                 65        \n",
            "=================================================================\n",
            "Total params: 599,969\n",
            "Trainable params: 599,969\n",
            "Non-trainable params: 0\n",
            "_________________________________________________________________\n"
          ],
          "name": "stdout"
        }
      ]
    },
    {
      "cell_type": "code",
      "metadata": {
        "id": "rYGHS7pWHZwP"
      },
      "source": [
        "from tensorflow.keras import layers\n",
        "\n",
        "model = tf.keras.Sequential([\n",
        "    tf.keras.layers.Embedding(num_unique_words, 32, input_length=max_length),\n",
        "    # tf.keras.layers.GlobalAveragePooling1D(),\n",
        "    # tf.keras.layers.Dense(24, activation='relu'),\n",
        "    tf.keras.layers.LSTM(64, dropout=0.1),\n",
        "    # model.add(layers.LSTM(64, dropout=0.1)),\n",
        "    tf.keras.layers.Dense(1, activation='sigmoid')\n",
        "])\n",
        "model.compile(loss='binary_crossentropy',optimizer='adam',metrics=['accuracy'])"
      ],
      "execution_count": 113,
      "outputs": []
    },
    {
      "cell_type": "code",
      "metadata": {
        "colab": {
          "base_uri": "https://localhost:8080/"
        },
        "id": "kSEB-Nu2HrCv",
        "outputId": "42b44148-909f-46fb-83cd-772dc9021c00"
      },
      "source": [
        "model.summary()\n"
      ],
      "execution_count": 114,
      "outputs": [
        {
          "output_type": "stream",
          "text": [
            "Model: \"sequential_5\"\n",
            "_________________________________________________________________\n",
            "Layer (type)                 Output Shape              Param #   \n",
            "=================================================================\n",
            "embedding_7 (Embedding)      (None, 20, 32)            575072    \n",
            "_________________________________________________________________\n",
            "lstm_4 (LSTM)                (None, 64)                24832     \n",
            "_________________________________________________________________\n",
            "dense_7 (Dense)              (None, 1)                 65        \n",
            "=================================================================\n",
            "Total params: 599,969\n",
            "Trainable params: 599,969\n",
            "Non-trainable params: 0\n",
            "_________________________________________________________________\n"
          ],
          "name": "stdout"
        }
      ]
    },
    {
      "cell_type": "code",
      "metadata": {
        "id": "3kIo0209uruU"
      },
      "source": [
        "\n",
        "# loss = keras.losses.BinaryCrossentropy(from_logits=False)\n",
        "# optim = keras.optimizers.Adam(lr=0.001)\n",
        "# metrics = [\"accuracy\"]\n",
        "\n",
        "# model.compile(loss=loss, optimizer=optim, metrics=metrics)"
      ],
      "execution_count": 115,
      "outputs": []
    },
    {
      "cell_type": "code",
      "metadata": {
        "colab": {
          "base_uri": "https://localhost:8080/"
        },
        "id": "DGxW_nD7urr7",
        "outputId": "cea1bba5-d9a4-4c11-cb42-f32036fbe0d0"
      },
      "source": [
        "history = model.fit(train_padded, train_labels, epochs=5, validation_data=(val_padded, val_labels), verbose=2)"
      ],
      "execution_count": 116,
      "outputs": [
        {
          "output_type": "stream",
          "text": [
            "Epoch 1/5\n",
            "191/191 - 5s - loss: 0.5565 - accuracy: 0.7108 - val_loss: 0.4944 - val_accuracy: 0.7741\n",
            "Epoch 2/5\n",
            "191/191 - 2s - loss: 0.3000 - accuracy: 0.8828 - val_loss: 0.5931 - val_accuracy: 0.7597\n",
            "Epoch 3/5\n",
            "191/191 - 2s - loss: 0.1632 - accuracy: 0.9479 - val_loss: 0.5549 - val_accuracy: 0.7722\n",
            "Epoch 4/5\n",
            "191/191 - 1s - loss: 0.1221 - accuracy: 0.9632 - val_loss: 0.5833 - val_accuracy: 0.7511\n",
            "Epoch 5/5\n",
            "191/191 - 2s - loss: 0.0866 - accuracy: 0.9755 - val_loss: 0.7443 - val_accuracy: 0.7656\n"
          ],
          "name": "stdout"
        }
      ]
    },
    {
      "cell_type": "code",
      "metadata": {
        "colab": {
          "base_uri": "https://localhost:8080/",
          "height": 541
        },
        "id": "SNyEkszcH2Yj",
        "outputId": "bc4cb9e4-5089-48b2-8fd4-4eb9d0f98c27"
      },
      "source": [
        "import matplotlib.pyplot as plt\n",
        "\n",
        "\n",
        "def plot_graphs(history, string):\n",
        "  plt.plot(history.history[string])\n",
        "  plt.plot(history.history['val_'+string])\n",
        "  plt.xlabel(\"Epochs\")\n",
        "  plt.ylabel(string)\n",
        "  plt.legend([string, 'val_'+string])\n",
        "  plt.show()\n",
        "  \n",
        "plot_graphs(history, \"accuracy\")\n",
        "plot_graphs(history, \"loss\")"
      ],
      "execution_count": 117,
      "outputs": [
        {
          "output_type": "display_data",
          "data": {
            "image/png": "[encoded data removed]",
            "text/plain": [
              "<Figure size 432x288 with 1 Axes>"
            ]
          },
          "metadata": {
            "tags": [],
            "needs_background": "light"
          }
        },
        {
          "output_type": "display_data",
          "data": {
            "image/png": "[encoded data removed]",
            "text/plain": [
              "<Figure size 432x288 with 1 Axes>"
            ]
          },
          "metadata": {
            "tags": [],
            "needs_background": "light"
          }
        }
      ]
    },
    {
      "cell_type": "code",
      "metadata": {
        "colab": {
          "base_uri": "https://localhost:8080/"
        },
        "id": "sZ7LtmC2IlLp",
        "outputId": "f90ceace-8e5b-488c-90b3-1a016c0f29fb"
      },
      "source": [
        "reverse_word_index = dict([(value, key) for (key, value) in word_index.items()])\n",
        "\n",
        "def decode_sentence(text):\n",
        "    return ' '.join([reverse_word_index.get(i, '?') for i in text])\n",
        "\n",
        "print(decode_sentence(train_padded[2]))\n",
        "print(train_sentences[2])\n",
        "print(train_labels[2])"
      ],
      "execution_count": 118,
      "outputs": [
        {
          "output_type": "stream",
          "text": [
            "residents asked shelter place notified officers evacuation shelter place orders expected ? ? ? ? ? ? ? ? ?\n",
            "residents asked shelter place notified officers evacuation shelter place orders expected\n",
            "1\n"
          ],
          "name": "stdout"
        }
      ]
    },
    {
      "cell_type": "code",
      "metadata": {
        "colab": {
          "base_uri": "https://localhost:8080/"
        },
        "id": "HhrhE5G4JDir",
        "outputId": "2456e3c7-74f8-4ae3-e8d2-5eda4527f88d"
      },
      "source": [
        "train_padded"
      ],
      "execution_count": 119,
      "outputs": [
        {
          "output_type": "execute_result",
          "data": {
            "text/plain": [
              "array([[ 3739,   696,   235, ...,     0,     0,     0],\n",
              "       [   71,     3,   129, ...,     0,     0,     0],\n",
              "       [ 1448,  1186,  1882, ...,     0,     0,     0],\n",
              "       ...,\n",
              "       [  151,     1,  1256, ...,     0,     0,     0],\n",
              "       [ 1256,   448,    15, ...,     0,     0,     0],\n",
              "       [15469,   151,   204, ...,     0,     0,     0]], dtype=int32)"
            ]
          },
          "metadata": {
            "tags": []
          },
          "execution_count": 119
        }
      ]
    },
    {
      "cell_type": "code",
      "metadata": {
        "id": "IULlrkMbZubr"
      },
      "source": [
        "predictions = model.predict(train_padded)"
      ],
      "execution_count": 120,
      "outputs": []
    },
    {
      "cell_type": "code",
      "metadata": {
        "colab": {
          "base_uri": "https://localhost:8080/"
        },
        "id": "MPIV_7xHakEi",
        "outputId": "d608e23b-1668-4065-ccfe-945f206bbb06"
      },
      "source": [
        "predictions"
      ],
      "execution_count": 121,
      "outputs": [
        {
          "output_type": "execute_result",
          "data": {
            "text/plain": [
              "array([[0.98842466],\n",
              "       [0.9969734 ],\n",
              "       [0.9941645 ],\n",
              "       ...,\n",
              "       [0.00653304],\n",
              "       [0.00568664],\n",
              "       [0.00614526]], dtype=float32)"
            ]
          },
          "metadata": {
            "tags": []
          },
          "execution_count": 121
        }
      ]
    },
    {
      "cell_type": "code",
      "metadata": {
        "id": "qySinGQtu_pD"
      },
      "source": [
        "\n",
        "predictions = model.predict(train_padded)\n",
        "predictions = [1 if p > 0.5 else 0 for p in predictions]"
      ],
      "execution_count": 122,
      "outputs": []
    },
    {
      "cell_type": "code",
      "metadata": {
        "colab": {
          "base_uri": "https://localhost:8080/"
        },
        "id": "lD2YVUGMvCGM",
        "outputId": "40258256-7620-4bfc-c03b-9f30d5d49fae"
      },
      "source": [
        "\n",
        "print(train_sentences[10:20])\n",
        "\n",
        "print(train_labels[10:20])\n",
        "print(predictions[10:20])"
      ],
      "execution_count": 123,
      "outputs": [
        {
          "output_type": "stream",
          "text": [
            "10                      three people died heat wave far\n",
            "11    haha south tampa getting flooded hah wait seco...\n",
            "12    raining flooding florida tampabay tampa 18 19 ...\n",
            "13                      flood bago myanmar arrived bago\n",
            "14        damage school bus 80 multi car crash breaking\n",
            "15                                            whats man\n",
            "16                                          love fruits\n",
            "17                                        summer lovely\n",
            "18                                             car fast\n",
            "19                                      goooooooaaaaaal\n",
            "Name: text, dtype: object\n",
            "10    1\n",
            "11    1\n",
            "12    1\n",
            "13    1\n",
            "14    1\n",
            "15    0\n",
            "16    0\n",
            "17    0\n",
            "18    0\n",
            "19    0\n",
            "Name: target, dtype: int64\n",
            "[1, 1, 1, 1, 1, 0, 0, 0, 0, 0]\n"
          ],
          "name": "stdout"
        }
      ]
    }
  ]
}